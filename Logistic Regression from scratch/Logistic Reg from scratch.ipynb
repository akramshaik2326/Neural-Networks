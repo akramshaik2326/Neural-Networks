{
  "nbformat": 4,
  "nbformat_minor": 0,
  "metadata": {
    "kernelspec": {
      "display_name": "Python 3",
      "language": "python",
      "name": "python3"
    },
    "language_info": {
      "codemirror_mode": {
        "name": "ipython",
        "version": 3
      },
      "file_extension": ".py",
      "mimetype": "text/x-python",
      "name": "python",
      "nbconvert_exporter": "python",
      "pygments_lexer": "ipython3",
      "version": "3.7.3"
    },
    "colab": {
      "name": "Assignment2.ipynb",
      "provenance": [],
      "collapsed_sections": []
    }
  },
  "cells": [
    {
      "cell_type": "code",
      "metadata": {
        "id": "J6rh_V4gO8Bq"
      },
      "source": [
        "#importing pandas library to create a dataframe\n",
        "# importing numpy for creating matrices to perform mathematical operations which are fast in numpy like dot product\n",
        "# imprting matplotlib for plotting dataset\n",
        "#importing time to measure total program execution time\n",
        "import pandas as pd\n",
        "import numpy as np\n",
        "import matplotlib.pyplot as plt\n",
        "import time\n",
        "\n",
        "np.random.seed(12)\n",
        "num_observations = 5000"
      ],
      "execution_count": null,
      "outputs": []
    },
    {
      "cell_type": "code",
      "metadata": {
        "id": "68HTJcbFO8Bt"
      },
      "source": [
        "# creating random data for x1 and x2 features\n",
        "x1 = np.random.multivariate_normal([0,0],[[1, .75],[.75,1]], num_observations)\n",
        "x2 = np.random.multivariate_normal([1,4],[[1, .75],[.75,1]], num_observations)"
      ],
      "execution_count": null,
      "outputs": []
    },
    {
      "cell_type": "code",
      "metadata": {
        "id": "VFQHV1TqO8Bv"
      },
      "source": [
        "# merging features x1 and x1 into one array\n",
        "features = np.vstack((x1,x2)).astype(np.float32)\n",
        "# creating labels array of class +1 and -1\n",
        "labels = np.hstack((np.full(num_observations, -1), np.ones(num_observations)))"
      ],
      "execution_count": null,
      "outputs": []
    },
    {
      "cell_type": "code",
      "metadata": {
        "id": "6t2pVqNQO8Bx",
        "colab": {
          "base_uri": "https://localhost:8080/",
          "height": 34
        },
        "outputId": "4090f8b0-98cc-401d-8a2c-1598d6923c5f"
      },
      "source": [
        "# shapes of features and labels\n",
        "print(features.shape, labels.shape)"
      ],
      "execution_count": null,
      "outputs": [
        {
          "output_type": "stream",
          "text": [
            "(10000, 2) (10000,)\n"
          ],
          "name": "stdout"
        }
      ]
    },
    {
      "cell_type": "code",
      "metadata": {
        "id": "sQ2BTFPpO8Bz",
        "colab": {
          "base_uri": "https://localhost:8080/",
          "height": 134
        },
        "outputId": "d5c91ec7-fb9f-4282-86f2-2ad8faf88903"
      },
      "source": [
        "features"
      ],
      "execution_count": null,
      "outputs": [
        {
          "output_type": "execute_result",
          "data": {
            "text/plain": [
              "array([[-0.2015173 , -0.6833582 ],\n",
              "       [ 0.37451947, -0.8280822 ],\n",
              "       [-0.16189468, -1.2471066 ],\n",
              "       ...,\n",
              "       [ 2.3255963 ,  4.181329  ],\n",
              "       [ 0.24707289,  4.2294044 ],\n",
              "       [ 1.7190224 ,  4.8253503 ]], dtype=float32)"
            ]
          },
          "metadata": {
            "tags": []
          },
          "execution_count": 5
        }
      ]
    },
    {
      "cell_type": "code",
      "metadata": {
        "id": "WFS6HBO8O8B1",
        "colab": {
          "base_uri": "https://localhost:8080/",
          "height": 34
        },
        "outputId": "6999197a-ae77-410e-c9a0-e69c61dae07d"
      },
      "source": [
        "labels"
      ],
      "execution_count": null,
      "outputs": [
        {
          "output_type": "execute_result",
          "data": {
            "text/plain": [
              "array([-1., -1., -1., ...,  1.,  1.,  1.])"
            ]
          },
          "metadata": {
            "tags": []
          },
          "execution_count": 6
        }
      ]
    },
    {
      "cell_type": "code",
      "metadata": {
        "id": "Xt4VJiEcO8B3",
        "colab": {
          "base_uri": "https://localhost:8080/",
          "height": 413
        },
        "outputId": "1b3709fd-8e3a-4f47-c874-8a54380b182c"
      },
      "source": [
        "# creating dataframe to join features and labels and generate plot\n",
        "df=pd.DataFrame(features)\n",
        "df['class']=labels\n",
        "print(df.head())\n",
        "# grouping data with class or label\n",
        "groups = df.groupby(\"class\")\n",
        "for name, group in groups:\n",
        "    plt.plot(group[0], group[1], marker=\"o\", linestyle=\"\", label=name, linewidth=0.4,alpha=0.4)\n",
        "plt.legend()\n",
        "plt.title('scatter plot')\n",
        "plt.xlabel('x1')\n",
        "plt.ylabel('x2')"
      ],
      "execution_count": null,
      "outputs": [
        {
          "output_type": "stream",
          "text": [
            "          0         1  class\n",
            "0 -0.201517 -0.683358   -1.0\n",
            "1  0.374519 -0.828082   -1.0\n",
            "2 -0.161895 -1.247107   -1.0\n",
            "3  0.037711 -0.047303   -1.0\n",
            "4 -0.260479  1.770204   -1.0\n"
          ],
          "name": "stdout"
        },
        {
          "output_type": "execute_result",
          "data": {
            "text/plain": [
              "Text(0, 0.5, 'x2')"
            ]
          },
          "metadata": {
            "tags": []
          },
          "execution_count": 7
        },
        {
          "output_type": "display_data",
          "data": {
            "image/png": "[encoded data removed]",
            "text/plain": [
              "<Figure size 432x288 with 1 Axes>"
            ]
          },
          "metadata": {
            "tags": [],
            "needs_background": "light"
          }
        }
      ]
    },
    {
      "cell_type": "code",
      "metadata": {
        "id": "g_uI7ZoSO8B5"
      },
      "source": [
        "# total data contains 10000 samples so here we split data with 80% for train and 20% for test with sklearn library\n",
        "from sklearn.model_selection import train_test_split\n",
        "X_train, X_test, y_train, y_test = train_test_split(features, labels, random_state=1, train_size=0.80, test_size=0.20)"
      ],
      "execution_count": null,
      "outputs": []
    },
    {
      "cell_type": "code",
      "metadata": {
        "id": "OZiKfxO8O8B7",
        "colab": {
          "base_uri": "https://localhost:8080/",
          "height": 50
        },
        "outputId": "2f6a9e45-b06b-4a5f-8f7a-497c666d4036"
      },
      "source": [
        "# printing shapes of data \n",
        "print(X_train.shape, X_test.shape)\n",
        "print(y_train.shape, y_test.shape)"
      ],
      "execution_count": null,
      "outputs": [
        {
          "output_type": "stream",
          "text": [
            "(8000, 2) (2000, 2)\n",
            "(8000,) (2000,)\n"
          ],
          "name": "stdout"
        }
      ]
    },
    {
      "cell_type": "markdown",
      "metadata": {
        "id": "Pot6JDGFO8CA"
      },
      "source": [
        "### ![image.png](attachment:image.png)"
      ]
    },
    {
      "cell_type": "code",
      "metadata": {
        "id": "7Ae5H1prO8CA"
      },
      "source": [
        "# above image is the cost function\n",
        "# cost function takes 3 parameters features, labels and weights and return the total cost\n",
        "# goal of this function to reduce the cost and that depends on weights we get from gradient function\n",
        "def cost_function(features, labels, weights):\n",
        "    # performing dot product on features and weights to get f(x)\n",
        "    f = np.dot(features, weights.T)\n",
        "    # f(x) and -labels are multiplied and its result is passed to sigmoid function\n",
        "    sigma = 1 + np.exp(-labels * f)\n",
        "    # here we apply log function to handle extreme low values from sigma and sum them and finally divide with number of observations\n",
        "    loss = sum(np.log(sigma))/features.shape[0]\n",
        "    return loss"
      ],
      "execution_count": null,
      "outputs": []
    },
    {
      "cell_type": "markdown",
      "metadata": {
        "id": "Ee60_tSZO8CC"
      },
      "source": [
        "### ![image.png](attachment:image.png)"
      ]
    },
    {
      "cell_type": "code",
      "metadata": {
        "id": "GpweMkxMO8CD"
      },
      "source": [
        "# above image is gradient function\n",
        "# gradient function the derivative of cost function which is used to find the optimal weight values\n",
        "# it takes 3 parameters features, labels and weights and returns the gradient which has 2 or 3 weights in array for each row  \n",
        "def cal_gradient(features, labels, weights):\n",
        "    # first we calculate numerator by calculatig labels and features\n",
        "    Num= labels * features.T\n",
        "    # for denominator we need to find f(x) then multiply it with labels and the result is passed to sigmoid\n",
        "    f = np.dot(features, weights.T)\n",
        "    Den= 1+np.exp(labels * f)\n",
        "    # now numerator and denominator is divided \n",
        "    gradient = np.divide(Num, Den).T\n",
        "    # gradient is multiplied with negative sign and divided with number of observations\n",
        "    gradient = -1/features.shape[0] * gradient\n",
        "    return gradient"
      ],
      "execution_count": null,
      "outputs": []
    },
    {
      "cell_type": "code",
      "metadata": {
        "id": "2auEmbwAO8CF"
      },
      "source": [
        "# logistic regression function to generate optimal weights for the data to classify data linearly\n",
        "# it takes 5 parameters features label, number of interations, neeta as learning rate and intercept whose default value is set as False\n",
        "# this returns the optimal weights after all iterations \n",
        "def logistic_regression_PB(features, label, num_steps, learning_rate, bias=False):\n",
        "    # here we initialize bias with if condition is true with all 1's as x3 in features and merge it with original features data passed\n",
        "    if bias:\n",
        "        intercept = np.ones((features.shape[0], 1))\n",
        "        features = np.hstack((intercept, features))\n",
        "    # we initialize weights as many as number of features \n",
        "    weights = np.zeros(features.shape[1])\n",
        "    # looping through iteration given\n",
        "    for step in range(num_steps):\n",
        "        # calling gradient functions which returns weights with or without bias for all rows\n",
        "        gradient = cal_gradient(features, label, weights)\n",
        "        # average gradient takes mean of all gradients and returns weights which has 3 have 3 values if bias is true or 2 values if false as w1 and w2\n",
        "        avg_gradient = np.mean(gradient, axis=0)\n",
        "        # now weights are updates by multiplying with learning rate and subtracting from previous weights\n",
        "        weights -= learning_rate * avg_gradient\n",
        "        # printing cost function and weights for every 1000 interations\n",
        "        if step % 1000 == 0:\n",
        "            print(cost_function(features, label, weights), weights)\n",
        "    # finally optimal weights for given parameters are generated and returned\n",
        "    return weights"
      ],
      "execution_count": null,
      "outputs": []
    },
    {
      "cell_type": "code",
      "metadata": {
        "id": "UbFuT4jaO8CG"
      },
      "source": [
        "# sigmoid function to get values between 0 and 1 it takes f(x) as parameter which is dot product of weights and features\n",
        "def sigmoid(z):\n",
        "    return 1/ (1 + np.exp(-z))"
      ],
      "execution_count": null,
      "outputs": []
    },
    {
      "cell_type": "code",
      "metadata": {
        "id": "9nXgLB4QO8CI",
        "colab": {
          "base_uri": "https://localhost:8080/",
          "height": 120
        },
        "outputId": "4f1c7ca8-5691-4503-be00-dd32fd36f706"
      },
      "source": [
        "# Below code is created for finding optimal parametrs to get best accuracy on model we created \n",
        "# this block is commented out because it take 9 min to execute to execute this just remove the quotes and run it \n",
        "# here we find best value of number of iterations, learning rate and intercept required to generate best accuracy\n",
        "\"\"\"\n",
        "list_steps=[1000, 5000, 10000, 20000, 30000]\n",
        "list_rate=[0.00001, 0.0001, 0.001, 0.01, 0.1]\n",
        "intercept=[True, False]\n",
        "# creating a list to store parameters of model with best accuracy\n",
        "final_vals=[]\n",
        "# initializing accuracy variable\n",
        "final_accuracy=0\n",
        "\n",
        "for step in list_steps:\n",
        "    for rate in list_rate:\n",
        "        for b in intercept:\n",
        "            # calling logistic function and get optimal weights for passed parametrs\n",
        "            weights = logistic_regression_PB(X_train, y_train, step, rate, bias = b)\n",
        "            # creating test fetaures and merging with x3 feature if bias is set to true\n",
        "            X_test1 = X_test\n",
        "            if b == True:\n",
        "                bias1 = np.ones((X_test.shape[0], 1))\n",
        "                X_test1 = np.hstack((bias1, X_test))\n",
        "            # calculating f(x)\n",
        "            scores = np.dot(X_test1, weights)\n",
        "            scores= scores.reshape(X_test.shape[0],1)\n",
        "            # calculating sigmoid to get values between 0 and 1\n",
        "            scores1 = sigmoid(scores)\n",
        "            # calculating predicted values of label or class with condition if sigmoid is less than 0.5 it is -1 and anything else will be +1\n",
        "            preds=[]\n",
        "            for i in scores1:\n",
        "                if i < 0.5:\n",
        "                    preds.append(-1)\n",
        "                else:\n",
        "                    preds.append(1)\n",
        "            # creating list of actual values\n",
        "            actual=list(y_test)\n",
        "            # countimg total correct values\n",
        "            count= sum(1 for i in range(len(actual)) if actual[i]==preds[i])\n",
        "            # calculating accuracy\n",
        "            accuracy = count / float(len(actual)) * 100.0\n",
        "            # the following condition will be true only for 1st iteration \n",
        "            if final_accuracy==0:\n",
        "                final_vals = [step, rate, weights]\n",
        "                final_accuracy = accuracy\n",
        "            # this condition is satisfied if on any parametrs acuuracy is improved then its parametrs and accuracy are stored \n",
        "            if accuracy > final_accuracy:\n",
        "                final_vals = [step, rate, weights]\n",
        "                final_accuracy = accuracy\n",
        "            print()\n",
        "\"\"\""
      ],
      "execution_count": null,
      "outputs": [
        {
          "output_type": "execute_result",
          "data": {
            "application/vnd.google.colaboratory.intrinsic+json": {
              "type": "string"
            },
            "text/plain": [
              "'\\nlist_steps=[1000, 5000, 10000, 20000, 30000]\\nlist_rate=[0.00001, 0.0001, 0.001, 0.01, 0.1]\\nintercept=[True, False]\\n# creating a list to store parameters of model with best accuracy\\nfinal_vals=[]\\n# initializing accuracy variable\\nfinal_accuracy=0\\n\\nfor step in list_steps:\\n    for rate in list_rate:\\n        for b in intercept:\\n            # calling logistic function and get optimal weights for passed parametrs\\n            weights = logistic_regression_PB(X_train, y_train, step, rate, bias = b)\\n            # creating test fetaures and merging with x3 feature if bias is set to true\\n            X_test1 = X_test\\n            if b == True:\\n                bias1 = np.ones((X_test.shape[0], 1))\\n                X_test1 = np.hstack((bias1, X_test))\\n            # calculating f(x)\\n            scores = np.dot(X_test1, weights)\\n            scores= scores.reshape(X_test.shape[0],1)\\n            # calculating sigmoid to get values between 0 and 1\\n            scores1 = sigmoid(scores)\\n            # calculating predicted values of label or class with condition if sigmoid is less than 0.5 it is -1 and anything else will be +1\\n            preds=[]\\n            for i in scores1:\\n                if i < 0.5:\\n                    preds.append(-1)\\n                else:\\n                    preds.append(1)\\n            # creating list of actual values\\n            actual=list(y_test)\\n            # countimg total correct values\\n            count= sum(1 for i in range(len(actual)) if actual[i]==preds[i])\\n            # calculating accuracy\\n            accuracy = count / float(len(actual)) * 100.0\\n            # the following condition will be true only for 1st iteration \\n            if final_accuracy==0:\\n                final_vals = [step, rate, weights]\\n                final_accuracy = accuracy\\n            # this condition is satisfied if on any parametrs acuuracy is improved then its parametrs and accuracy are stored \\n            if accuracy > final_accuracy:\\n                final_vals = [step, rate, weights]\\n                final_accuracy = accuracy\\n            print()\\n'"
            ]
          },
          "metadata": {
            "tags": []
          },
          "execution_count": 14
        }
      ]
    },
    {
      "cell_type": "code",
      "metadata": {
        "id": "XVTbXiYlO8CL",
        "colab": {
          "base_uri": "https://localhost:8080/",
          "height": 52
        },
        "outputId": "9ae4e7da-6789-4dc7-f10e-13516b48f922"
      },
      "source": [
        "\"\"\"\n",
        "# above commented block results can be printed with this print statment\n",
        "print(final_vals, final_accuracy)\n",
        "num_steps =final_vals[0]\n",
        "learning_rate = final_vals[1]\n",
        "b=True\n",
        "if len(final_vals[2])==2:\n",
        "    b = False\n",
        "else:\n",
        "    b = True\n",
        "weights = logistic_regression_PB(X_train, y_train,num_steps, learning_rate, bias = b)\n",
        "\"\"\""
      ],
      "execution_count": null,
      "outputs": [
        {
          "output_type": "execute_result",
          "data": {
            "application/vnd.google.colaboratory.intrinsic+json": {
              "type": "string"
            },
            "text/plain": [
              "'\\n# above commented block results can be printed with this print statment\\nprint(final_vals, final_accuracy)\\nnum_steps =final_vals[0]\\nlearning_rate = final_vals[1]\\nb=True\\nif len(final_vals[2])==2:\\n    b = False\\nelse:\\n    b = True\\nweights = logistic_regression_PB(X_train, y_train,num_steps, learning_rate, bias = b)\\n'"
            ]
          },
          "metadata": {
            "tags": []
          },
          "execution_count": 15
        }
      ]
    },
    {
      "cell_type": "markdown",
      "metadata": {
        "id": "qdn0BHsgO8CN"
      },
      "source": [
        "### running above code gives us this results :\n",
        "### [30000, 0.1, array([-0.02535993,  0.0547477 ,  0.25584046])] 75.64999999999999\n",
        "### here number iteration are 30000, learning rate 0.1, and weights with intercept as [-0.02535993,  0.0547477 ,  0.25584046])]  and accuracy of 75.649"
      ]
    },
    {
      "cell_type": "code",
      "metadata": {
        "id": "hbpXnmZRO8CO",
        "colab": {
          "base_uri": "https://localhost:8080/",
          "height": 521
        },
        "outputId": "c9470e50-b356-4399-c5ae-0c46da453e43"
      },
      "source": [
        "# the resulting parametrs accuracy can be verified with below written code\n",
        "num_steps = 30000\n",
        "learning_rate = 0.1\n",
        "b=True\n",
        "weights = logistic_regression_PB(X_train, y_train,num_steps, learning_rate, bias = b)"
      ],
      "execution_count": null,
      "outputs": [
        {
          "output_type": "stream",
          "text": [
            "0.6931337206415793 [3.28125000e-08 3.12231302e-06 1.25897449e-05]\n",
            "0.680083146349457 [-8.85197818e-06  3.06435509e-03  1.24121779e-02]\n",
            "0.667815241772473 [-9.91089364e-05  6.00628296e-03  2.44402824e-02]\n",
            "0.6562789533135867 [-0.00026782  0.00883305  0.03610968]\n",
            "0.6454256676087143 [-0.00051205  0.01154882  0.0474332 ]\n",
            "0.6352093332931575 [-0.0008289   0.01415776  0.0584236 ]\n",
            "0.6255865193501472 [-0.00121551  0.01666398  0.0690935 ]\n",
            "0.616516421477633 [-0.00166908  0.01907153  0.07945531]\n",
            "0.6079608270538884 [-0.00218685  0.02138437  0.08952115]\n",
            "0.5998840481637344 [-0.00276617  0.02360636  0.09930282]\n",
            "0.592252830908218 [-0.00340444  0.02574123  0.10881174]\n",
            "0.5850362479670558 [-0.00409918  0.02779259  0.11805898]\n",
            "0.5782055801862247 [-0.00484799  0.02976393  0.1270552 ]\n",
            "0.5717341918679637 [-0.00564854  0.03165858  0.13581062]\n",
            "0.5655974034697947 [-0.00649862  0.03347977  0.1443351 ]\n",
            "0.5597723645817023 [-0.00739612  0.03523055  0.15263803]\n",
            "0.5542379293434073 [-0.00833899  0.03691386  0.16072843]\n",
            "0.5489745358785991 [-0.00932529  0.0385325   0.16861492]\n",
            "0.5439640908470481 [-0.01035316  0.04008916  0.1763057 ]\n",
            "0.5391898598355808 [-0.01142084  0.04158636  0.18380862]\n",
            "0.5346363640099566 [-0.01252663  0.04302654  0.19113115]\n",
            "0.5302892832197158 [-0.01366893  0.04441201  0.19828042]\n",
            "0.526135365573709 [-0.01484619  0.04574497  0.2052632 ]\n",
            "0.5221623433758644 [-0.01605696  0.0470275   0.21208597]\n",
            "0.5183588552187357 [-0.01729985  0.04826159  0.21875487]\n",
            "0.5147143739694628 [-0.01857351  0.04944914  0.22527576]\n",
            "0.5112191403422022 [-0.0198767   0.05059194  0.23165422]\n",
            "0.5078641017279174 [-0.0212082   0.0516917   0.23789556]\n",
            "0.5046408559421707 [-0.02256686  0.05275006  0.24400484]\n",
            "0.5015415995510415 [-0.02395159  0.05376855  0.24998687]\n"
          ],
          "name": "stdout"
        }
      ]
    },
    {
      "cell_type": "code",
      "metadata": {
        "id": "RfJtRkndO8CP"
      },
      "source": [
        "# creating test fetaures and merging with x3 feature if bias is set to true\n",
        "X_test1 = X_test\n",
        "if b:\n",
        "    bias1 = np.ones((X_test.shape[0], 1))\n",
        "    X_test1 = np.hstack((bias1, X_test))\n",
        "# calculating f(x)\n",
        "scores = np.dot(X_test1, weights.T)\n",
        "scores= scores.reshape(X_test.shape[0],1)\n",
        "# calculating sigmoid to get values between 0 and 1\n",
        "scores1 = sigmoid(scores)\n",
        "# calculating predicted values of label or class with condition if sigmoid is less than 0.5 it is -1 and anything else will be +1\n",
        "preds=[]\n",
        "for i in scores1:\n",
        "    if i < 0.5:\n",
        "        preds.append(-1)\n",
        "    else:\n",
        "        preds.append(1)\n"
      ],
      "execution_count": null,
      "outputs": []
    },
    {
      "cell_type": "code",
      "metadata": {
        "id": "W50BH_tVO8CR",
        "colab": {
          "base_uri": "https://localhost:8080/",
          "height": 34
        },
        "outputId": "fd0a4f44-db34-4726-ad66-d6db155172fb"
      },
      "source": [
        "# creating list of actual values\n",
        "actual=list(y_test)\n",
        "# calculating count for correctly predicted values with actual values\n",
        "count= sum(1 for i in range(len(actual)) if actual[i]==preds[i])\n",
        "# calculating accuracy\n",
        "accuracy = count / float(len(actual)) * 100.0\n",
        "print(\"logistic from scratch Test Accuracy is: %.2f percent!\" %accuracy )\n"
      ],
      "execution_count": null,
      "outputs": [
        {
          "output_type": "stream",
          "text": [
            "logistic from scratch Test Accuracy is: 75.65 percent!\n"
          ],
          "name": "stdout"
        }
      ]
    },
    {
      "cell_type": "code",
      "metadata": {
        "scrolled": true,
        "id": "57Bk0IkAO8CT",
        "colab": {
          "base_uri": "https://localhost:8080/",
          "height": 67
        },
        "outputId": "a0af70cb-293d-4f80-901c-3435f358d377"
      },
      "source": [
        "# importing logistic regression model from sklearn to comapre results or accuracy\n",
        "from sklearn.linear_model import LogisticRegression\n",
        "# using gridsearchcv to find optimal parametrs for model to get best accuracy\n",
        "from sklearn.model_selection import GridSearchCV\n",
        "import warnings\n",
        "warnings.filterwarnings('ignore')\n",
        "\n",
        "# list of grid parameters\n",
        "grid={\"C\":[0.00001, 0.0001, 0.001, 0.01, 0.1], \"fit_intercept\":['True', 'False'],\"max_iter\":[1000, 5000, 10000, 20000, 30000]}\n",
        "# creating model with liblinear solver\n",
        "logreg=LogisticRegression(solver='liblinear')\n",
        "# creating gridsearch cv with 10 cross fold validations \n",
        "logreg_cv=GridSearchCV(logreg,grid,cv=10)\n",
        "# fitting the train data to model\n",
        "logreg_cv.fit(X_train,y_train)\n",
        "\n",
        "# print best parametrs of the model\n",
        "print(\"tuned hpyerparameters :(best parameters) \",logreg_cv.best_params_)\n",
        "# printing test data score of sklearn logistic regression model\n",
        "print(\"sklearn logistic regression accuracy :\",logreg_cv.score(X_test,y_test))\n",
        "# printing coeffients and intercept of the model\n",
        "print(\"sklearn logistic regression weights and intercept :\",logreg_cv.best_estimator_.coef_,logreg_cv.best_estimator_.intercept_)"
      ],
      "execution_count": null,
      "outputs": [
        {
          "output_type": "stream",
          "text": [
            "tuned hpyerparameters :(best parameters)  {'C': 0.1, 'fit_intercept': 'True', 'max_iter': 1000}\n",
            "sklearn logistic regression accuracy : 0.994\n",
            "sklearn logistic regression weights and intercept : [[-1.7782063   3.18227741]] [-5.16363496]\n"
          ],
          "name": "stdout"
        }
      ]
    },
    {
      "cell_type": "markdown",
      "metadata": {
        "id": "mV8OJLB1O8CU"
      },
      "source": [
        "### Here the sklearn model with all possible parameters gave best accuracy of 99.4% with learning rate 0.1, number of iterations as 1000 and with bias"
      ]
    },
    {
      "cell_type": "code",
      "metadata": {
        "id": "fgzN_e3KO8CV",
        "colab": {
          "base_uri": "https://localhost:8080/",
          "height": 50
        },
        "outputId": "d0f20c2d-fa8f-45e4-8c4f-05dc307f5ec6"
      },
      "source": [
        "# here we test simple logistic regression model with the best parameters we got from scratch logistic regression\n",
        "logreg=LogisticRegression(C=0.1, max_iter=30000, fit_intercept= True,solver='liblinear')\n",
        "# fitting train data\n",
        "logreg.fit(X_train,y_train)\n",
        "\n",
        "# printing test data accuracy, weights and intercept\n",
        "print(\"sklearn logistic regression accuracy :\",logreg_cv.score(X_test,y_test))\n",
        "print(\"sklearn logistic regression weights and intercept :\",logreg.coef_,logreg.intercept_)"
      ],
      "execution_count": null,
      "outputs": [
        {
          "output_type": "stream",
          "text": [
            "sklearn logistic regression accuracy : 0.994\n",
            "sklearn logistic regression weights and intercept : [[-1.7782063   3.18227741]] [-5.16363496]\n"
          ],
          "name": "stdout"
        }
      ]
    },
    {
      "cell_type": "markdown",
      "metadata": {
        "id": "beZ3NV19O8CX"
      },
      "source": [
        "### the same sklearn model was tested on parametrs generated by srcatch model and results were different as weights and intercept was different as accuracy was better"
      ]
    },
    {
      "cell_type": "code",
      "metadata": {
        "id": "KP2QHl1BO8CX",
        "colab": {
          "base_uri": "https://localhost:8080/",
          "height": 50
        },
        "outputId": "f073152b-3f4a-4d30-8db4-eb66e6e5b61c"
      },
      "source": [
        "# printing accuracy, weights and intercept of logistric regtression from scrach model\n",
        "print(\"logistic from scratch Test Accuracy is: %.2f percent!\" %accuracy )\n",
        "print(\"Logistic regression scratch weights and intercept :\",weights)"
      ],
      "execution_count": null,
      "outputs": [
        {
          "output_type": "stream",
          "text": [
            "logistic from scratch Test Accuracy is: 75.65 percent!\n",
            "Logistic regression scratch weights and intercept : [-0.02535993  0.0547477   0.25584046]\n"
          ],
          "name": "stdout"
        }
      ]
    },
    {
      "cell_type": "markdown",
      "metadata": {
        "id": "ajG_WE1yO8CZ"
      },
      "source": [
        "### The accuracy of our Scratch logistic regression model is printed above to compare with sklearns and its weights too. Finally it can be concluded that our model did not perform better or equal to sklearn's."
      ]
    },
    {
      "cell_type": "code",
      "metadata": {
        "id": "x0-6X1OhO8CZ",
        "colab": {
          "base_uri": "https://localhost:8080/",
          "height": 282
        },
        "outputId": "fb78109d-afe8-4953-fef0-c4e21ab0c6cf"
      },
      "source": [
        "# creating a confution matrix with heatmap\n",
        "import seaborn as sn\n",
        "# importing confusion matrix from sklearn\n",
        "from sklearn.metrics import confusion_matrix\n",
        "# matrix is created by comparing actual and predicted values\n",
        "cm=confusion_matrix(actual,preds)\n",
        "sn.heatmap(cm, annot=True, linewidths=.5, cmap=\"cividis\",fmt=\".1f\")"
      ],
      "execution_count": null,
      "outputs": [
        {
          "output_type": "execute_result",
          "data": {
            "text/plain": [
              "<matplotlib.axes._subplots.AxesSubplot at 0x7f31e4c6da20>"
            ]
          },
          "metadata": {
            "tags": []
          },
          "execution_count": 22
        },
        {
          "output_type": "display_data",
          "data": {
            "image/png": "[encoded data removed]",
            "text/plain": [
              "<Figure size 432x288 with 2 Axes>"
            ]
          },
          "metadata": {
            "tags": [],
            "needs_background": "light"
          }
        }
      ]
    },
    {
      "cell_type": "markdown",
      "metadata": {
        "id": "UigqS6eFO8Cb"
      },
      "source": [
        "### The matrix shows that True Negatives gave high accuracy of almost 98%, False Negative were negligible and True Positives were predicted with almost 53% accuracy and False Positives had almost 49% percent accuracy which is not good. This means only negative class had better prediction in the model we created from scratch"
      ]
    },
    {
      "cell_type": "code",
      "metadata": {
        "id": "5TRRWd1OO8Cb"
      },
      "source": [
        ""
      ],
      "execution_count": null,
      "outputs": []
    }
  ]
}