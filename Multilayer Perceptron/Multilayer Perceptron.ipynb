{
  "nbformat": 4,
  "nbformat_minor": 0,
  "metadata": {
    "colab": {
      "name": "Assignment3.ipynb",
      "provenance": [],
      "collapsed_sections": []
    },
    "kernelspec": {
      "name": "python3",
      "display_name": "Python 3"
    }
  },
  "cells": [
    {
      "cell_type": "code",
      "metadata": {
        "id": "9JB6VikTu9Oq"
      },
      "source": [
        "#importing numpy library to create random data\n",
        "# importing pandas to store data in dataframe and matplotlib to plot data\n",
        "# importing train_test_split to divide dataset into train, validation and test data\n",
        "import numpy as np\n",
        "import pandas as pd\n",
        "import matplotlib.pyplot as plt\n",
        "from sklearn.model_selection import train_test_split\n",
        "import warnings\n",
        "warnings.filterwarnings(\"ignore\")"
      ],
      "execution_count": null,
      "outputs": []
    },
    {
      "cell_type": "code",
      "metadata": {
        "id": "A2qVGAQqvObH"
      },
      "source": [
        "# creating random features and labels data\n",
        "num_observations = 10000\n",
        "\n",
        "x1 = np.random.multivariate_normal([0,0],[[0.1,0.2],[0.2,0.1]], num_observations)\n",
        "x2 = np.random.multivariate_normal([3,3],[[0.1,0.2],[0.2,0.1]], num_observations)\n",
        "x3 = np.random.multivariate_normal([3,0],[[0.1,0.2],[0.2,0.1]], num_observations)\n",
        "x4 = np.random.multivariate_normal([0,3],[[0.1,0.2],[0.2,0.1]], num_observations)\n",
        "\n",
        "features = np.vstack((x1,x2,x3,x4)).astype(np.float32)\n",
        "\n",
        "labels = np.hstack((np.full(num_observations,0),\n",
        "                   np.full(num_observations,1),\n",
        "                   np.full(num_observations,2),\n",
        "                   np.full(num_observations,3)))\n",
        "                    \n",
        "x_train, x_test, y_train, y_test = train_test_split(features, labels, test_size = 0.33, random_state = 42)"
      ],
      "execution_count": null,
      "outputs": []
    },
    {
      "cell_type": "code",
      "metadata": {
        "id": "NPvpPPtpvQXN",
        "colab": {
          "base_uri": "https://localhost:8080/"
        },
        "outputId": "2b96e3c9-7c6d-4d99-9fe5-58ce23c1a836"
      },
      "source": [
        "# shapes of data created and splitted\n",
        "print(features.shape, labels.shape)\n",
        "print(x_train.shape, x_test.shape)\n",
        "print(y_train.shape, y_test.shape)"
      ],
      "execution_count": null,
      "outputs": [
        {
          "output_type": "stream",
          "text": [
            "(40000, 2) (40000,)\n",
            "(26800, 2) (13200, 2)\n",
            "(26800,) (13200,)\n"
          ],
          "name": "stdout"
        }
      ]
    },
    {
      "cell_type": "markdown",
      "metadata": {
        "id": "HuTRCajGSVg1"
      },
      "source": [
        "## Task 1 - Plot complete dataset"
      ]
    },
    {
      "cell_type": "code",
      "metadata": {
        "id": "aYJPCVXBvTyd",
        "colab": {
          "base_uri": "https://localhost:8080/",
          "height": 212
        },
        "outputId": "0adcb463-d6d1-40ff-9a69-43abdee4fc0b"
      },
      "source": [
        "# creating a dataframe of features as 2 column and 1 label or class column\n",
        "df = pd.DataFrame(features)\n",
        "df['labels'] = labels\n",
        "df.columns = ['x1', 'x2', 'labels']\n",
        "print(df.shape)\n",
        "df.head()"
      ],
      "execution_count": null,
      "outputs": [
        {
          "output_type": "stream",
          "text": [
            "(40000, 3)\n"
          ],
          "name": "stdout"
        },
        {
          "output_type": "execute_result",
          "data": {
            "text/html": [
              "<div>\n",
              "<style scoped>\n",
              "    .dataframe tbody tr th:only-of-type {\n",
              "        vertical-align: middle;\n",
              "    }\n",
              "\n",
              "    .dataframe tbody tr th {\n",
              "        vertical-align: top;\n",
              "    }\n",
              "\n",
              "    .dataframe thead th {\n",
              "        text-align: right;\n",
              "    }\n",
              "</style>\n",
              "<table border=\"1\" class=\"dataframe\">\n",
              "  <thead>\n",
              "    <tr style=\"text-align: right;\">\n",
              "      <th></th>\n",
              "      <th>x1</th>\n",
              "      <th>x2</th>\n",
              "      <th>labels</th>\n",
              "    </tr>\n",
              "  </thead>\n",
              "  <tbody>\n",
              "    <tr>\n",
              "      <th>0</th>\n",
              "      <td>-0.399379</td>\n",
              "      <td>-0.177928</td>\n",
              "      <td>0</td>\n",
              "    </tr>\n",
              "    <tr>\n",
              "      <th>1</th>\n",
              "      <td>0.014937</td>\n",
              "      <td>0.250832</td>\n",
              "      <td>0</td>\n",
              "    </tr>\n",
              "    <tr>\n",
              "      <th>2</th>\n",
              "      <td>-0.201375</td>\n",
              "      <td>0.178417</td>\n",
              "      <td>0</td>\n",
              "    </tr>\n",
              "    <tr>\n",
              "      <th>3</th>\n",
              "      <td>0.937551</td>\n",
              "      <td>0.130731</td>\n",
              "      <td>0</td>\n",
              "    </tr>\n",
              "    <tr>\n",
              "      <th>4</th>\n",
              "      <td>0.220510</td>\n",
              "      <td>0.529056</td>\n",
              "      <td>0</td>\n",
              "    </tr>\n",
              "  </tbody>\n",
              "</table>\n",
              "</div>"
            ],
            "text/plain": [
              "         x1        x2  labels\n",
              "0 -0.399379 -0.177928       0\n",
              "1  0.014937  0.250832       0\n",
              "2 -0.201375  0.178417       0\n",
              "3  0.937551  0.130731       0\n",
              "4  0.220510  0.529056       0"
            ]
          },
          "metadata": {
            "tags": []
          },
          "execution_count": 4
        }
      ]
    },
    {
      "cell_type": "code",
      "metadata": {
        "id": "eaItl5fJvW9N",
        "colab": {
          "base_uri": "https://localhost:8080/",
          "height": 279
        },
        "outputId": "0f7bc694-5287-4972-a029-61fef7104811"
      },
      "source": [
        "# plotting data on scatter plot with different color for each class on scatter plot\n",
        "plt.scatter(x=df[df['labels']==0]['x1'],y=df[df['labels']==0]['x2'], c='r',label='Class 0')\n",
        "plt.scatter(x=df[df['labels']==1]['x1'],y=df[df['labels']==1]['x2'], c='blue',label='Class 1')\n",
        "plt.scatter(x=df[df['labels']==2]['x1'],y=df[df['labels']==2]['x2'], c='green',label='Class 2')\n",
        "plt.scatter(x=df[df['labels']==3]['x1'],y=df[df['labels']==3]['x2'], c='yellow',label='Class 3')\n",
        "plt.legend()\n",
        "plt.xlabel('x1')\n",
        "plt.ylabel('x2')\n",
        "plt.show()"
      ],
      "execution_count": null,
      "outputs": [
        {
          "output_type": "display_data",
          "data": {
            "image/png": "[encoded data removed]",
            "text/plain": [
              "<Figure size 432x288 with 1 Axes>"
            ]
          },
          "metadata": {
            "tags": [],
            "needs_background": "light"
          }
        }
      ]
    },
    {
      "cell_type": "markdown",
      "metadata": {
        "id": "a8hdNexCSQ8x"
      },
      "source": [
        "## Task 2 - Training a model with more than 1 hidden layer and a non-linear activation function"
      ]
    },
    {
      "cell_type": "code",
      "metadata": {
        "id": "sPBn4tAYDGZA"
      },
      "source": [
        "# Splitting the train dataset into train and validation set \n",
        "x_train1, x_val, y_train1, y_val = train_test_split(x_train, y_train, test_size = 0.33, random_state = 42)"
      ],
      "execution_count": null,
      "outputs": []
    },
    {
      "cell_type": "code",
      "metadata": {
        "id": "oC2tQc88vaDH"
      },
      "source": [
        "# importing tensorflow and keras sequential to create feedforward model\n",
        "# importing dropout to apply regularization on the layers created\n",
        "import tensorflow as tf\n",
        "from keras.layers import Dropout\n",
        "from keras.models import Sequential"
      ],
      "execution_count": null,
      "outputs": []
    },
    {
      "cell_type": "code",
      "metadata": {
        "id": "FVgUqXMlvcoe"
      },
      "source": [
        "# here a keras sequential model is created with 2 layers and non-linear activation function 'relu'\n",
        "# first argument 10 specifies number of nodes or neurons in a layer \n",
        "# a droput layer is created to apply regularization where it randomly drops the nodes from the layer based on the dropout rate passed\n",
        "# dropout rate should be between 0 and 1\n",
        "# the output layer and 4 nodes as our dataset has 4 different classes and it uses softmax function to convert logits created by model into a probablity notion and decide the class.\n",
        "model = tf.keras.Sequential([\n",
        "                             tf.keras.layers.Dense(10,activation='relu', input_shape=(2,)),  # input shape required\n",
        "                             tf.keras.layers.Dropout(0.1),\n",
        "                             tf.keras.layers.Dense(10,activation='relu'),\n",
        "                             tf.keras.layers.Dropout(0.1),\n",
        "                             tf.keras.layers.Dense(4,activation='softmax')\n",
        "                             ])"
      ],
      "execution_count": null,
      "outputs": []
    },
    {
      "cell_type": "code",
      "metadata": {
        "id": "61NhgPaRveYi"
      },
      "source": [
        "# the loss object created takes the resulted probability notion for each class and compare it actual label value and finds the loss\n",
        "# it returns the loss value showing how bad the model is performing and our model should try to reduce this loss\n",
        "loss_object = tf.keras.losses.SparseCategoricalCrossentropy(from_logits=True)\n",
        "def loss(model, x, y, training):\n",
        "  predicted_y = model(x, training=training)\n",
        "  return loss_object(y_true=y, y_pred=predicted_y)"
      ],
      "execution_count": null,
      "outputs": []
    },
    {
      "cell_type": "code",
      "metadata": {
        "id": "bP4XMlDuvhVm"
      },
      "source": [
        "# creating a gradient descent function which is basically a derivative of loss function so internally loss function is called under the gradienttape function of tensorflow\n",
        "# gradient tape function keeps track of all data and tape.gradient follows the backward propagation to derivate and a gradient or weights and loss value is returned.\n",
        "def grad(model, inputs, targets):\n",
        "  with tf.GradientTape() as tape:\n",
        "    loss_value = loss(model, inputs, targets, training=True)\n",
        "  return loss_value, tape.gradient(loss_value, model.trainable_variables)"
      ],
      "execution_count": null,
      "outputs": []
    },
    {
      "cell_type": "code",
      "metadata": {
        "id": "o7UHgVBFvkMR",
        "colab": {
          "base_uri": "https://localhost:8080/"
        },
        "outputId": "e80e0319-6a85-491f-f16f-e58c9218fbe3"
      },
      "source": [
        "# here optimizer is created which updates the weights with the gradients generated from the model to reduce the loss and\n",
        "# a learning rate shows the jump value for minima from one point to another  \n",
        "# epoch is the number of times a model is called and weights are updated on each iteration.\n",
        "num_epochs = 1001\n",
        "optimizer = tf.keras.optimizers.SGD(learning_rate=0.3)\n",
        "for epoch in range(num_epochs):\n",
        "  # a gradient function is called which return a loss value and computed gradients\n",
        "  loss_value, grads = grad(model, x_train1, y_train1)\n",
        "  # here we apply optimizer to update weights on computed gradients\n",
        "  optimizer.apply_gradients(zip(grads, model.trainable_variables))\n",
        "  #here we print the loss value for each 200th iteration\n",
        "  if epoch % 200 == 0:\n",
        "    print(\"Epoch {}: Loss: {}\".format(epoch, loss_value.numpy()))"
      ],
      "execution_count": null,
      "outputs": [
        {
          "output_type": "stream",
          "text": [
            "Epoch 0: Loss: 1.3996912240982056\n",
            "Epoch 200: Loss: 0.7960637807846069\n",
            "Epoch 400: Loss: 0.7700433135032654\n",
            "Epoch 600: Loss: 0.7643707394599915\n",
            "Epoch 800: Loss: 0.7606273293495178\n",
            "Epoch 1000: Loss: 0.7585409283638\n"
          ],
          "name": "stdout"
        }
      ]
    },
    {
      "cell_type": "markdown",
      "metadata": {
        "id": "kyWV9Mw4XIVj"
      },
      "source": [
        "## Task 3 - plotting the decision boundary for each class on a scatter plot "
      ]
    },
    {
      "cell_type": "code",
      "metadata": {
        "id": "1RYqK3RpvmWy"
      },
      "source": [
        "# creating a function to plot for data and model passed\n",
        "def plot_decision_boundary(x,y, model):\n",
        "    steps=1000\n",
        "    cmap=plt.get_cmap('RdBu')\n",
        "    # creating a mesh to plot the data\n",
        "    xmin = x[:,0].min()-1\n",
        "    xmax = x[:,0].max()+1\n",
        "    ymin = x[:,1].min()-1\n",
        "    ymax = x[:,1].max()+1\n",
        "    x_span= np.linspace(xmin, xmax, steps)\n",
        "    y_span= np.linspace(ymin, ymax, steps)\n",
        "    xx, yy = np.meshgrid(x_span, y_span)\n",
        "    # for each point in a mesh we assign a different color\n",
        "    labels=(model.predict_classes(np.c_[xx.ravel(),yy.ravel()])).reshape(xx.shape)\n",
        "    fig, ax= plt.subplots()\n",
        "    # contourf is used to plot the decision boundry and fill the colors \n",
        "    ax.contourf(xx,yy,labels, cmap=cmap, alpha=0.3)\n",
        "    # plotting the data points\n",
        "    ax.scatter(x[:,0], x[:,1], c=y.ravel())\n",
        "    return fig,ax"
      ],
      "execution_count": null,
      "outputs": []
    },
    {
      "cell_type": "code",
      "metadata": {
        "id": "F6BqRjSdXKsy",
        "colab": {
          "base_uri": "https://localhost:8080/",
          "height": 369
        },
        "outputId": "03a34f7f-42c9-41db-9c33-43e66fa36105"
      },
      "source": [
        "# calling th plot function with train and test data and model fitted\n",
        "plot_decision_boundary(x_train1, y_train1, model)"
      ],
      "execution_count": null,
      "outputs": [
        {
          "output_type": "stream",
          "text": [
            "WARNING:tensorflow:From <ipython-input-12-3e1064f197cf>:14: Sequential.predict_classes (from tensorflow.python.keras.engine.sequential) is deprecated and will be removed after 2021-01-01.\n",
            "Instructions for updating:\n",
            "Please use instead:* `np.argmax(model.predict(x), axis=-1)`,   if your model does multi-class classification   (e.g. if it uses a `softmax` last-layer activation).* `(model.predict(x) > 0.5).astype(\"int32\")`,   if your model does binary classification   (e.g. if it uses a `sigmoid` last-layer activation).\n"
          ],
          "name": "stdout"
        },
        {
          "output_type": "execute_result",
          "data": {
            "text/plain": [
              "(<Figure size 432x288 with 1 Axes>,\n",
              " <matplotlib.axes._subplots.AxesSubplot at 0x7f325a082588>)"
            ]
          },
          "metadata": {
            "tags": []
          },
          "execution_count": 13
        },
        {
          "output_type": "display_data",
          "data": {
            "image/png": "[encoded data removed]",
            "text/plain": [
              "<Figure size 432x288 with 1 Axes>"
            ]
          },
          "metadata": {
            "tags": [],
            "needs_background": "light"
          }
        }
      ]
    },
    {
      "cell_type": "markdown",
      "metadata": {
        "id": "MHUuPGKGvDCX"
      },
      "source": [
        "### it can be seen except for few points all data points are divided by their boundary correctly"
      ]
    },
    {
      "cell_type": "markdown",
      "metadata": {
        "id": "q3CrYbBlVETs"
      },
      "source": [
        "## Task 4 - calculating train accuracy on validation set and test accuracy on test dataset"
      ]
    },
    {
      "cell_type": "code",
      "metadata": {
        "id": "2LdyHLyxCnXe",
        "colab": {
          "base_uri": "https://localhost:8080/"
        },
        "outputId": "3a85f019-3324-433b-aaee-b043fc386bc2"
      },
      "source": [
        "# here we calculated accuracy on validation dataset\n",
        "# a train accuracy objeact is created from keras accuracy metric where count and total is tracked by comparing predicted and acutual label \n",
        "train_accuracy = tf.keras.metrics.Accuracy()\n",
        "# a logits variable is created which stores the probability notion generated by softmax function for each class by the model. \n",
        "logits = model(x_val, training=False)\n",
        "# here out of all probability for all classes generated for each sample a class is selected for each sample whose probability is max\n",
        "prediction = tf.argmax(logits, axis=1, output_type=tf.int32)\n",
        "# comparing actual and predicted values and printing accuracy\n",
        "train_accuracy(prediction, y_val)\n",
        "\n",
        "print(\"validation dataset accuracy: {:.3%}\".format(train_accuracy.result()))"
      ],
      "execution_count": null,
      "outputs": [
        {
          "output_type": "stream",
          "text": [
            "validation dataset accuracy: 99.966%\n"
          ],
          "name": "stdout"
        }
      ]
    },
    {
      "cell_type": "code",
      "metadata": {
        "id": "NKMtDSE0VGdg",
        "colab": {
          "base_uri": "https://localhost:8080/"
        },
        "outputId": "e5278266-c33a-4326-eb41-c57ff6989804"
      },
      "source": [
        "# same way test accuracy is also calculated\n",
        "test_accuracy = tf.keras.metrics.Accuracy()\n",
        "logits = model(x_test, training=False)\n",
        "prediction = tf.argmax(logits, axis=1, output_type=tf.int32)\n",
        "test_accuracy(prediction, y_test)\n",
        "\n",
        "print(\"Test dataset accuracy: {:.3%}\".format(test_accuracy.result()))"
      ],
      "execution_count": null,
      "outputs": [
        {
          "output_type": "stream",
          "text": [
            "Test dataset accuracy: 99.924%\n"
          ],
          "name": "stdout"
        }
      ]
    },
    {
      "cell_type": "markdown",
      "metadata": {
        "id": "bJrQP21eGPUn"
      },
      "source": [
        "### Comparing results with different parameters with different model\n",
        "### this is an example of bad model with bad parameters "
      ]
    },
    {
      "cell_type": "code",
      "metadata": {
        "id": "G33ZQcncEMhp",
        "colab": {
          "base_uri": "https://localhost:8080/",
          "height": 399
        },
        "outputId": "f80e1f57-c9e8-42c6-a3a7-d2964bf93c2c"
      },
      "source": [
        "# \n",
        "# similar model is created but with change in number of nodes in each layer and a increase in regularization which overfits the data\n",
        "model1 = tf.keras.Sequential([\n",
        "                             tf.keras.layers.Dense(3,activation='relu', input_shape=(2,)),  # input shape required\n",
        "                             tf.keras.layers.Dense(3,activation='relu'),\n",
        "                             tf.keras.layers.Dropout(0.8),\n",
        "                             tf.keras.layers.Dense(4,activation='softmax')\n",
        "                             ])\n",
        "# here to calculate weights learning rate is increased that makes it difficult to find minima \n",
        "num_epochs = 1001\n",
        "optimizer = tf.keras.optimizers.SGD(learning_rate=0.8)\n",
        "for epoch in range(num_epochs):\n",
        "  loss_value, grads = grad(model1, x_train1, y_train1)\n",
        "  optimizer.apply_gradients(zip(grads, model1.trainable_variables))\n",
        "  \n",
        "  if epoch % 200 == 0:\n",
        "    print(\"Epoch {}: Loss: {}\".format(epoch, loss_value.numpy()))\n",
        "# a decision boundary is plotted and it can be seen how bad the boundary is generated\n",
        "plot_decision_boundary(x_train1, y_train1, model1)"
      ],
      "execution_count": null,
      "outputs": [
        {
          "output_type": "stream",
          "text": [
            "Epoch 0: Loss: 1.4274332523345947\n",
            "Epoch 200: Loss: 1.2855169773101807\n",
            "Epoch 400: Loss: 1.2769306898117065\n",
            "Epoch 600: Loss: 1.2670332193374634\n",
            "Epoch 800: Loss: 1.2677993774414062\n",
            "Epoch 1000: Loss: 1.260438323020935\n"
          ],
          "name": "stdout"
        },
        {
          "output_type": "execute_result",
          "data": {
            "text/plain": [
              "(<Figure size 432x288 with 1 Axes>,\n",
              " <matplotlib.axes._subplots.AxesSubplot at 0x7f324fd3a2e8>)"
            ]
          },
          "metadata": {
            "tags": []
          },
          "execution_count": 16
        },
        {
          "output_type": "display_data",
          "data": {
            "image/png": "[encoded data removed]",
            "text/plain": [
              "<Figure size 432x288 with 1 Axes>"
            ]
          },
          "metadata": {
            "tags": [],
            "needs_background": "light"
          }
        }
      ]
    },
    {
      "cell_type": "code",
      "metadata": {
        "id": "EuqBmH1MFtUj",
        "colab": {
          "base_uri": "https://localhost:8080/"
        },
        "outputId": "99a9f3cf-c0c5-43db-9c70-69ecb2e1f58d"
      },
      "source": [
        "# calculating train accuracy on validation set and printing the result\n",
        "train_accuracy1 = tf.keras.metrics.Accuracy()\n",
        "logits1 = model1(x_val, training=False)\n",
        "prediction1 = tf.argmax(logits1, axis=1, output_type=tf.int32)\n",
        "train_accuracy1(prediction1, y_val)\n",
        "\n",
        "print(\"validation set accuracy: {:.3%}\".format(train_accuracy1.result()))\n",
        "\n",
        "# calculating test accuracy on test dataset and printing the result\n",
        "test_accuracy1 = tf.keras.metrics.Accuracy()\n",
        "logits1 = model1(x_test, training=False)\n",
        "prediction1 = tf.argmax(logits1, axis=1, output_type=tf.int32)\n",
        "test_accuracy1(prediction1, y_test)\n",
        "\n",
        "print(\"Test set accuracy: {:.3%}\".format(test_accuracy1.result()))"
      ],
      "execution_count": null,
      "outputs": [
        {
          "output_type": "stream",
          "text": [
            "validation set accuracy: 89.880%\n",
            "Test set accuracy: 89.652%\n"
          ],
          "name": "stdout"
        }
      ]
    },
    {
      "cell_type": "markdown",
      "metadata": {
        "id": "kCtZMWEFxdZ-"
      },
      "source": [
        "## We can see from the result that this new model did not perform well clearly on accuracy and also finding the boundary for each class. Hence having right parametrs is very important in creating a model"
      ]
    },
    {
      "cell_type": "code",
      "metadata": {
        "id": "tvjHcEcrxy1B"
      },
      "source": [
        ""
      ],
      "execution_count": null,
      "outputs": []
    }
  ]
}