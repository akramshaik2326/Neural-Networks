{
  "nbformat": 4,
  "nbformat_minor": 0,
  "metadata": {
    "kernelspec": {
      "display_name": "Python 3",
      "language": "python",
      "name": "python3"
    },
    "language_info": {
      "codemirror_mode": {
        "name": "ipython",
        "version": 3
      },
      "file_extension": ".py",
      "mimetype": "text/x-python",
      "name": "python",
      "nbconvert_exporter": "python",
      "pygments_lexer": "ipython3",
      "version": "3.7.3"
    },
    "colab": {
      "name": "Assignment1.ipynb",
      "provenance": [],
      "collapsed_sections": []
    }
  },
  "cells": [
    {
      "cell_type": "markdown",
      "metadata": {
        "id": "DXv4k6mW9MzK",
        "colab_type": "text"
      },
      "source": [
        "#Assignment 1\n",
        "#Z1857655\n",
        "# Akram Shaik"
      ]
    },
    {
      "cell_type": "code",
      "metadata": {
        "id": "Lh96vVV1j0sy",
        "colab_type": "code",
        "colab": {}
      },
      "source": [
        "# importing pandas library to convert lists into dataframe\n",
        "import pandas as pd\n",
        "# importing numpy to perform mathematical operations on data\n",
        "import numpy as np\n",
        "# importing request library to load data from github\n",
        "import requests"
      ],
      "execution_count": 31,
      "outputs": []
    },
    {
      "cell_type": "code",
      "metadata": {
        "id": "UCpwCNo5j0s1",
        "colab_type": "code",
        "colab": {}
      },
      "source": [
        "# function to create a matrix consisting of 0's and 1's in each row\n",
        "# length of matrix created will be equal to total number of images in the dataset\n",
        "# each image of 28 x 28 block in dataset is converted into a single row \n",
        "\n",
        "def create_matrix(target_url):\n",
        "  # using request library we load dataset in data\n",
        "  data = requests.get(target_url)\n",
        "  # here we decode the data collected in utf-8 format and split the lines to create list of all data\n",
        "  data=data.content.decode('utf-8').splitlines()\n",
        "  # creating multiple chunks from the whole data, 28 rows form 1 chunk  \n",
        "  chunks = [ data[i:i + 28] for i in range(0, len(data), 28) ]\n",
        "  # creating empty matrix list to load each image as row by looping through chunks\n",
        "  matrix=[]\n",
        "  for chunk in chunks:\n",
        "    # creating empty list to to form as a single row of 784 values\n",
        "    L=[]\n",
        "    # looping through 28 x 28 image\n",
        "    for line in chunk:\n",
        "      for ch in line:\n",
        "        # comparing if read character is space and replace it with 0 and if + or # replace with 1 in L\n",
        "        if ch==' ':\n",
        "          #print('space')\n",
        "          L.append(0)\n",
        "        elif ch=='+' or ch=='#':\n",
        "          L.append(1)\n",
        "    # appending complete 1 image converted as 1 row in matrix\n",
        "    matrix.append(L)\n",
        "  #returning whole matrix\n",
        "  return matrix"
      ],
      "execution_count": 32,
      "outputs": []
    },
    {
      "cell_type": "code",
      "metadata": {
        "id": "pjD_7y8xsmEI",
        "colab_type": "code",
        "colab": {}
      },
      "source": [
        "# creating train and test path variable\n",
        "train_path = 'https://raw.githubusercontent.com/akramshaik2326/NN_CV/master/Datasets/trainingimages.txt'\n",
        "test_path = 'https://raw.githubusercontent.com/akramshaik2326/NN_CV/master/Datasets/testimages.txt'\n",
        "\n",
        "# calling function to create matrix of train and test dataset\n",
        "train_matrix = create_matrix(train_path)\n",
        "test_matrix = create_matrix(test_path)"
      ],
      "execution_count": 33,
      "outputs": []
    },
    {
      "cell_type": "code",
      "metadata": {
        "id": "YsYN_6Hrj0s4",
        "colab_type": "code",
        "colab": {
          "base_uri": "https://localhost:8080/",
          "height": 84
        },
        "outputId": "563b0191-3c66-47ba-b666-ef1887cac6dd"
      },
      "source": [
        "# printing shapes of data extracted\n",
        "print(len(train_matrix))\n",
        "print(len(train_matrix[0]))\n",
        "print(len(test_matrix))\n",
        "print(len(test_matrix[0]))"
      ],
      "execution_count": 34,
      "outputs": [
        {
          "output_type": "stream",
          "text": [
            "5000\n",
            "784\n",
            "1000\n",
            "784\n"
          ],
          "name": "stdout"
        }
      ]
    },
    {
      "cell_type": "code",
      "metadata": {
        "id": "OpaMLuTtj0s6",
        "colab_type": "code",
        "colab": {}
      },
      "source": [
        "# function to create list of labels by reading data from github\n",
        "def create_label(target_url):\n",
        "  # loading data in similar way as training data was loaded\n",
        "  data = requests.get(target_url)\n",
        "  data=data.content.decode('utf-8').splitlines()\n",
        "  label = [ int(i) for i in data ]\n",
        "  return label"
      ],
      "execution_count": 35,
      "outputs": []
    },
    {
      "cell_type": "code",
      "metadata": {
        "id": "GMH4EbWRj0s9",
        "colab_type": "code",
        "colab": {}
      },
      "source": [
        "# creating train and test path variable\n",
        "train_label_path=r\"https://raw.githubusercontent.com/akramshaik2326/NN_CV/master/Datasets/traininglabels.txt\"\n",
        "test_label_path=r\"https://raw.githubusercontent.com/akramshaik2326/NN_CV/master/Datasets/testlabels.txt\"\n",
        "\n",
        "# calling function to create list of train and test label dataset\n",
        "train_label=create_label(train_label_path)\n",
        "test_label=create_label(test_label_path)"
      ],
      "execution_count": 36,
      "outputs": []
    },
    {
      "cell_type": "code",
      "metadata": {
        "id": "LBB-RxZDj0tA",
        "colab_type": "code",
        "colab": {
          "base_uri": "https://localhost:8080/",
          "height": 50
        },
        "outputId": "b7e065ca-a346-4ade-9138-48dcc8fc1163"
      },
      "source": [
        "# printing shapes of data extracted\n",
        "print(len(train_label))\n",
        "print(len(test_label))"
      ],
      "execution_count": 37,
      "outputs": [
        {
          "output_type": "stream",
          "text": [
            "5000\n",
            "1000\n"
          ],
          "name": "stdout"
        }
      ]
    },
    {
      "cell_type": "code",
      "metadata": {
        "id": "KzFlCYwKj0tC",
        "colab_type": "code",
        "colab": {}
      },
      "source": [
        "#train_array=np.array(train_matrix)\n",
        "#test_array=np.array(test_matrix)\n",
        "#train_labelarray=np.array(train_label)\n",
        "#test_labelarray=np.array(test_label)"
      ],
      "execution_count": 38,
      "outputs": []
    },
    {
      "cell_type": "code",
      "metadata": {
        "id": "wRtBePy1j0tE",
        "colab_type": "code",
        "colab": {}
      },
      "source": [
        "# creating set of train and test data by appending label of each image as column\n",
        "train_set=np.column_stack(( np.array(train_matrix), np.array(train_label) ))\n",
        "test_set=np.column_stack(( np.array(test_matrix), np.array(test_label) ))"
      ],
      "execution_count": 39,
      "outputs": []
    },
    {
      "cell_type": "code",
      "metadata": {
        "id": "JmC2E3G9j0tG",
        "colab_type": "code",
        "colab": {
          "base_uri": "https://localhost:8080/",
          "height": 50
        },
        "outputId": "729361fd-1041-46ff-bf5b-63ee5185ccb9"
      },
      "source": [
        "# printing shapes of data created\n",
        "print('Train set shape: ', train_set.shape)\n",
        "print('Test set shape: ', test_set.shape)"
      ],
      "execution_count": 40,
      "outputs": [
        {
          "output_type": "stream",
          "text": [
            "Train set shape:  (5000, 785)\n",
            "Test set shape:  (1000, 785)\n"
          ],
          "name": "stdout"
        }
      ]
    },
    {
      "cell_type": "code",
      "metadata": {
        "id": "XTB4hH_Pj0tK",
        "colab_type": "code",
        "colab": {}
      },
      "source": [
        "# grouping the data by label values\n",
        "def group_labels(dataset):\n",
        "  grouped = dict()\n",
        "  # looping through len of dataset\n",
        "  for i in range(len(dataset)):\n",
        "    # taking single row from matrix\n",
        "    row = dataset[i]\n",
        "    # storing label or class of the same row\n",
        "    label = row[-1]\n",
        "    # if label vaue is new then create nested list of that label\n",
        "    if (label not in grouped):\n",
        "      grouped[label] = list()\n",
        "    grouped[label].append(row[:-1])\n",
        "  return grouped\n",
        "grouped_data = group_labels(train_set)"
      ],
      "execution_count": 41,
      "outputs": []
    },
    {
      "cell_type": "code",
      "metadata": {
        "id": "hVYy0wNvj0tO",
        "colab_type": "code",
        "colab": {
          "base_uri": "https://localhost:8080/",
          "height": 67
        },
        "outputId": "79b96b0e-38d6-46cd-fdea-5e0ea318b747"
      },
      "source": [
        "# printing shapes of grouped data \n",
        "print(len(grouped_data))\n",
        "print(len(grouped_data[0]))\n",
        "print(len(grouped_data[0][0]))"
      ],
      "execution_count": 42,
      "outputs": [
        {
          "output_type": "stream",
          "text": [
            "10\n",
            "479\n",
            "784\n"
          ],
          "name": "stdout"
        }
      ]
    },
    {
      "cell_type": "code",
      "metadata": {
        "id": "wLQW4nX-j0tQ",
        "colab_type": "code",
        "colab": {}
      },
      "source": [
        "# function to calculate likelihood for all rows of each label\n",
        "def calculate_likelihood(label_data):\n",
        "  p_xy = []\n",
        "  # looping to calculate likelihood of having '0' or '1' on each 784 values of all rows\n",
        "  for i in range(784):\n",
        "    # initializing counter to count all 0's and 1's on i'th position of all rows\n",
        "    count0 = 0\n",
        "    count1 = 0\n",
        "    # looping through all rows and incrementing counter\n",
        "    for row in label_data:\n",
        "      if row[i] == 0:\n",
        "        count0 += 1\n",
        "      else:\n",
        "        count1 += 1\n",
        "      # storing likelihood of 0's and 1's for each i'th position with k value as 0.1 \n",
        "      likelihood = [(count0 + 0.1)/(len(label_data) + 0.2), (count1 + 0.1)/(len(label_data) + 0.2)]\n",
        "    p_xy.append(likelihood)\n",
        "  return p_xy"
      ],
      "execution_count": 43,
      "outputs": []
    },
    {
      "cell_type": "code",
      "metadata": {
        "id": "IhvLyOpWj0tS",
        "colab_type": "code",
        "colab": {}
      },
      "source": [
        "# function to call likelihood for each group and its prior from the grouped data\n",
        "def summarize_by_class(grouped_data):\n",
        "  # create dictionary to store likelihood and prior of each label\n",
        "  Naivebayes_model = dict()\n",
        "  for label, label_rows in grouped_data.items():\n",
        "    # calculate prior : probablity of single label grouped rows\n",
        "    p_y = len(label_rows)/5000\n",
        "    # calling likelihood function with all rows of single label as argument\n",
        "    p_xy = calculate_likelihood(label_rows)\n",
        "    # storing values obtaied for each label\n",
        "    Naivebayes_model[label] = [p_xy, p_y]\n",
        "  return Naivebayes_model\n",
        "\n",
        "#calling function to summarize the likelihood and prior of all rows for every label from grouped data\n",
        "Naivebayes_model = summarize_by_class(grouped_data)"
      ],
      "execution_count": 44,
      "outputs": []
    },
    {
      "cell_type": "code",
      "metadata": {
        "id": "oX6Ei8H0j0tU",
        "colab_type": "code",
        "colab": {}
      },
      "source": [
        "#print(len(Naivebayes_model[5][0]))\n",
        "#for key, value in Naivebayes_model.items():\n",
        "#    print(key)\n",
        "#    if key==5:\n",
        "#      print('len ',len(Naivebayes_model[5][0]))\n",
        "#      print('len ',len(value) )\n",
        "#      print(value)"
      ],
      "execution_count": 45,
      "outputs": []
    },
    {
      "cell_type": "code",
      "metadata": {
        "id": "wRhggMtFj0tW",
        "colab_type": "code",
        "colab": {}
      },
      "source": [
        "# function to calculate postirior with model and single row of test data as argument\n",
        "def calculate_postirior(Naivebayes_model, sample_row):\n",
        "  # creating dictionary of probablities\n",
        "  probabilities = dict()\n",
        "  # looping through all labels of model\n",
        "  for label, label_values in Naivebayes_model.items():\n",
        "    # storing label as key and assigning it label's prior log value\n",
        "    probabilities[label] = np.log(label_values[1])\n",
        "    # loop through all 784 positions\n",
        "    for i in range(784):\n",
        "      # adding log value of i'th value from sample row as position to label_values\n",
        "      probabilities[label] += np.log(label_values[0][i][int(sample_row[i])])\n",
        "  return probabilities"
      ],
      "execution_count": 46,
      "outputs": []
    },
    {
      "cell_type": "code",
      "metadata": {
        "id": "HAtRjskvj0ta",
        "colab_type": "code",
        "colab": {}
      },
      "source": [
        "#print(test_set[0])\n",
        "#model[0][70][70]"
      ],
      "execution_count": 47,
      "outputs": []
    },
    {
      "cell_type": "code",
      "metadata": {
        "id": "73vBGAH-j0tc",
        "colab_type": "code",
        "colab": {}
      },
      "source": [
        "#test_set[0][:]"
      ],
      "execution_count": 48,
      "outputs": []
    },
    {
      "cell_type": "code",
      "metadata": {
        "id": "VISlQ_47j0tg",
        "colab_type": "code",
        "colab": {}
      },
      "source": [
        "# function to classify label of test data through the model created\n",
        "def classify(Naivebayes_model, row):\n",
        "  # calling function to calculate postirior\n",
        "  probabilities = calculate_postirior(Naivebayes_model, row)\n",
        "  #print(probabilities)\n",
        "  best_probab = 0\n",
        "  best_label = None\n",
        "  # looping through values of probablities and taking label having max probability\n",
        "  for class_value, probability in probabilities.items():\n",
        "    if (best_label == None) or (probability > best_probab):\n",
        "      best_probab = probability\n",
        "      best_label = class_value\n",
        "  return best_label"
      ],
      "execution_count": 49,
      "outputs": []
    },
    {
      "cell_type": "code",
      "metadata": {
        "id": "E_lWpaIBj0ti",
        "colab_type": "code",
        "colab": {}
      },
      "source": [
        "# creating empty list of actual and prediction values\n",
        "predictions=[]\n",
        "actual=[]\n",
        "# looping through all labels of test data\n",
        "for row in test_set:\n",
        "  # appending actual label to list\n",
        "  actual.append(row[-1])\n",
        "  # appending predicted values by calling classify function with model and single row of test data as argument\n",
        "  predictions.append(classify(Naivebayes_model, row[:-1]))"
      ],
      "execution_count": 50,
      "outputs": []
    },
    {
      "cell_type": "code",
      "metadata": {
        "id": "SvIJY3BOj0tj",
        "colab_type": "code",
        "colab": {
          "base_uri": "https://localhost:8080/",
          "height": 34
        },
        "outputId": "7c738597-df0f-437f-d8ef-07e5c1fbb035"
      },
      "source": [
        "# counting total  number of correct predicted values\n",
        "count= sum(1 for i in range(len(actual)) if actual[i]==predictions[i])\n",
        "# calculating accuracy \n",
        "accuracy = count / float(len(actual)) * 100.0\n",
        "print(\"Test Accuracy is: %.2f percent!\" %accuracy )"
      ],
      "execution_count": 51,
      "outputs": [
        {
          "output_type": "stream",
          "text": [
            "Test Accuracy is: 77.30 percent!\n"
          ],
          "name": "stdout"
        }
      ]
    },
    {
      "cell_type": "code",
      "metadata": {
        "id": "4t2na4Vfj0tl",
        "colab_type": "code",
        "colab": {
          "base_uri": "https://localhost:8080/",
          "height": 935
        },
        "outputId": "49bbdaec-c4f1-4cd4-950f-b6401d3c7347"
      },
      "source": [
        "# using dataframe to store actual and predicted values\n",
        "# this helps to visually comapre all actual and predicted value of each image\n",
        "df=pd.DataFrame()\n",
        "df['Actual']=actual\n",
        "df['Predicted']=predictions\n",
        "\n",
        "#print first 30 predictions as there are 1000 images in test data.\n",
        "df.head(30)"
      ],
      "execution_count": 52,
      "outputs": [
        {
          "output_type": "execute_result",
          "data": {
            "text/html": [
              "<div>\n",
              "<style scoped>\n",
              "    .dataframe tbody tr th:only-of-type {\n",
              "        vertical-align: middle;\n",
              "    }\n",
              "\n",
              "    .dataframe tbody tr th {\n",
              "        vertical-align: top;\n",
              "    }\n",
              "\n",
              "    .dataframe thead th {\n",
              "        text-align: right;\n",
              "    }\n",
              "</style>\n",
              "<table border=\"1\" class=\"dataframe\">\n",
              "  <thead>\n",
              "    <tr style=\"text-align: right;\">\n",
              "      <th></th>\n",
              "      <th>Actual</th>\n",
              "      <th>Predicted</th>\n",
              "    </tr>\n",
              "  </thead>\n",
              "  <tbody>\n",
              "    <tr>\n",
              "      <th>0</th>\n",
              "      <td>9</td>\n",
              "      <td>7</td>\n",
              "    </tr>\n",
              "    <tr>\n",
              "      <th>1</th>\n",
              "      <td>0</td>\n",
              "      <td>0</td>\n",
              "    </tr>\n",
              "    <tr>\n",
              "      <th>2</th>\n",
              "      <td>2</td>\n",
              "      <td>2</td>\n",
              "    </tr>\n",
              "    <tr>\n",
              "      <th>3</th>\n",
              "      <td>5</td>\n",
              "      <td>3</td>\n",
              "    </tr>\n",
              "    <tr>\n",
              "      <th>4</th>\n",
              "      <td>1</td>\n",
              "      <td>1</td>\n",
              "    </tr>\n",
              "    <tr>\n",
              "      <th>5</th>\n",
              "      <td>9</td>\n",
              "      <td>9</td>\n",
              "    </tr>\n",
              "    <tr>\n",
              "      <th>6</th>\n",
              "      <td>7</td>\n",
              "      <td>7</td>\n",
              "    </tr>\n",
              "    <tr>\n",
              "      <th>7</th>\n",
              "      <td>8</td>\n",
              "      <td>8</td>\n",
              "    </tr>\n",
              "    <tr>\n",
              "      <th>8</th>\n",
              "      <td>1</td>\n",
              "      <td>1</td>\n",
              "    </tr>\n",
              "    <tr>\n",
              "      <th>9</th>\n",
              "      <td>0</td>\n",
              "      <td>0</td>\n",
              "    </tr>\n",
              "    <tr>\n",
              "      <th>10</th>\n",
              "      <td>4</td>\n",
              "      <td>4</td>\n",
              "    </tr>\n",
              "    <tr>\n",
              "      <th>11</th>\n",
              "      <td>1</td>\n",
              "      <td>1</td>\n",
              "    </tr>\n",
              "    <tr>\n",
              "      <th>12</th>\n",
              "      <td>7</td>\n",
              "      <td>9</td>\n",
              "    </tr>\n",
              "    <tr>\n",
              "      <th>13</th>\n",
              "      <td>9</td>\n",
              "      <td>9</td>\n",
              "    </tr>\n",
              "    <tr>\n",
              "      <th>14</th>\n",
              "      <td>6</td>\n",
              "      <td>4</td>\n",
              "    </tr>\n",
              "    <tr>\n",
              "      <th>15</th>\n",
              "      <td>4</td>\n",
              "      <td>9</td>\n",
              "    </tr>\n",
              "    <tr>\n",
              "      <th>16</th>\n",
              "      <td>2</td>\n",
              "      <td>2</td>\n",
              "    </tr>\n",
              "    <tr>\n",
              "      <th>17</th>\n",
              "      <td>6</td>\n",
              "      <td>2</td>\n",
              "    </tr>\n",
              "    <tr>\n",
              "      <th>18</th>\n",
              "      <td>8</td>\n",
              "      <td>8</td>\n",
              "    </tr>\n",
              "    <tr>\n",
              "      <th>19</th>\n",
              "      <td>1</td>\n",
              "      <td>1</td>\n",
              "    </tr>\n",
              "    <tr>\n",
              "      <th>20</th>\n",
              "      <td>3</td>\n",
              "      <td>3</td>\n",
              "    </tr>\n",
              "    <tr>\n",
              "      <th>21</th>\n",
              "      <td>7</td>\n",
              "      <td>7</td>\n",
              "    </tr>\n",
              "    <tr>\n",
              "      <th>22</th>\n",
              "      <td>5</td>\n",
              "      <td>9</td>\n",
              "    </tr>\n",
              "    <tr>\n",
              "      <th>23</th>\n",
              "      <td>4</td>\n",
              "      <td>4</td>\n",
              "    </tr>\n",
              "    <tr>\n",
              "      <th>24</th>\n",
              "      <td>4</td>\n",
              "      <td>8</td>\n",
              "    </tr>\n",
              "    <tr>\n",
              "      <th>25</th>\n",
              "      <td>1</td>\n",
              "      <td>1</td>\n",
              "    </tr>\n",
              "    <tr>\n",
              "      <th>26</th>\n",
              "      <td>8</td>\n",
              "      <td>8</td>\n",
              "    </tr>\n",
              "    <tr>\n",
              "      <th>27</th>\n",
              "      <td>1</td>\n",
              "      <td>1</td>\n",
              "    </tr>\n",
              "    <tr>\n",
              "      <th>28</th>\n",
              "      <td>3</td>\n",
              "      <td>3</td>\n",
              "    </tr>\n",
              "    <tr>\n",
              "      <th>29</th>\n",
              "      <td>8</td>\n",
              "      <td>8</td>\n",
              "    </tr>\n",
              "  </tbody>\n",
              "</table>\n",
              "</div>"
            ],
            "text/plain": [
              "    Actual  Predicted\n",
              "0        9          7\n",
              "1        0          0\n",
              "2        2          2\n",
              "3        5          3\n",
              "4        1          1\n",
              "5        9          9\n",
              "6        7          7\n",
              "7        8          8\n",
              "8        1          1\n",
              "9        0          0\n",
              "10       4          4\n",
              "11       1          1\n",
              "12       7          9\n",
              "13       9          9\n",
              "14       6          4\n",
              "15       4          9\n",
              "16       2          2\n",
              "17       6          2\n",
              "18       8          8\n",
              "19       1          1\n",
              "20       3          3\n",
              "21       7          7\n",
              "22       5          9\n",
              "23       4          4\n",
              "24       4          8\n",
              "25       1          1\n",
              "26       8          8\n",
              "27       1          1\n",
              "28       3          3\n",
              "29       8          8"
            ]
          },
          "metadata": {
            "tags": []
          },
          "execution_count": 52
        }
      ]
    },
    {
      "cell_type": "code",
      "metadata": {
        "id": "colPjIfMj0tn",
        "colab_type": "code",
        "colab": {
          "base_uri": "https://localhost:8080/",
          "height": 70
        },
        "outputId": "04122614-0d43-43a1-d91d-65afbd6f1940"
      },
      "source": [
        "# importing seaborn and matplotlib to plot confusion matrix\n",
        "import seaborn as sn\n",
        "import matplotlib.pyplot as plt\n",
        "# importing confusion matrix from sklearn learn to understand the performance of the classification\n",
        "from sklearn.metrics import confusion_matrix\n",
        "cm=confusion_matrix(actual,predictions)\n",
        "#cm"
      ],
      "execution_count": 53,
      "outputs": [
        {
          "output_type": "stream",
          "text": [
            "/usr/local/lib/python3.6/dist-packages/statsmodels/tools/_testing.py:19: FutureWarning: pandas.util.testing is deprecated. Use the functions in the public API at pandas.testing instead.\n",
            "  import pandas.util.testing as tm\n"
          ],
          "name": "stderr"
        }
      ]
    },
    {
      "cell_type": "code",
      "metadata": {
        "id": "YKs5t3ONj0to",
        "colab_type": "code",
        "colab": {
          "base_uri": "https://localhost:8080/",
          "height": 282
        },
        "outputId": "45d2be5e-5733-43b7-edba-292c9a3eb526"
      },
      "source": [
        "# plotting heat mam of confusion matrix\n",
        "plt.figure(figsize = (8,4))\n",
        "sn.heatmap(cm, annot=True, linewidths=.5, cmap=\"cividis\")"
      ],
      "execution_count": 54,
      "outputs": [
        {
          "output_type": "execute_result",
          "data": {
            "text/plain": [
              "<matplotlib.axes._subplots.AxesSubplot at 0x7f18d5f1cda0>"
            ]
          },
          "metadata": {
            "tags": []
          },
          "execution_count": 54
        },
        {
          "output_type": "display_data",
          "data": {
            "image/png": "[encoded data removed]",
            "text/plain": [
              "<Figure size 576x288 with 2 Axes>"
            ]
          },
          "metadata": {
            "tags": [],
            "needs_background": "light"
          }
        }
      ]
    },
    {
      "cell_type": "code",
      "metadata": {
        "id": "Amb0SDHhj0tq",
        "colab_type": "code",
        "colab": {}
      },
      "source": [
        "#pip install pyplot"
      ],
      "execution_count": 55,
      "outputs": []
    },
    {
      "cell_type": "code",
      "metadata": {
        "id": "BPNk_2-nj0ts",
        "colab_type": "code",
        "colab": {}
      },
      "source": [
        "#import plotly.graph_objects as go\n",
        "#from plotly.subplots import make_subplots\n",
        "#fig = make_subplots()\n",
        "#fig.add_trace( go.Table( header=dict(values=[\"S.No\", \"Actual\", \"Predicted\"],font=dict(size=10)),cells=dict(values=[df[k].tolist() for k in df.columns[:]])))\n",
        "#fig.update_layout(height=500)"
      ],
      "execution_count": 56,
      "outputs": []
    },
    {
      "cell_type": "code",
      "metadata": {
        "id": "zecAlPHej0tw",
        "colab_type": "code",
        "colab": {}
      },
      "source": [
        ""
      ],
      "execution_count": 56,
      "outputs": []
    }
  ]
}