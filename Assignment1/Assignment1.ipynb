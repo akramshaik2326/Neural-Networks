{
 "cells": [
  {
   "cell_type": "code",
   "execution_count": 1,
   "metadata": {},
   "outputs": [],
   "source": [
    "import pandas as pd\n",
    "import numpy as np\n",
    "import requests"
   ]
  },
  {
   "cell_type": "code",
   "execution_count": 2,
   "metadata": {},
   "outputs": [],
   "source": [
    "def create_matrix(target_url):\n",
    "    data = requests.get(target_url)\n",
    "    data=data.content.decode('utf-8').splitlines()\n",
    "    chunks = [ data[i:i + 28] for i in range(0, len(data), 28) ]\n",
    "    matrix=[]\n",
    "    for chunk in chunks:\n",
    "        L=[]\n",
    "        for line in chunk:\n",
    "            for ch in line:\n",
    "                if ch==' ':\n",
    "                    #print('space')\n",
    "                    L.append(0)\n",
    "                elif ch=='+' or ch=='#':\n",
    "                    L.append(1)\n",
    "        matrix.append(L)\n",
    "    return matrix\n",
    "train_path = 'https://raw.githubusercontent.com/akramshaik2326/NN_CV/master/Datasets/trainingimages.txt'\n",
    "test_path = 'https://raw.githubusercontent.com/akramshaik2326/NN_CV/master/Datasets/testimages.txt'\n",
    "train_matrix = create_matrix(train_path)\n",
    "test_matrix = create_matrix(test_path)"
   ]
  },
  {
   "cell_type": "code",
   "execution_count": 3,
   "metadata": {},
   "outputs": [
    {
     "name": "stdout",
     "output_type": "stream",
     "text": [
      "5000\n",
      "784\n",
      "1000\n",
      "784\n"
     ]
    }
   ],
   "source": [
    "print(len(train_matrix))\n",
    "print(len(train_matrix[0]))\n",
    "print(len(test_matrix))\n",
    "print(len(test_matrix[0]))"
   ]
  },
  {
   "cell_type": "code",
   "execution_count": 4,
   "metadata": {},
   "outputs": [],
   "source": [
    "def create_label(target_url):\n",
    "    data = requests.get(target_url)\n",
    "    data=data.content.decode('utf-8').splitlines()\n",
    "    label = [ int(i) for i in data ]\n",
    "    return label"
   ]
  },
  {
   "cell_type": "code",
   "execution_count": 5,
   "metadata": {},
   "outputs": [],
   "source": [
    "train_label_path=\"https://raw.githubusercontent.com/akramshaik2326/NN_CV/master/Datasets/traininglabels.txt\"\n",
    "test_label_path=\"https://raw.githubusercontent.com/akramshaik2326/NN_CV/master/Datasets/testlabels.txt\"\n",
    "train_label=create_label(train_label_path)\n",
    "test_label=create_label(test_label_path)"
   ]
  },
  {
   "cell_type": "code",
   "execution_count": 6,
   "metadata": {},
   "outputs": [
    {
     "name": "stdout",
     "output_type": "stream",
     "text": [
      "5000\n",
      "1000\n"
     ]
    }
   ],
   "source": [
    "print(len(train_label))\n",
    "print(len(test_label))"
   ]
  },
  {
   "cell_type": "code",
   "execution_count": 7,
   "metadata": {},
   "outputs": [],
   "source": [
    "train_array=np.array(train_matrix)\n",
    "test_array=np.array(test_matrix)\n",
    "train_labelarray=np.array(train_label)\n",
    "test_labelarray=(test_label)"
   ]
  },
  {
   "cell_type": "code",
   "execution_count": 8,
   "metadata": {},
   "outputs": [],
   "source": [
    "train_set=np.column_stack((train_array, train_labelarray))\n",
    "test_set=np.column_stack((test_array, test_labelarray))"
   ]
  },
  {
   "cell_type": "code",
   "execution_count": 9,
   "metadata": {},
   "outputs": [
    {
     "name": "stdout",
     "output_type": "stream",
     "text": [
      "length of train_labelarray :  5000\n",
      "Train set shape:  (5000, 785)\n",
      "Test set shape:  (1000, 785)\n"
     ]
    }
   ],
   "source": [
    "print('length of train_labelarray : ',len(train_labelarray))\n",
    "#print(train_set)\n",
    "print('Train set shape: ', train_set.shape)\n",
    "print('Test set shape: ', test_set.shape)"
   ]
  },
  {
   "cell_type": "code",
   "execution_count": 10,
   "metadata": {},
   "outputs": [],
   "source": [
    "# Split the dataset by class values, returns a dictionary\n",
    "def group_labels(dataset):\n",
    "    grouped = dict()\n",
    "    for i in range(len(dataset)):\n",
    "        row = dataset[i]\n",
    "        label = row[-1]\n",
    "        if (label not in grouped):\n",
    "            grouped[label] = list()\n",
    "        grouped[label].append(row[:-1])\n",
    "    return grouped\n",
    "grouped_data = group_labels(train_set)"
   ]
  },
  {
   "cell_type": "code",
   "execution_count": 11,
   "metadata": {},
   "outputs": [
    {
     "name": "stdout",
     "output_type": "stream",
     "text": [
      "10\n",
      "479\n",
      "784\n"
     ]
    }
   ],
   "source": [
    "print(len(grouped_data))\n",
    "print(len(grouped_data[0]))\n",
    "print(len(grouped_data[0][0]))"
   ]
  },
  {
   "cell_type": "code",
   "execution_count": 12,
   "metadata": {},
   "outputs": [],
   "source": [
    "def calculate_likelihood(label_data):\n",
    "    p_xy = []\n",
    "    for i in range(784):\n",
    "        count0 = 0\n",
    "        count1 = 0\n",
    "        for row in label_data:\n",
    "            if row[i] == 0:\n",
    "                count0 += 1\n",
    "            else:\n",
    "                count1 += 1\n",
    "        likelihood = [(count0 + 0.1)/(len(label_data) + 0.2), (count1 + 0.1)/(len(label_data) + 0.2)]\n",
    "        p_xy.append(likelihood)    \n",
    "    return p_xy"
   ]
  },
  {
   "cell_type": "code",
   "execution_count": 13,
   "metadata": {},
   "outputs": [],
   "source": [
    "def summarize_by_class(grouped_data):\n",
    "    Naivebayes_model = dict()\n",
    "    for label, label_rows in grouped_data.items():\n",
    "        p_y = len(label_rows)/5000\n",
    "        p_xy = calculate_likelihood(label_rows)\n",
    "        #p_y = calculate_class_py(rows)\n",
    "        Naivebayes_model[label] = [p_xy, p_y]\n",
    "    return Naivebayes_model\n",
    "Naivebayes_model = summarize_by_class(grouped_data)"
   ]
  },
  {
   "cell_type": "code",
   "execution_count": 14,
   "metadata": {},
   "outputs": [],
   "source": [
    "#print(len(Naivebayes_model[5][0]))\n",
    "#for key, value in Naivebayes_model.items():\n",
    "#    print(key)\n",
    "#    if key==5:\n",
    "#        print(value)"
   ]
  },
  {
   "cell_type": "code",
   "execution_count": 15,
   "metadata": {},
   "outputs": [],
   "source": [
    "import numpy as np\n",
    "def calculate_class_probabilities(Naivebayes_model, sample_row):\n",
    "    probabilities = dict()\n",
    "    for label, label_values in Naivebayes_model.items():\n",
    "        probabilities[label] = np.log(label_values[1])\n",
    "        for i in range(784):\n",
    "            probabilities[label] += np.log(label_values[0][i][int(sample_row[i])])\n",
    "    return probabilities"
   ]
  },
  {
   "cell_type": "code",
   "execution_count": 16,
   "metadata": {},
   "outputs": [],
   "source": [
    "#calculate_class_probabilities(Naivebayes_model, test_set[0][:-1])"
   ]
  },
  {
   "cell_type": "code",
   "execution_count": 17,
   "metadata": {},
   "outputs": [],
   "source": [
    "#print(test_set[0])\n",
    "#model[0][70][70]"
   ]
  },
  {
   "cell_type": "code",
   "execution_count": 18,
   "metadata": {},
   "outputs": [],
   "source": [
    "#test_set[0][:]"
   ]
  },
  {
   "cell_type": "code",
   "execution_count": 19,
   "metadata": {},
   "outputs": [],
   "source": [
    "def predict(Naivebayes_model, row):\n",
    "    probabilities = calculate_class_probabilities(Naivebayes_model, row)\n",
    "    #print(probabilities)\n",
    "    best_probab = 0\n",
    "    best_label = None\n",
    "    for class_value, probability in probabilities.items():\n",
    "        if (best_label == None) or (probability > best_probab):\n",
    "            best_probab = probability\n",
    "            best_label = class_value\n",
    "    return best_label"
   ]
  },
  {
   "cell_type": "code",
   "execution_count": 20,
   "metadata": {},
   "outputs": [],
   "source": [
    "predictions=[]\n",
    "actual=[]\n",
    "for row in test_set:\n",
    "    actual.append(row[-1])\n",
    "    predictions.append(predict(Naivebayes_model, row[:-1]))"
   ]
  },
  {
   "cell_type": "code",
   "execution_count": 21,
   "metadata": {},
   "outputs": [
    {
     "name": "stdout",
     "output_type": "stream",
     "text": [
      "Test Accuracy is: 77.300 percent!\n"
     ]
    }
   ],
   "source": [
    "count= sum(1 for i in range(len(actual)) if actual[i]==predictions[i])\n",
    "accuracy = count / float(len(actual)) * 100.0\n",
    "print(\"Test Accuracy is: %.2f percent!\" %accuracy )"
   ]
  },
  {
   "cell_type": "code",
   "execution_count": 22,
   "metadata": {},
   "outputs": [
    {
     "data": {
      "text/html": [
       "<div>\n",
       "<style scoped>\n",
       "    .dataframe tbody tr th:only-of-type {\n",
       "        vertical-align: middle;\n",
       "    }\n",
       "\n",
       "    .dataframe tbody tr th {\n",
       "        vertical-align: top;\n",
       "    }\n",
       "\n",
       "    .dataframe thead th {\n",
       "        text-align: right;\n",
       "    }\n",
       "</style>\n",
       "<table border=\"1\" class=\"dataframe\">\n",
       "  <thead>\n",
       "    <tr style=\"text-align: right;\">\n",
       "      <th></th>\n",
       "      <th>Actual</th>\n",
       "      <th>Predicted</th>\n",
       "    </tr>\n",
       "  </thead>\n",
       "  <tbody>\n",
       "    <tr>\n",
       "      <th>0</th>\n",
       "      <td>9</td>\n",
       "      <td>7</td>\n",
       "    </tr>\n",
       "    <tr>\n",
       "      <th>1</th>\n",
       "      <td>0</td>\n",
       "      <td>0</td>\n",
       "    </tr>\n",
       "    <tr>\n",
       "      <th>2</th>\n",
       "      <td>2</td>\n",
       "      <td>2</td>\n",
       "    </tr>\n",
       "    <tr>\n",
       "      <th>3</th>\n",
       "      <td>5</td>\n",
       "      <td>3</td>\n",
       "    </tr>\n",
       "    <tr>\n",
       "      <th>4</th>\n",
       "      <td>1</td>\n",
       "      <td>1</td>\n",
       "    </tr>\n",
       "    <tr>\n",
       "      <th>5</th>\n",
       "      <td>9</td>\n",
       "      <td>9</td>\n",
       "    </tr>\n",
       "    <tr>\n",
       "      <th>6</th>\n",
       "      <td>7</td>\n",
       "      <td>7</td>\n",
       "    </tr>\n",
       "    <tr>\n",
       "      <th>7</th>\n",
       "      <td>8</td>\n",
       "      <td>8</td>\n",
       "    </tr>\n",
       "    <tr>\n",
       "      <th>8</th>\n",
       "      <td>1</td>\n",
       "      <td>1</td>\n",
       "    </tr>\n",
       "    <tr>\n",
       "      <th>9</th>\n",
       "      <td>0</td>\n",
       "      <td>0</td>\n",
       "    </tr>\n",
       "    <tr>\n",
       "      <th>10</th>\n",
       "      <td>4</td>\n",
       "      <td>4</td>\n",
       "    </tr>\n",
       "    <tr>\n",
       "      <th>11</th>\n",
       "      <td>1</td>\n",
       "      <td>1</td>\n",
       "    </tr>\n",
       "    <tr>\n",
       "      <th>12</th>\n",
       "      <td>7</td>\n",
       "      <td>9</td>\n",
       "    </tr>\n",
       "    <tr>\n",
       "      <th>13</th>\n",
       "      <td>9</td>\n",
       "      <td>9</td>\n",
       "    </tr>\n",
       "    <tr>\n",
       "      <th>14</th>\n",
       "      <td>6</td>\n",
       "      <td>4</td>\n",
       "    </tr>\n",
       "    <tr>\n",
       "      <th>15</th>\n",
       "      <td>4</td>\n",
       "      <td>9</td>\n",
       "    </tr>\n",
       "    <tr>\n",
       "      <th>16</th>\n",
       "      <td>2</td>\n",
       "      <td>2</td>\n",
       "    </tr>\n",
       "    <tr>\n",
       "      <th>17</th>\n",
       "      <td>6</td>\n",
       "      <td>2</td>\n",
       "    </tr>\n",
       "    <tr>\n",
       "      <th>18</th>\n",
       "      <td>8</td>\n",
       "      <td>8</td>\n",
       "    </tr>\n",
       "    <tr>\n",
       "      <th>19</th>\n",
       "      <td>1</td>\n",
       "      <td>1</td>\n",
       "    </tr>\n",
       "    <tr>\n",
       "      <th>20</th>\n",
       "      <td>3</td>\n",
       "      <td>3</td>\n",
       "    </tr>\n",
       "    <tr>\n",
       "      <th>21</th>\n",
       "      <td>7</td>\n",
       "      <td>7</td>\n",
       "    </tr>\n",
       "    <tr>\n",
       "      <th>22</th>\n",
       "      <td>5</td>\n",
       "      <td>9</td>\n",
       "    </tr>\n",
       "    <tr>\n",
       "      <th>23</th>\n",
       "      <td>4</td>\n",
       "      <td>4</td>\n",
       "    </tr>\n",
       "    <tr>\n",
       "      <th>24</th>\n",
       "      <td>4</td>\n",
       "      <td>8</td>\n",
       "    </tr>\n",
       "    <tr>\n",
       "      <th>25</th>\n",
       "      <td>1</td>\n",
       "      <td>1</td>\n",
       "    </tr>\n",
       "    <tr>\n",
       "      <th>26</th>\n",
       "      <td>8</td>\n",
       "      <td>8</td>\n",
       "    </tr>\n",
       "    <tr>\n",
       "      <th>27</th>\n",
       "      <td>1</td>\n",
       "      <td>1</td>\n",
       "    </tr>\n",
       "    <tr>\n",
       "      <th>28</th>\n",
       "      <td>3</td>\n",
       "      <td>3</td>\n",
       "    </tr>\n",
       "    <tr>\n",
       "      <th>29</th>\n",
       "      <td>8</td>\n",
       "      <td>8</td>\n",
       "    </tr>\n",
       "  </tbody>\n",
       "</table>\n",
       "</div>"
      ],
      "text/plain": [
       "    Actual  Predicted\n",
       "0        9          7\n",
       "1        0          0\n",
       "2        2          2\n",
       "3        5          3\n",
       "4        1          1\n",
       "5        9          9\n",
       "6        7          7\n",
       "7        8          8\n",
       "8        1          1\n",
       "9        0          0\n",
       "10       4          4\n",
       "11       1          1\n",
       "12       7          9\n",
       "13       9          9\n",
       "14       6          4\n",
       "15       4          9\n",
       "16       2          2\n",
       "17       6          2\n",
       "18       8          8\n",
       "19       1          1\n",
       "20       3          3\n",
       "21       7          7\n",
       "22       5          9\n",
       "23       4          4\n",
       "24       4          8\n",
       "25       1          1\n",
       "26       8          8\n",
       "27       1          1\n",
       "28       3          3\n",
       "29       8          8"
      ]
     },
     "execution_count": 22,
     "metadata": {},
     "output_type": "execute_result"
    }
   ],
   "source": [
    "df=pd.DataFrame()\n",
    "df['Actual']=actual\n",
    "df['Predicted']=predictions\n",
    "df.head(30)"
   ]
  },
  {
   "cell_type": "code",
   "execution_count": 23,
   "metadata": {},
   "outputs": [],
   "source": [
    "import seaborn as sn\n",
    "import matplotlib.pyplot as plt\n",
    "from sklearn.metrics import confusion_matrix\n",
    "cm=confusion_matrix(actual,predictions)\n",
    "#cm"
   ]
  },
  {
   "cell_type": "code",
   "execution_count": 24,
   "metadata": {},
   "outputs": [
    {
     "data": {
      "text/plain": [
       "<matplotlib.axes._subplots.AxesSubplot at 0x225a6bc85c0>"
      ]
     },
     "execution_count": 24,
     "metadata": {},
     "output_type": "execute_result"
    },
    {
     "data": {
      "image/png": "[encoded data removed]",
      "text/plain": [
       "<Figure size 576x288 with 2 Axes>"
      ]
     },
     "metadata": {
      "needs_background": "light"
     },
     "output_type": "display_data"
    }
   ],
   "source": [
    "plt.figure(figsize = (8,4))\n",
    "sn.heatmap(cm, annot=True, linewidths=.5, cmap=\"cividis\")"
   ]
  },
  {
   "cell_type": "code",
   "execution_count": 25,
   "metadata": {},
   "outputs": [],
   "source": [
    "#pip install pyplot"
   ]
  },
  {
   "cell_type": "code",
   "execution_count": 26,
   "metadata": {},
   "outputs": [],
   "source": [
    "#import plotly.graph_objects as go\n",
    "#from plotly.subplots import make_subplots\n",
    "#fig = make_subplots()\n",
    "#fig.add_trace( go.Table( header=dict(values=[\"S.No\", \"Actual\", \"Predicted\"],font=dict(size=10)),cells=dict(values=[df[k].tolist() for k in df.columns[:]])))\n",
    "#fig.update_layout(height=500)"
   ]
  },
  {
   "cell_type": "code",
   "execution_count": null,
   "metadata": {},
   "outputs": [],
   "source": []
  }
 ],
 "metadata": {
  "kernelspec": {
   "display_name": "Python 3",
   "language": "python",
   "name": "python3"
  },
  "language_info": {
   "codemirror_mode": {
    "name": "ipython",
    "version": 3
   },
   "file_extension": ".py",
   "mimetype": "text/x-python",
   "name": "python",
   "nbconvert_exporter": "python",
   "pygments_lexer": "ipython3",
   "version": "3.7.3"
  }
 },
 "nbformat": 4,
 "nbformat_minor": 2
}
