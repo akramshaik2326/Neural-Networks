{
  "nbformat": 4,
  "nbformat_minor": 0,
  "metadata": {
    "colab": {
      "name": "Assignment 4.ipynb",
      "provenance": [],
      "collapsed_sections": []
    },
    "kernelspec": {
      "name": "python3",
      "display_name": "Python 3"
    },
    "accelerator": "GPU"
  },
  "cells": [
    {
      "cell_type": "code",
      "metadata": {
        "id": "DY7SvQeEd5l0"
      },
      "source": [
        "# importing matplot library to plot data\n",
        "import matplotlib.pyplot as plt\n",
        "%matplotlib inline\n",
        "# importing tensorflow and datasets, layers and model from tensorlow keras\n",
        "import tensorflow as tf\n",
        "from tensorflow.keras import datasets, layers, models\n",
        "# importing keras earlystopping to avoid overfitting\n",
        "from keras.callbacks import EarlyStopping\n",
        "# importing numpy to apply any numpy operations\n",
        "import numpy as np"
      ],
      "execution_count": null,
      "outputs": []
    },
    {
      "cell_type": "markdown",
      "metadata": {
        "id": "fcE8GIRDUtha"
      },
      "source": [
        "# Question 1: Cifar10 dataset"
      ]
    },
    {
      "cell_type": "code",
      "metadata": {
        "id": "B-AdnBkBXH-r",
        "colab": {
          "base_uri": "https://localhost:8080/"
        },
        "outputId": "fa003a7e-dfd3-4a46-8d78-5e4a356b4217"
      },
      "source": [
        "# loadind cifar10 train and test data from keras datasets\n",
        "(x_train, y_train),(x_test, y_test) = tf.keras.datasets.cifar10.load_data()"
      ],
      "execution_count": null,
      "outputs": [
        {
          "output_type": "stream",
          "text": [
            "Downloading data from https://www.cs.toronto.edu/~kriz/cifar-10-python.tar.gz\n",
            "170500096/170498071 [==============================] - 2s 0us/step\n"
          ],
          "name": "stdout"
        }
      ]
    },
    {
      "cell_type": "code",
      "metadata": {
        "id": "yAPtnYLEXiqF",
        "colab": {
          "base_uri": "https://localhost:8080/"
        },
        "outputId": "9ca44c22-736f-431a-ac3b-f6edcd5c0742"
      },
      "source": [
        "# printing shapes of train and test data\n",
        "print('x_train:',x_train.shape,'y_train',y_train.shape)\n",
        "print('x_test:',x_test.shape,'y_test:',y_test.shape)"
      ],
      "execution_count": null,
      "outputs": [
        {
          "output_type": "stream",
          "text": [
            "x_train: (50000, 32, 32, 3) y_train (50000, 1)\n",
            "x_test: (10000, 32, 32, 3) y_test: (10000, 1)\n"
          ],
          "name": "stdout"
        }
      ]
    },
    {
      "cell_type": "code",
      "metadata": {
        "id": "XFL7g2uQjF95",
        "colab": {
          "base_uri": "https://localhost:8080/"
        },
        "outputId": "c4d3f165-0ad5-4115-a4bd-040234b223cd"
      },
      "source": [
        "# we can see there 50000 rows in train dataset and each row has width and height of 32 in all 3 channels of RGB \n",
        "x_train[0].shape"
      ],
      "execution_count": null,
      "outputs": [
        {
          "output_type": "execute_result",
          "data": {
            "text/plain": [
              "(32, 32, 3)"
            ]
          },
          "metadata": {
            "tags": []
          },
          "execution_count": 4
        }
      ]
    },
    {
      "cell_type": "markdown",
      "metadata": {
        "id": "Rzz4GSS7Ul6a"
      },
      "source": [
        "# Question 2: plot image from each class"
      ]
    },
    {
      "cell_type": "code",
      "metadata": {
        "id": "SsA-EeafmH97",
        "colab": {
          "base_uri": "https://localhost:8080/",
          "height": 319
        },
        "outputId": "8960a5ef-b886-441e-bfc6-9600ef852281"
      },
      "source": [
        "#creating figure of size 15 by 5 to plot 10 images in 2 by 5 matrix\n",
        "fig = plt.figure(figsize=(15,5))\n",
        "rows=2\n",
        "cols=5\n",
        "# creating list of all names of classes \n",
        "cifar_classes= [\"airplane\", \"automobile\", \"bird\", \"cat\", \"deer\", \"dog\", \"frog\", \"horse\", \"ship\", \"truck\"]\n",
        "for i in range(10):\n",
        "  # using index of labels data and taking the index value of it to plot that perticular image from features data \n",
        "  indexl=list(y_train).index(i)\n",
        "  plt.subplot(rows, cols, i + 1)\n",
        "  # remove grids and axis to plot images clearly\n",
        "  plt.grid(b=False) \n",
        "  plt.axis(\"off\")\n",
        "  # using imshow to plot array as image\n",
        "  plt.imshow(x_train[indexl])\n",
        "  plt.title(cifar_classes[i])\n",
        "plt.show()"
      ],
      "execution_count": null,
      "outputs": [
        {
          "output_type": "display_data",
          "data": {
            "image/png": "[encoded data removed]",
            "text/plain": [
              "<Figure size 1080x360 with 10 Axes>"
            ]
          },
          "metadata": {
            "tags": [],
            "needs_background": "light"
          }
        }
      ]
    },
    {
      "cell_type": "markdown",
      "metadata": {
        "id": "2G5wmxMJUQ18"
      },
      "source": [
        "# Question 3: Train model with different learning rate, kernal size, stride, epochs etc.,"
      ]
    },
    {
      "cell_type": "code",
      "metadata": {
        "id": "BjdWEVkdlim4"
      },
      "source": [
        "basic_model = models.Sequential([\n",
        "                             # creating convolutional layers with filters, kernal size, input shape and padding as same.\n",
        "                             # padding same is used to pad with 1 and not loose even any small information from data and keep the size of input same\n",
        "                             layers.Conv2D(32, (3, 3), activation='relu', input_shape=(32, 32, 3), padding='SAME'),\n",
        "                             layers.Conv2D(64, (3, 3), activation='relu', padding='SAME'),\n",
        "                             # max pooling is used to downsample the data and use max value from the size of pool where max value has useful information from any grid of its size \n",
        "                             layers.MaxPooling2D((2, 2)),\n",
        "                             layers.Conv2D(64, (3, 3), activation='relu'),\n",
        "                             layers.MaxPooling2D((2, 2)),\n",
        "                             # falltening the layers to bring it in one dimension\n",
        "                             layers.Flatten(),\n",
        "                             layers.Dense(128,activation='relu'),\n",
        "                             # creating last layer with 10 nodes as the number of classes\n",
        "                             layers.Dense(10)\n",
        "                             ])"
      ],
      "execution_count": null,
      "outputs": []
    },
    {
      "cell_type": "code",
      "metadata": {
        "id": "wKHkVO0S7uGh",
        "colab": {
          "base_uri": "https://localhost:8080/"
        },
        "outputId": "7b188d6b-ede0-4923-82f4-55eb60b8c80a"
      },
      "source": [
        "# creating optimizer\n",
        "basic_opt = tf.keras.optimizers.SGD(lr=0.001)\n",
        "# using early stopping to monitor validation data's loss value with mode min as we need loss as minimum as possible and patience helps in keeping track limit \n",
        "# if the loss is increasing for 5 epoch the model stops using call backs \n",
        "es = EarlyStopping(monitor='val_loss', mode='min', verbose=1, patience=5)\n",
        "# compiling model with accuracy metric \n",
        "basic_model.compile(optimizer=basic_opt, loss=tf.keras.losses.SparseCategoricalCrossentropy(from_logits=True), metrics=['accuracy'])\n",
        "\n",
        "#fitting the model with train data with batch size 32 and using 20% of train data for validation\n",
        "basic_history = basic_model.fit(x_train, y_train, epochs=50, batch_size=32,verbose=2,validation_split=0.2, callbacks=[es])"
      ],
      "execution_count": null,
      "outputs": [
        {
          "output_type": "stream",
          "text": [
            "Epoch 1/50\n",
            "1250/1250 - 5s - loss: 1.8746 - accuracy: 0.3490 - val_loss: 1.5989 - val_accuracy: 0.4285\n",
            "Epoch 2/50\n",
            "1250/1250 - 5s - loss: 1.4766 - accuracy: 0.4686 - val_loss: 1.4143 - val_accuracy: 0.4956\n",
            "Epoch 3/50\n",
            "1250/1250 - 5s - loss: 1.3230 - accuracy: 0.5281 - val_loss: 1.2940 - val_accuracy: 0.5491\n",
            "Epoch 4/50\n",
            "1250/1250 - 5s - loss: 1.2184 - accuracy: 0.5709 - val_loss: 1.2671 - val_accuracy: 0.5640\n",
            "Epoch 5/50\n",
            "1250/1250 - 5s - loss: 1.1414 - accuracy: 0.5976 - val_loss: 1.1645 - val_accuracy: 0.6021\n",
            "Epoch 6/50\n",
            "1250/1250 - 5s - loss: 1.0748 - accuracy: 0.6210 - val_loss: 1.1246 - val_accuracy: 0.6132\n",
            "Epoch 7/50\n",
            "1250/1250 - 5s - loss: 1.0271 - accuracy: 0.6411 - val_loss: 1.1104 - val_accuracy: 0.6186\n",
            "Epoch 8/50\n",
            "1250/1250 - 5s - loss: 0.9858 - accuracy: 0.6562 - val_loss: 1.0947 - val_accuracy: 0.6213\n",
            "Epoch 9/50\n",
            "1250/1250 - 5s - loss: 0.9467 - accuracy: 0.6705 - val_loss: 1.0590 - val_accuracy: 0.6418\n",
            "Epoch 10/50\n",
            "1250/1250 - 5s - loss: 0.9102 - accuracy: 0.6842 - val_loss: 1.0707 - val_accuracy: 0.6342\n",
            "Epoch 11/50\n",
            "1250/1250 - 5s - loss: 0.8785 - accuracy: 0.6944 - val_loss: 1.0598 - val_accuracy: 0.6406\n",
            "Epoch 12/50\n",
            "1250/1250 - 5s - loss: 0.8461 - accuracy: 0.7061 - val_loss: 1.0699 - val_accuracy: 0.6440\n",
            "Epoch 13/50\n",
            "1250/1250 - 5s - loss: 0.8186 - accuracy: 0.7168 - val_loss: 1.0521 - val_accuracy: 0.6464\n",
            "Epoch 14/50\n",
            "1250/1250 - 5s - loss: 0.7856 - accuracy: 0.7285 - val_loss: 1.0093 - val_accuracy: 0.6586\n",
            "Epoch 15/50\n",
            "1250/1250 - 5s - loss: 0.7592 - accuracy: 0.7385 - val_loss: 1.0249 - val_accuracy: 0.6596\n",
            "Epoch 16/50\n",
            "1250/1250 - 5s - loss: 0.7283 - accuracy: 0.7472 - val_loss: 1.0321 - val_accuracy: 0.6575\n",
            "Epoch 17/50\n",
            "1250/1250 - 5s - loss: 0.7042 - accuracy: 0.7545 - val_loss: 1.0374 - val_accuracy: 0.6611\n",
            "Epoch 18/50\n",
            "1250/1250 - 5s - loss: 0.6782 - accuracy: 0.7659 - val_loss: 1.0314 - val_accuracy: 0.6674\n",
            "Epoch 19/50\n",
            "1250/1250 - 5s - loss: 0.6525 - accuracy: 0.7739 - val_loss: 1.0381 - val_accuracy: 0.6675\n",
            "Epoch 00019: early stopping\n"
          ],
          "name": "stdout"
        }
      ]
    },
    {
      "cell_type": "code",
      "metadata": {
        "colab": {
          "base_uri": "https://localhost:8080/",
          "height": 296
        },
        "id": "TY-6j9DO5xoN",
        "outputId": "faff3edb-86cc-4457-a929-488891b71dc3"
      },
      "source": [
        "#Plotting loss of model\n",
        "plt.plot(basic_history.history['loss'], label='train_loss')\n",
        "plt.plot(basic_history.history['val_loss'], label = 'val_loss')\n",
        "plt.xlabel('Epoch')\n",
        "plt.ylabel('Loss')\n",
        "#plt.ylim([0.5, 1])\n",
        "plt.legend(loc='upper right')"
      ],
      "execution_count": null,
      "outputs": [
        {
          "output_type": "execute_result",
          "data": {
            "text/plain": [
              "<matplotlib.legend.Legend at 0x7f48202d7a58>"
            ]
          },
          "metadata": {
            "tags": []
          },
          "execution_count": 23
        },
        {
          "output_type": "display_data",
          "data": {
            "image/png": "[encoded data removed]",
            "text/plain": [
              "<Figure size 432x288 with 1 Axes>"
            ]
          },
          "metadata": {
            "tags": [],
            "needs_background": "light"
          }
        }
      ]
    },
    {
      "cell_type": "code",
      "metadata": {
        "id": "u0_TIlRj8IpC",
        "colab": {
          "base_uri": "https://localhost:8080/",
          "height": 313
        },
        "outputId": "4ecaa5a2-2336-4a53-da77-d3501d25ee23"
      },
      "source": [
        "# plotting accuracy of validation data\n",
        "plt.plot(basic_history.history['accuracy'], label='train')\n",
        "plt.plot(basic_history.history['val_accuracy'], label = 'val')\n",
        "plt.xlabel('Epoch')\n",
        "plt.ylabel('Accuracy')\n",
        "plt.legend(loc='lower right')\n",
        "\n",
        "# printing test accuracy and loss\n",
        "test_loss, test_acc = basic_model.evaluate(x_test,  y_test, verbose=2)\n",
        "print('Test Loss: ',test_loss,' , Test Accuracy: ',test_acc)"
      ],
      "execution_count": null,
      "outputs": [
        {
          "output_type": "stream",
          "text": [
            "313/313 - 1s - loss: 1.0363 - accuracy: 0.6603\n",
            "Test Loss:  1.036264419555664  , Test Accuracy:  0.6603000164031982\n"
          ],
          "name": "stdout"
        },
        {
          "output_type": "display_data",
          "data": {
            "image/png": "[encoded data removed]",
            "text/plain": [
              "<Figure size 432x288 with 1 Axes>"
            ]
          },
          "metadata": {
            "tags": [],
            "needs_background": "light"
          }
        }
      ]
    },
    {
      "cell_type": "markdown",
      "metadata": {
        "id": "rzi3X74YGxsg"
      },
      "source": [
        "learning rate: it helps in taking steps towards minima\n",
        "\n",
        "1.   0.0001 model is very slow, test accuracy after 50 epochs was 60%\n",
        "2.   0.0005 test accuracy after 50 epochs was 62%\n",
        "3.   0.01 accuracy was stuck at 10 % as the learning rate was very high for the model due to which it was overfitting\n",
        "\n",
        "Therefore 0.001 is better than all.   \n",
        "\n",
        "Stride : the stride size helps in considering how many columns to skip after applying kernal on data\n",
        "\n",
        "1.   increasing stride from 1 to 2 did not bring good results as accuracy was  58%. So with stride 1 we got our best results.\n",
        "\n",
        "Kernal size: this helps in choosing size of weights to capture any minute or major information from data\n",
        "\n",
        "1.   accuracy was 53%\n",
        "2.   accuracy was 65.2 %\n",
        "3.   accuracy was 66.03%\n",
        "4.   accuracy was 65%\n",
        "5.   accuracy was 63%\n",
        "\n",
        "Out of all kernal sizes, kernal size 3 gave best accuracy, So for 1'st question model basic model above compiled and plotted was the best model with parameters kernal size=(3,3), stride=1, SGD optimizer with learning rate of 0.001 with low varience in accuracy and loss compared with models of other parameters. There is some overfitting happening but it can reduced by normalizing the data. \n"
      ]
    },
    {
      "cell_type": "markdown",
      "metadata": {
        "id": "VdqHfdBg0PNU"
      },
      "source": [
        "# Question 4 : Normalizing the data"
      ]
    },
    {
      "cell_type": "code",
      "metadata": {
        "id": "sG5owiEvwbMb"
      },
      "source": [
        "# Normalizing the data to bring the values between 0 and 1 so the varience is less in the data and predictions will be better\n",
        "# here to normalize the data we divide all images array with 255 as the pixels values will be between 0 - 255 in RGB \n",
        "x_train_norm = x_train/255\n",
        "x_test_norm = x_test/255"
      ],
      "execution_count": null,
      "outputs": []
    },
    {
      "cell_type": "code",
      "metadata": {
        "id": "ckeJzjWPdrW5"
      },
      "source": [
        "# creating a new base model for this question to notice changes in results\n",
        "base_model2 = models.Sequential([\n",
        "                             layers.Conv2D(32, (3, 3), activation='relu', input_shape=(32, 32, 3), padding='SAME'),\n",
        "                             layers.Conv2D(64, (3, 3), activation='relu', padding='SAME'),\n",
        "                             layers.MaxPooling2D((2, 2)),\n",
        "                             layers.Conv2D(64, (3, 3), activation='relu'),\n",
        "                             layers.MaxPooling2D((2, 2)),\n",
        "                             layers.Flatten(),\n",
        "                             layers.Dense(128,activation='relu'),\n",
        "                             layers.Dense(10)\n",
        "                             ])"
      ],
      "execution_count": null,
      "outputs": []
    },
    {
      "cell_type": "code",
      "metadata": {
        "colab": {
          "base_uri": "https://localhost:8080/"
        },
        "id": "MNcuKhuQdrW5",
        "outputId": "b2f0b34b-7956-46e3-f06f-3304df99cbfb"
      },
      "source": [
        "base_opt2 = tf.keras.optimizers.Adam(lr=0.001)\n",
        "es = EarlyStopping(monitor='val_loss', mode='min', verbose=1, patience=5)\n",
        "base_model2.compile(optimizer=base_opt2, loss=tf.keras.losses.SparseCategoricalCrossentropy(from_logits=True), metrics=['accuracy'])\n",
        "\n",
        "base_history2 = base_model2.fit(x_train_norm, y_train, epochs=100, batch_size=32,verbose=2,validation_split=0.2, callbacks=[es])"
      ],
      "execution_count": null,
      "outputs": [
        {
          "output_type": "stream",
          "text": [
            "Epoch 1/100\n",
            "1250/1250 - 5s - loss: 1.4027 - accuracy: 0.4982 - val_loss: 1.1335 - val_accuracy: 0.5933\n",
            "Epoch 2/100\n",
            "1250/1250 - 5s - loss: 0.9536 - accuracy: 0.6677 - val_loss: 0.8904 - val_accuracy: 0.6916\n",
            "Epoch 3/100\n",
            "1250/1250 - 5s - loss: 0.7893 - accuracy: 0.7247 - val_loss: 0.8300 - val_accuracy: 0.7063\n",
            "Epoch 4/100\n",
            "1250/1250 - 5s - loss: 0.6780 - accuracy: 0.7616 - val_loss: 0.8106 - val_accuracy: 0.7221\n",
            "Epoch 5/100\n",
            "1250/1250 - 5s - loss: 0.5889 - accuracy: 0.7937 - val_loss: 0.8050 - val_accuracy: 0.7203\n",
            "Epoch 6/100\n",
            "1250/1250 - 5s - loss: 0.5006 - accuracy: 0.8238 - val_loss: 0.8221 - val_accuracy: 0.7284\n",
            "Epoch 7/100\n",
            "1250/1250 - 5s - loss: 0.4210 - accuracy: 0.8525 - val_loss: 0.8541 - val_accuracy: 0.7325\n",
            "Epoch 8/100\n",
            "1250/1250 - 5s - loss: 0.3516 - accuracy: 0.8763 - val_loss: 0.9303 - val_accuracy: 0.7278\n",
            "Epoch 9/100\n",
            "1250/1250 - 5s - loss: 0.2903 - accuracy: 0.8966 - val_loss: 1.1077 - val_accuracy: 0.7157\n",
            "Epoch 10/100\n",
            "1250/1250 - 5s - loss: 0.2413 - accuracy: 0.9125 - val_loss: 1.1640 - val_accuracy: 0.7128\n",
            "Epoch 00010: early stopping\n"
          ],
          "name": "stdout"
        }
      ]
    },
    {
      "cell_type": "code",
      "metadata": {
        "colab": {
          "base_uri": "https://localhost:8080/",
          "height": 296
        },
        "id": "COhQYqjGdrW5",
        "outputId": "4a2c64a7-ca62-462b-f2c4-cb947b58c6ed"
      },
      "source": [
        "plt.plot(base_history2.history['loss'], label='train_loss')\n",
        "plt.plot(base_history2.history['val_loss'], label = 'val_loss')\n",
        "plt.xlabel('Epoch')\n",
        "plt.ylabel('Loss')\n",
        "#plt.ylim([0.5, 1])\n",
        "plt.legend(loc='upper right')"
      ],
      "execution_count": null,
      "outputs": [
        {
          "output_type": "execute_result",
          "data": {
            "text/plain": [
              "<matplotlib.legend.Legend at 0x7ff066616cf8>"
            ]
          },
          "metadata": {
            "tags": []
          },
          "execution_count": 22
        },
        {
          "output_type": "display_data",
          "data": {
            "image/png": "[encoded data removed]",
            "text/plain": [
              "<Figure size 432x288 with 1 Axes>"
            ]
          },
          "metadata": {
            "tags": [],
            "needs_background": "light"
          }
        }
      ]
    },
    {
      "cell_type": "code",
      "metadata": {
        "colab": {
          "base_uri": "https://localhost:8080/",
          "height": 313
        },
        "id": "lOTwaE5odrW6",
        "outputId": "831b0213-7996-40d4-e870-f7dbb054c40e"
      },
      "source": [
        "plt.plot(base_history2.history['accuracy'], label='train')\n",
        "plt.plot(base_history2.history['val_accuracy'], label = 'val')\n",
        "plt.xlabel('Epoch')\n",
        "plt.ylabel('Accuracy')\n",
        "plt.legend(loc='lower right')\n",
        "\n",
        "test_loss, test_acc = base_model2.evaluate(x_test_norm,  y_test, verbose=2)\n",
        "print('Test Loss: ',test_loss,' , Test Accuracy: ',test_acc)"
      ],
      "execution_count": null,
      "outputs": [
        {
          "output_type": "stream",
          "text": [
            "313/313 - 1s - loss: 1.1822 - accuracy: 0.7141\n",
            "Test Loss:  1.1821554899215698  , Test Accuracy:  0.7141000032424927\n"
          ],
          "name": "stdout"
        },
        {
          "output_type": "display_data",
          "data": {
            "image/png": "[encoded data removed]",
            "text/plain": [
              "<Figure size 432x288 with 1 Axes>"
            ]
          },
          "metadata": {
            "tags": [],
            "needs_background": "light"
          }
        }
      ]
    },
    {
      "cell_type": "markdown",
      "metadata": {
        "id": "pYqU4eZakZTD"
      },
      "source": [
        "Trying different optimizers with Normalized data to observe any better results with different optimizer: \n",
        "\n",
        "1.   SGD: \n",
        "*   With base model kernal size 3 and stride 1 the accuracy was 63.77% with low varience and with stride2 56.01%, so no we know stride 2 is not good for the model.\n",
        "*   kernal size 2 the accuracy was 61.21\n",
        "*   kernal size 4 the accuracy is 63.59%\n",
        "*   kernal size 5 accuracy 62.58%.\n",
        "\n",
        "2.  Adam : with lr 0.001 and kernal size 3 accuracy was 70.73% with little more varience, with 0.01 accuracy was 0.10 %\n",
        "\n",
        "3.   RMSprop : 0.001 with size 3 accuracy was 67.64% with high varience, with 0.01 accuracy was 0.10 %\n",
        "\n",
        "##From the above results Adam Optimizer gave best results but with more varience in it so I find that model with SGD optimizer with learning rate of 0.001 and kernal size 3 and 4 gave similar results even after normalization but important thing to notice was the varience in results was very low! compared to other optimizers"
      ]
    },
    {
      "cell_type": "markdown",
      "metadata": {
        "id": "4aOLGMQq18XJ"
      },
      "source": [
        "# Question 5: different activation functions"
      ]
    },
    {
      "cell_type": "code",
      "metadata": {
        "id": "02IEtOtHsYu3"
      },
      "source": [
        "# creating model with LeakyRelu optimizer\n",
        "base_model3 = models.Sequential([\n",
        "                             layers.Conv2D(32, (4, 4), input_shape=(32, 32, 3), padding='SAME'),\n",
        "                             layers.LeakyReLU(alpha=0.001),\n",
        "                             layers.Conv2D(64, (4, 4), padding='SAME'),\n",
        "                             layers.LeakyReLU(alpha=0.001),\n",
        "                             layers.MaxPooling2D((2, 2)),\n",
        "                             layers.Conv2D(64, (4, 4)),\n",
        "                             layers.LeakyReLU(alpha=0.001),\n",
        "                             layers.MaxPooling2D((2, 2)),\n",
        "                             layers.Flatten(),\n",
        "                             layers.Dense(128),\n",
        "                             layers.LeakyReLU(alpha=0.001),\n",
        "                             layers.Dense(10)\n",
        "                             ])"
      ],
      "execution_count": null,
      "outputs": []
    },
    {
      "cell_type": "code",
      "metadata": {
        "colab": {
          "base_uri": "https://localhost:8080/"
        },
        "id": "xUjv7N1isYu3",
        "outputId": "106d7406-5cba-4377-a68e-5ec205d3df6c"
      },
      "source": [
        "base_opt3 = tf.keras.optimizers.SGD(lr=0.001)\n",
        "es = EarlyStopping(monitor='val_loss', mode='min', verbose=1, patience=5)\n",
        "base_model3.compile(optimizer=base_opt3, loss=tf.keras.losses.SparseCategoricalCrossentropy(from_logits=True), metrics=['accuracy'])\n",
        "\n",
        "base_history3 = base_model3.fit(x_train_norm, y_train, epochs=100, batch_size=32,verbose=2,validation_split=0.2, callbacks=[es])"
      ],
      "execution_count": null,
      "outputs": [
        {
          "output_type": "stream",
          "text": [
            "Epoch 1/100\n",
            "WARNING:tensorflow:Callbacks method `on_train_batch_end` is slow compared to the batch time (batch time: 0.0023s vs `on_train_batch_end` time: 0.0066s). Check your callbacks.\n",
            "1250/1250 - 8s - loss: 2.2795 - accuracy: 0.1332 - val_loss: 2.2455 - val_accuracy: 0.1746\n",
            "Epoch 2/100\n",
            "1250/1250 - 8s - loss: 2.1564 - accuracy: 0.2284 - val_loss: 2.0499 - val_accuracy: 0.2551\n",
            "Epoch 3/100\n",
            "1250/1250 - 8s - loss: 1.9749 - accuracy: 0.2906 - val_loss: 1.9590 - val_accuracy: 0.3055\n",
            "Epoch 4/100\n",
            "1250/1250 - 8s - loss: 1.8884 - accuracy: 0.3295 - val_loss: 1.8544 - val_accuracy: 0.3415\n",
            "Epoch 5/100\n",
            "1250/1250 - 8s - loss: 1.8008 - accuracy: 0.3634 - val_loss: 1.7669 - val_accuracy: 0.3743\n",
            "Epoch 6/100\n",
            "1250/1250 - 8s - loss: 1.7109 - accuracy: 0.3955 - val_loss: 1.6812 - val_accuracy: 0.4031\n",
            "Epoch 7/100\n",
            "1250/1250 - 8s - loss: 1.6283 - accuracy: 0.4219 - val_loss: 1.6178 - val_accuracy: 0.4235\n",
            "Epoch 8/100\n",
            "1250/1250 - 8s - loss: 1.5662 - accuracy: 0.4385 - val_loss: 1.5463 - val_accuracy: 0.4475\n",
            "Epoch 9/100\n",
            "1250/1250 - 8s - loss: 1.5225 - accuracy: 0.4550 - val_loss: 1.5195 - val_accuracy: 0.4600\n",
            "Epoch 10/100\n",
            "1250/1250 - 8s - loss: 1.4881 - accuracy: 0.4686 - val_loss: 1.4927 - val_accuracy: 0.4715\n",
            "Epoch 11/100\n",
            "1250/1250 - 8s - loss: 1.4592 - accuracy: 0.4770 - val_loss: 1.4591 - val_accuracy: 0.4836\n",
            "Epoch 12/100\n",
            "1250/1250 - 8s - loss: 1.4330 - accuracy: 0.4886 - val_loss: 1.4634 - val_accuracy: 0.4780\n",
            "Epoch 13/100\n",
            "1250/1250 - 8s - loss: 1.4139 - accuracy: 0.4973 - val_loss: 1.4569 - val_accuracy: 0.4783\n",
            "Epoch 14/100\n",
            "1250/1250 - 8s - loss: 1.3923 - accuracy: 0.5066 - val_loss: 1.4024 - val_accuracy: 0.5040\n",
            "Epoch 15/100\n",
            "1250/1250 - 8s - loss: 1.3731 - accuracy: 0.5092 - val_loss: 1.4239 - val_accuracy: 0.5021\n",
            "Epoch 16/100\n",
            "1250/1250 - 8s - loss: 1.3552 - accuracy: 0.5189 - val_loss: 1.3884 - val_accuracy: 0.5083\n",
            "Epoch 17/100\n",
            "1250/1250 - 8s - loss: 1.3369 - accuracy: 0.5279 - val_loss: 1.3736 - val_accuracy: 0.5203\n",
            "Epoch 18/100\n",
            "1250/1250 - 8s - loss: 1.3224 - accuracy: 0.5327 - val_loss: 1.3606 - val_accuracy: 0.5190\n",
            "Epoch 19/100\n",
            "1250/1250 - 8s - loss: 1.3040 - accuracy: 0.5396 - val_loss: 1.3464 - val_accuracy: 0.5294\n",
            "Epoch 20/100\n",
            "1250/1250 - 8s - loss: 1.2891 - accuracy: 0.5430 - val_loss: 1.3289 - val_accuracy: 0.5344\n",
            "Epoch 21/100\n",
            "1250/1250 - 8s - loss: 1.2753 - accuracy: 0.5486 - val_loss: 1.3234 - val_accuracy: 0.5338\n",
            "Epoch 22/100\n",
            "1250/1250 - 8s - loss: 1.2583 - accuracy: 0.5563 - val_loss: 1.3161 - val_accuracy: 0.5379\n",
            "Epoch 23/100\n",
            "1250/1250 - 8s - loss: 1.2447 - accuracy: 0.5628 - val_loss: 1.2931 - val_accuracy: 0.5472\n",
            "Epoch 24/100\n",
            "1250/1250 - 8s - loss: 1.2316 - accuracy: 0.5659 - val_loss: 1.2956 - val_accuracy: 0.5491\n",
            "Epoch 25/100\n",
            "1250/1250 - 8s - loss: 1.2147 - accuracy: 0.5732 - val_loss: 1.2905 - val_accuracy: 0.5429\n",
            "Epoch 26/100\n",
            "1250/1250 - 8s - loss: 1.2009 - accuracy: 0.5810 - val_loss: 1.2655 - val_accuracy: 0.5558\n",
            "Epoch 27/100\n",
            "1250/1250 - 8s - loss: 1.1876 - accuracy: 0.5849 - val_loss: 1.2560 - val_accuracy: 0.5615\n",
            "Epoch 28/100\n",
            "1250/1250 - 8s - loss: 1.1756 - accuracy: 0.5875 - val_loss: 1.2436 - val_accuracy: 0.5677\n",
            "Epoch 29/100\n",
            "1250/1250 - 8s - loss: 1.1615 - accuracy: 0.5941 - val_loss: 1.2479 - val_accuracy: 0.5637\n",
            "Epoch 30/100\n",
            "1250/1250 - 8s - loss: 1.1499 - accuracy: 0.5990 - val_loss: 1.2292 - val_accuracy: 0.5736\n",
            "Epoch 31/100\n",
            "1250/1250 - 8s - loss: 1.1366 - accuracy: 0.6019 - val_loss: 1.2256 - val_accuracy: 0.5770\n",
            "Epoch 32/100\n",
            "1250/1250 - 8s - loss: 1.1231 - accuracy: 0.6069 - val_loss: 1.2200 - val_accuracy: 0.5796\n",
            "Epoch 33/100\n",
            "1250/1250 - 8s - loss: 1.1102 - accuracy: 0.6132 - val_loss: 1.2121 - val_accuracy: 0.5788\n",
            "Epoch 34/100\n",
            "1250/1250 - 8s - loss: 1.0993 - accuracy: 0.6145 - val_loss: 1.2250 - val_accuracy: 0.5763\n",
            "Epoch 35/100\n",
            "1250/1250 - 8s - loss: 1.0864 - accuracy: 0.6228 - val_loss: 1.2040 - val_accuracy: 0.5773\n",
            "Epoch 36/100\n",
            "1250/1250 - 8s - loss: 1.0739 - accuracy: 0.6247 - val_loss: 1.2013 - val_accuracy: 0.5846\n",
            "Epoch 37/100\n",
            "1250/1250 - 8s - loss: 1.0631 - accuracy: 0.6301 - val_loss: 1.1837 - val_accuracy: 0.5905\n",
            "Epoch 38/100\n",
            "1250/1250 - 8s - loss: 1.0511 - accuracy: 0.6340 - val_loss: 1.1859 - val_accuracy: 0.5940\n",
            "Epoch 39/100\n",
            "1250/1250 - 8s - loss: 1.0392 - accuracy: 0.6378 - val_loss: 1.1668 - val_accuracy: 0.5997\n",
            "Epoch 40/100\n",
            "1250/1250 - 8s - loss: 1.0271 - accuracy: 0.6432 - val_loss: 1.1997 - val_accuracy: 0.5865\n",
            "Epoch 41/100\n",
            "1250/1250 - 8s - loss: 1.0169 - accuracy: 0.6465 - val_loss: 1.1662 - val_accuracy: 0.5995\n",
            "Epoch 42/100\n",
            "1250/1250 - 8s - loss: 1.0058 - accuracy: 0.6506 - val_loss: 1.1605 - val_accuracy: 0.5982\n",
            "Epoch 43/100\n",
            "1250/1250 - 8s - loss: 0.9937 - accuracy: 0.6550 - val_loss: 1.1548 - val_accuracy: 0.6029\n",
            "Epoch 44/100\n",
            "1250/1250 - 8s - loss: 0.9837 - accuracy: 0.6586 - val_loss: 1.1609 - val_accuracy: 0.5963\n",
            "Epoch 45/100\n",
            "1250/1250 - 8s - loss: 0.9723 - accuracy: 0.6637 - val_loss: 1.1662 - val_accuracy: 0.5961\n",
            "Epoch 46/100\n",
            "1250/1250 - 8s - loss: 0.9633 - accuracy: 0.6637 - val_loss: 1.1311 - val_accuracy: 0.6101\n",
            "Epoch 47/100\n",
            "1250/1250 - 8s - loss: 0.9519 - accuracy: 0.6706 - val_loss: 1.1318 - val_accuracy: 0.6101\n",
            "Epoch 48/100\n",
            "1250/1250 - 8s - loss: 0.9409 - accuracy: 0.6742 - val_loss: 1.1372 - val_accuracy: 0.6061\n",
            "Epoch 49/100\n",
            "1250/1250 - 8s - loss: 0.9298 - accuracy: 0.6769 - val_loss: 1.1226 - val_accuracy: 0.6156\n",
            "Epoch 50/100\n",
            "1250/1250 - 8s - loss: 0.9197 - accuracy: 0.6820 - val_loss: 1.1298 - val_accuracy: 0.6175\n",
            "Epoch 51/100\n",
            "1250/1250 - 8s - loss: 0.9089 - accuracy: 0.6839 - val_loss: 1.0986 - val_accuracy: 0.6228\n",
            "Epoch 52/100\n",
            "1250/1250 - 8s - loss: 0.8990 - accuracy: 0.6924 - val_loss: 1.1216 - val_accuracy: 0.6215\n",
            "Epoch 53/100\n",
            "1250/1250 - 8s - loss: 0.8915 - accuracy: 0.6929 - val_loss: 1.1415 - val_accuracy: 0.6186\n",
            "Epoch 54/100\n",
            "1250/1250 - 8s - loss: 0.8815 - accuracy: 0.6957 - val_loss: 1.1086 - val_accuracy: 0.6236\n",
            "Epoch 55/100\n",
            "1250/1250 - 8s - loss: 0.8716 - accuracy: 0.7004 - val_loss: 1.1188 - val_accuracy: 0.6170\n",
            "Epoch 56/100\n",
            "1250/1250 - 8s - loss: 0.8609 - accuracy: 0.7036 - val_loss: 1.1043 - val_accuracy: 0.6269\n",
            "Epoch 00056: early stopping\n"
          ],
          "name": "stdout"
        }
      ]
    },
    {
      "cell_type": "code",
      "metadata": {
        "colab": {
          "base_uri": "https://localhost:8080/",
          "height": 296
        },
        "id": "G3ldLhZOsYu4",
        "outputId": "8cd14ec0-3c5f-44a0-d25d-dac491999e43"
      },
      "source": [
        "plt.plot(base_history3.history['loss'], label='train_loss')\n",
        "plt.plot(base_history3.history['val_loss'], label = 'val_loss')\n",
        "plt.xlabel('Epoch')\n",
        "plt.ylabel('Loss')\n",
        "#plt.ylim([0.5, 1])\n",
        "plt.legend(loc='upper right')"
      ],
      "execution_count": null,
      "outputs": [
        {
          "output_type": "execute_result",
          "data": {
            "text/plain": [
              "<matplotlib.legend.Legend at 0x7f80436f9ac8>"
            ]
          },
          "metadata": {
            "tags": []
          },
          "execution_count": 10
        },
        {
          "output_type": "display_data",
          "data": {
            "image/png": "[encoded data removed]",
            "text/plain": [
              "<Figure size 432x288 with 1 Axes>"
            ]
          },
          "metadata": {
            "tags": [],
            "needs_background": "light"
          }
        }
      ]
    },
    {
      "cell_type": "code",
      "metadata": {
        "colab": {
          "base_uri": "https://localhost:8080/",
          "height": 313
        },
        "id": "6vJjlj_VsYu4",
        "outputId": "8b1b69bf-4291-4cc3-d39a-bd711553ee15"
      },
      "source": [
        "plt.plot(base_history3.history['accuracy'], label='train')\n",
        "plt.plot(base_history3.history['val_accuracy'], label = 'val')\n",
        "plt.xlabel('Epoch')\n",
        "plt.ylabel('Accuracy')\n",
        "plt.legend(loc='lower right')\n",
        "\n",
        "test_loss, test_acc = base_model3.evaluate(x_test_norm,  y_test, verbose=2)\n",
        "print('Test Loss: ',test_loss,' , Test Accuracy: ',test_acc)"
      ],
      "execution_count": null,
      "outputs": [
        {
          "output_type": "stream",
          "text": [
            "313/313 - 1s - loss: 1.0988 - accuracy: 0.6229\n",
            "Test Loss:  1.0988415479660034  , Test Accuracy:  0.6229000091552734\n"
          ],
          "name": "stdout"
        },
        {
          "output_type": "display_data",
          "data": {
            "image/png": "[encoded data removed]",
            "text/plain": [
              "<Figure size 432x288 with 1 Axes>"
            ]
          },
          "metadata": {
            "tags": [],
            "needs_background": "light"
          }
        }
      ]
    },
    {
      "cell_type": "markdown",
      "metadata": {
        "id": "nAGYcAMcsYu4"
      },
      "source": [
        "Relu: with base model kernal size 3 accuracy was 64.26% with low varience   \n",
        "\n",
        "Tanh: With base model kernal size 3 the accuracy was 70.47% with low varience with size 2 68.69% with size 4 accuracy 70.02% with high varince,   \n",
        "\n",
        "Leaky Relu : 0.001 with size 3 accuracy was 62.23% with less varience and with size 4 accuracy is 62.29 % with not smooth curve   \n",
        "\n",
        "Swish : 0.001 with size 3 accuracy was 57.91% with less varience and with size 2 accuracy is 59.21 %   \n",
        "\n",
        "## I find that model with kernel size 3 and acitivation function tanh brought the best model accuracy with low varience and less overfitting so we will be using this model for other questions."
      ]
    },
    {
      "cell_type": "markdown",
      "metadata": {
        "id": "Pf1v_YZT_ji0"
      },
      "source": [
        "# Question 6: different initialization methods"
      ]
    },
    {
      "cell_type": "code",
      "metadata": {
        "id": "qt-J07Hm_xi1"
      },
      "source": [
        "base_model4 = models.Sequential([\n",
        "                             layers.Conv2D(32, (3, 3), kernel_initializer='glorot_uniform',activation='tanh', input_shape=(32, 32, 3), padding='SAME'),\n",
        "                             layers.Conv2D(64, (3, 3), kernel_initializer='glorot_uniform',activation='tanh', padding='SAME'),\n",
        "                             layers.MaxPooling2D((2, 2)),\n",
        "                             layers.Conv2D(64, (3, 3), kernel_initializer='glorot_uniform',activation='tanh'),\n",
        "                             layers.MaxPooling2D((2, 2)),\n",
        "                             layers.Flatten(),\n",
        "                             layers.Dense(128,kernel_initializer='glorot_uniform',activation='tanh'),\n",
        "                             layers.Dense(10)\n",
        "                             ])"
      ],
      "execution_count": null,
      "outputs": []
    },
    {
      "cell_type": "code",
      "metadata": {
        "colab": {
          "base_uri": "https://localhost:8080/"
        },
        "id": "TmXpx-4Q_xi1",
        "outputId": "94d73d47-515a-43a9-c1be-745548d6b482"
      },
      "source": [
        "base_opt4 = tf.keras.optimizers.SGD(lr=0.001)\n",
        "es = EarlyStopping(monitor='val_loss', mode='min', verbose=1, patience=5)\n",
        "base_model4.compile(optimizer=base_opt4, loss=tf.keras.losses.SparseCategoricalCrossentropy(from_logits=True), metrics=['accuracy'])\n",
        "\n",
        "base_history4 = base_model4.fit(x_train_norm, y_train, epochs=100, batch_size=32,verbose=2,validation_split=0.2, callbacks=[es])"
      ],
      "execution_count": null,
      "outputs": [
        {
          "output_type": "stream",
          "text": [
            "Epoch 1/100\n",
            "1250/1250 - 7s - loss: 2.1979 - accuracy: 0.2184 - val_loss: 2.0659 - val_accuracy: 0.2990\n",
            "Epoch 2/100\n",
            "1250/1250 - 6s - loss: 1.9681 - accuracy: 0.3189 - val_loss: 1.9026 - val_accuracy: 0.3361\n",
            "Epoch 3/100\n",
            "1250/1250 - 6s - loss: 1.8575 - accuracy: 0.3555 - val_loss: 1.8262 - val_accuracy: 0.3623\n",
            "Epoch 4/100\n",
            "1250/1250 - 6s - loss: 1.7820 - accuracy: 0.3807 - val_loss: 1.7589 - val_accuracy: 0.3849\n",
            "Epoch 5/100\n",
            "1250/1250 - 6s - loss: 1.7151 - accuracy: 0.4026 - val_loss: 1.6960 - val_accuracy: 0.4031\n",
            "Epoch 6/100\n",
            "1250/1250 - 6s - loss: 1.6603 - accuracy: 0.4178 - val_loss: 1.6521 - val_accuracy: 0.4228\n",
            "Epoch 7/100\n",
            "1250/1250 - 6s - loss: 1.6180 - accuracy: 0.4329 - val_loss: 1.6130 - val_accuracy: 0.4322\n",
            "Epoch 8/100\n",
            "1250/1250 - 6s - loss: 1.5832 - accuracy: 0.4450 - val_loss: 1.5844 - val_accuracy: 0.4402\n",
            "Epoch 9/100\n",
            "1250/1250 - 6s - loss: 1.5526 - accuracy: 0.4537 - val_loss: 1.5583 - val_accuracy: 0.4501\n",
            "Epoch 10/100\n",
            "1250/1250 - 6s - loss: 1.5246 - accuracy: 0.4656 - val_loss: 1.5313 - val_accuracy: 0.4628\n",
            "Epoch 11/100\n",
            "1250/1250 - 6s - loss: 1.4984 - accuracy: 0.4753 - val_loss: 1.5047 - val_accuracy: 0.4687\n",
            "Epoch 12/100\n",
            "1250/1250 - 6s - loss: 1.4743 - accuracy: 0.4834 - val_loss: 1.4849 - val_accuracy: 0.4763\n",
            "Epoch 13/100\n",
            "1250/1250 - 6s - loss: 1.4518 - accuracy: 0.4904 - val_loss: 1.4625 - val_accuracy: 0.4869\n",
            "Epoch 14/100\n",
            "1250/1250 - 6s - loss: 1.4297 - accuracy: 0.4987 - val_loss: 1.4415 - val_accuracy: 0.4954\n",
            "Epoch 15/100\n",
            "1250/1250 - 6s - loss: 1.4079 - accuracy: 0.5055 - val_loss: 1.4238 - val_accuracy: 0.5018\n",
            "Epoch 16/100\n",
            "1250/1250 - 6s - loss: 1.3865 - accuracy: 0.5137 - val_loss: 1.3989 - val_accuracy: 0.5106\n",
            "Epoch 17/100\n",
            "1250/1250 - 6s - loss: 1.3652 - accuracy: 0.5239 - val_loss: 1.3898 - val_accuracy: 0.5152\n",
            "Epoch 18/100\n",
            "1250/1250 - 6s - loss: 1.3446 - accuracy: 0.5292 - val_loss: 1.3624 - val_accuracy: 0.5206\n",
            "Epoch 19/100\n",
            "1250/1250 - 7s - loss: 1.3238 - accuracy: 0.5369 - val_loss: 1.3511 - val_accuracy: 0.5221\n",
            "Epoch 20/100\n",
            "1250/1250 - 6s - loss: 1.3032 - accuracy: 0.5440 - val_loss: 1.3348 - val_accuracy: 0.5356\n",
            "Epoch 21/100\n",
            "1250/1250 - 6s - loss: 1.2841 - accuracy: 0.5513 - val_loss: 1.3086 - val_accuracy: 0.5408\n",
            "Epoch 22/100\n",
            "1250/1250 - 6s - loss: 1.2652 - accuracy: 0.5584 - val_loss: 1.2945 - val_accuracy: 0.5502\n",
            "Epoch 23/100\n",
            "1250/1250 - 6s - loss: 1.2475 - accuracy: 0.5650 - val_loss: 1.2804 - val_accuracy: 0.5550\n",
            "Epoch 24/100\n",
            "1250/1250 - 6s - loss: 1.2299 - accuracy: 0.5694 - val_loss: 1.2647 - val_accuracy: 0.5584\n",
            "Epoch 25/100\n",
            "1250/1250 - 6s - loss: 1.2139 - accuracy: 0.5777 - val_loss: 1.2511 - val_accuracy: 0.5629\n",
            "Epoch 26/100\n",
            "1250/1250 - 6s - loss: 1.1979 - accuracy: 0.5835 - val_loss: 1.2352 - val_accuracy: 0.5691\n",
            "Epoch 27/100\n",
            "1250/1250 - 6s - loss: 1.1820 - accuracy: 0.5895 - val_loss: 1.2273 - val_accuracy: 0.5747\n",
            "Epoch 28/100\n",
            "1250/1250 - 6s - loss: 1.1675 - accuracy: 0.5943 - val_loss: 1.2089 - val_accuracy: 0.5761\n",
            "Epoch 29/100\n",
            "1250/1250 - 6s - loss: 1.1528 - accuracy: 0.6003 - val_loss: 1.2022 - val_accuracy: 0.5845\n",
            "Epoch 30/100\n",
            "1250/1250 - 6s - loss: 1.1385 - accuracy: 0.6063 - val_loss: 1.1836 - val_accuracy: 0.5880\n",
            "Epoch 31/100\n",
            "1250/1250 - 6s - loss: 1.1241 - accuracy: 0.6105 - val_loss: 1.1703 - val_accuracy: 0.5917\n",
            "Epoch 32/100\n",
            "1250/1250 - 6s - loss: 1.1108 - accuracy: 0.6161 - val_loss: 1.1596 - val_accuracy: 0.5963\n",
            "Epoch 33/100\n",
            "1250/1250 - 6s - loss: 1.0972 - accuracy: 0.6222 - val_loss: 1.1500 - val_accuracy: 0.6024\n",
            "Epoch 34/100\n",
            "1250/1250 - 6s - loss: 1.0846 - accuracy: 0.6251 - val_loss: 1.1403 - val_accuracy: 0.6030\n",
            "Epoch 35/100\n",
            "1250/1250 - 6s - loss: 1.0712 - accuracy: 0.6306 - val_loss: 1.1371 - val_accuracy: 0.6056\n",
            "Epoch 36/100\n",
            "1250/1250 - 6s - loss: 1.0593 - accuracy: 0.6341 - val_loss: 1.1192 - val_accuracy: 0.6136\n",
            "Epoch 37/100\n",
            "1250/1250 - 6s - loss: 1.0475 - accuracy: 0.6393 - val_loss: 1.1165 - val_accuracy: 0.6151\n",
            "Epoch 38/100\n",
            "1250/1250 - 6s - loss: 1.0352 - accuracy: 0.6439 - val_loss: 1.1015 - val_accuracy: 0.6205\n",
            "Epoch 39/100\n",
            "1250/1250 - 6s - loss: 1.0229 - accuracy: 0.6478 - val_loss: 1.0950 - val_accuracy: 0.6254\n",
            "Epoch 40/100\n",
            "1250/1250 - 6s - loss: 1.0122 - accuracy: 0.6520 - val_loss: 1.0832 - val_accuracy: 0.6253\n",
            "Epoch 41/100\n",
            "1250/1250 - 7s - loss: 1.0002 - accuracy: 0.6571 - val_loss: 1.0773 - val_accuracy: 0.6259\n",
            "Epoch 42/100\n",
            "1250/1250 - 7s - loss: 0.9900 - accuracy: 0.6602 - val_loss: 1.0650 - val_accuracy: 0.6323\n",
            "Epoch 43/100\n",
            "1250/1250 - 6s - loss: 0.9792 - accuracy: 0.6647 - val_loss: 1.0586 - val_accuracy: 0.6373\n",
            "Epoch 44/100\n",
            "1250/1250 - 6s - loss: 0.9685 - accuracy: 0.6667 - val_loss: 1.0539 - val_accuracy: 0.6334\n",
            "Epoch 45/100\n",
            "1250/1250 - 6s - loss: 0.9582 - accuracy: 0.6704 - val_loss: 1.0458 - val_accuracy: 0.6394\n",
            "Epoch 46/100\n",
            "1250/1250 - 6s - loss: 0.9483 - accuracy: 0.6750 - val_loss: 1.0448 - val_accuracy: 0.6411\n",
            "Epoch 47/100\n",
            "1250/1250 - 6s - loss: 0.9388 - accuracy: 0.6785 - val_loss: 1.0326 - val_accuracy: 0.6416\n",
            "Epoch 48/100\n",
            "1250/1250 - 6s - loss: 0.9291 - accuracy: 0.6812 - val_loss: 1.0265 - val_accuracy: 0.6452\n",
            "Epoch 49/100\n",
            "1250/1250 - 7s - loss: 0.9198 - accuracy: 0.6862 - val_loss: 1.0335 - val_accuracy: 0.6389\n",
            "Epoch 50/100\n",
            "1250/1250 - 6s - loss: 0.9105 - accuracy: 0.6884 - val_loss: 1.0084 - val_accuracy: 0.6510\n",
            "Epoch 51/100\n",
            "1250/1250 - 6s - loss: 0.9017 - accuracy: 0.6915 - val_loss: 1.0055 - val_accuracy: 0.6517\n",
            "Epoch 52/100\n",
            "1250/1250 - 6s - loss: 0.8929 - accuracy: 0.6958 - val_loss: 0.9998 - val_accuracy: 0.6540\n",
            "Epoch 53/100\n",
            "1250/1250 - 6s - loss: 0.8843 - accuracy: 0.6995 - val_loss: 0.9940 - val_accuracy: 0.6567\n",
            "Epoch 54/100\n",
            "1250/1250 - 6s - loss: 0.8757 - accuracy: 0.6999 - val_loss: 0.9904 - val_accuracy: 0.6580\n",
            "Epoch 55/100\n",
            "1250/1250 - 6s - loss: 0.8682 - accuracy: 0.7028 - val_loss: 0.9850 - val_accuracy: 0.6590\n",
            "Epoch 56/100\n",
            "1250/1250 - 6s - loss: 0.8598 - accuracy: 0.7080 - val_loss: 0.9834 - val_accuracy: 0.6626\n",
            "Epoch 57/100\n",
            "1250/1250 - 6s - loss: 0.8513 - accuracy: 0.7104 - val_loss: 0.9800 - val_accuracy: 0.6623\n",
            "Epoch 58/100\n",
            "1250/1250 - 6s - loss: 0.8436 - accuracy: 0.7146 - val_loss: 0.9723 - val_accuracy: 0.6614\n",
            "Epoch 59/100\n",
            "1250/1250 - 6s - loss: 0.8361 - accuracy: 0.7168 - val_loss: 0.9661 - val_accuracy: 0.6646\n",
            "Epoch 60/100\n",
            "1250/1250 - 6s - loss: 0.8283 - accuracy: 0.7196 - val_loss: 0.9693 - val_accuracy: 0.6644\n",
            "Epoch 61/100\n",
            "1250/1250 - 7s - loss: 0.8216 - accuracy: 0.7223 - val_loss: 0.9625 - val_accuracy: 0.6647\n",
            "Epoch 62/100\n",
            "1250/1250 - 6s - loss: 0.8144 - accuracy: 0.7248 - val_loss: 0.9569 - val_accuracy: 0.6665\n",
            "Epoch 63/100\n",
            "1250/1250 - 6s - loss: 0.8069 - accuracy: 0.7268 - val_loss: 0.9476 - val_accuracy: 0.6707\n",
            "Epoch 64/100\n",
            "1250/1250 - 6s - loss: 0.7997 - accuracy: 0.7302 - val_loss: 0.9492 - val_accuracy: 0.6709\n",
            "Epoch 65/100\n",
            "1250/1250 - 6s - loss: 0.7929 - accuracy: 0.7304 - val_loss: 0.9466 - val_accuracy: 0.6712\n",
            "Epoch 66/100\n",
            "1250/1250 - 6s - loss: 0.7862 - accuracy: 0.7350 - val_loss: 0.9484 - val_accuracy: 0.6702\n",
            "Epoch 67/100\n",
            "1250/1250 - 6s - loss: 0.7792 - accuracy: 0.7368 - val_loss: 0.9394 - val_accuracy: 0.6759\n",
            "Epoch 68/100\n",
            "1250/1250 - 6s - loss: 0.7726 - accuracy: 0.7400 - val_loss: 0.9365 - val_accuracy: 0.6743\n",
            "Epoch 69/100\n",
            "1250/1250 - 6s - loss: 0.7666 - accuracy: 0.7415 - val_loss: 0.9304 - val_accuracy: 0.6768\n",
            "Epoch 70/100\n",
            "1250/1250 - 6s - loss: 0.7595 - accuracy: 0.7436 - val_loss: 0.9317 - val_accuracy: 0.6751\n",
            "Epoch 71/100\n",
            "1250/1250 - 6s - loss: 0.7524 - accuracy: 0.7469 - val_loss: 0.9259 - val_accuracy: 0.6784\n",
            "Epoch 72/100\n",
            "1250/1250 - 6s - loss: 0.7466 - accuracy: 0.7494 - val_loss: 0.9239 - val_accuracy: 0.6784\n",
            "Epoch 73/100\n",
            "1250/1250 - 6s - loss: 0.7408 - accuracy: 0.7523 - val_loss: 0.9214 - val_accuracy: 0.6791\n",
            "Epoch 74/100\n",
            "1250/1250 - 7s - loss: 0.7343 - accuracy: 0.7533 - val_loss: 0.9195 - val_accuracy: 0.6792\n",
            "Epoch 75/100\n",
            "1250/1250 - 6s - loss: 0.7281 - accuracy: 0.7566 - val_loss: 0.9163 - val_accuracy: 0.6805\n",
            "Epoch 76/100\n",
            "1250/1250 - 6s - loss: 0.7219 - accuracy: 0.7578 - val_loss: 0.9167 - val_accuracy: 0.6830\n",
            "Epoch 77/100\n",
            "1250/1250 - 6s - loss: 0.7163 - accuracy: 0.7590 - val_loss: 0.9139 - val_accuracy: 0.6861\n",
            "Epoch 78/100\n",
            "1250/1250 - 6s - loss: 0.7095 - accuracy: 0.7630 - val_loss: 0.9112 - val_accuracy: 0.6830\n",
            "Epoch 79/100\n",
            "1250/1250 - 6s - loss: 0.7035 - accuracy: 0.7657 - val_loss: 0.9163 - val_accuracy: 0.6828\n",
            "Epoch 80/100\n",
            "1250/1250 - 6s - loss: 0.6979 - accuracy: 0.7673 - val_loss: 0.9054 - val_accuracy: 0.6840\n",
            "Epoch 81/100\n",
            "1250/1250 - 6s - loss: 0.6922 - accuracy: 0.7699 - val_loss: 0.9035 - val_accuracy: 0.6883\n",
            "Epoch 82/100\n",
            "1250/1250 - 6s - loss: 0.6858 - accuracy: 0.7715 - val_loss: 0.9009 - val_accuracy: 0.6882\n",
            "Epoch 83/100\n",
            "1250/1250 - 6s - loss: 0.6806 - accuracy: 0.7738 - val_loss: 0.9021 - val_accuracy: 0.6824\n",
            "Epoch 84/100\n",
            "1250/1250 - 6s - loss: 0.6747 - accuracy: 0.7762 - val_loss: 0.8976 - val_accuracy: 0.6876\n",
            "Epoch 85/100\n",
            "1250/1250 - 6s - loss: 0.6688 - accuracy: 0.7776 - val_loss: 0.8946 - val_accuracy: 0.6874\n",
            "Epoch 86/100\n",
            "1250/1250 - 6s - loss: 0.6632 - accuracy: 0.7795 - val_loss: 0.8959 - val_accuracy: 0.6904\n",
            "Epoch 87/100\n",
            "1250/1250 - 6s - loss: 0.6576 - accuracy: 0.7822 - val_loss: 0.8954 - val_accuracy: 0.6895\n",
            "Epoch 88/100\n",
            "1250/1250 - 6s - loss: 0.6520 - accuracy: 0.7849 - val_loss: 0.9091 - val_accuracy: 0.6829\n",
            "Epoch 89/100\n",
            "1250/1250 - 7s - loss: 0.6465 - accuracy: 0.7863 - val_loss: 0.8963 - val_accuracy: 0.6895\n",
            "Epoch 90/100\n",
            "1250/1250 - 7s - loss: 0.6404 - accuracy: 0.7894 - val_loss: 0.8894 - val_accuracy: 0.6931\n",
            "Epoch 91/100\n",
            "1250/1250 - 6s - loss: 0.6355 - accuracy: 0.7897 - val_loss: 0.8950 - val_accuracy: 0.6896\n",
            "Epoch 92/100\n",
            "1250/1250 - 6s - loss: 0.6301 - accuracy: 0.7920 - val_loss: 0.8869 - val_accuracy: 0.6934\n",
            "Epoch 93/100\n",
            "1250/1250 - 6s - loss: 0.6243 - accuracy: 0.7941 - val_loss: 0.8869 - val_accuracy: 0.6926\n",
            "Epoch 94/100\n",
            "1250/1250 - 6s - loss: 0.6196 - accuracy: 0.7954 - val_loss: 0.8898 - val_accuracy: 0.6916\n",
            "Epoch 95/100\n",
            "1250/1250 - 6s - loss: 0.6139 - accuracy: 0.7970 - val_loss: 0.8868 - val_accuracy: 0.6931\n",
            "Epoch 96/100\n",
            "1250/1250 - 6s - loss: 0.6084 - accuracy: 0.8001 - val_loss: 0.8828 - val_accuracy: 0.6937\n",
            "Epoch 97/100\n",
            "1250/1250 - 6s - loss: 0.6024 - accuracy: 0.8029 - val_loss: 0.8836 - val_accuracy: 0.6926\n",
            "Epoch 98/100\n",
            "1250/1250 - 6s - loss: 0.5975 - accuracy: 0.8043 - val_loss: 0.8802 - val_accuracy: 0.6951\n",
            "Epoch 99/100\n",
            "1250/1250 - 6s - loss: 0.5923 - accuracy: 0.8058 - val_loss: 0.8827 - val_accuracy: 0.6926\n",
            "Epoch 100/100\n",
            "1250/1250 - 6s - loss: 0.5872 - accuracy: 0.8082 - val_loss: 0.8803 - val_accuracy: 0.6943\n"
          ],
          "name": "stdout"
        }
      ]
    },
    {
      "cell_type": "code",
      "metadata": {
        "colab": {
          "base_uri": "https://localhost:8080/",
          "height": 296
        },
        "id": "RDfJzgNp_xi2",
        "outputId": "a8260476-d37a-4505-81ea-8801c59321da"
      },
      "source": [
        "plt.plot(base_history4.history['loss'], label='train_loss')\n",
        "plt.plot(base_history4.history['val_loss'], label = 'val_loss')\n",
        "plt.xlabel('Epoch')\n",
        "plt.ylabel('Loss')\n",
        "plt.legend(loc='upper right')"
      ],
      "execution_count": null,
      "outputs": [
        {
          "output_type": "execute_result",
          "data": {
            "text/plain": [
              "<matplotlib.legend.Legend at 0x7f8a401749b0>"
            ]
          },
          "metadata": {
            "tags": []
          },
          "execution_count": 72
        },
        {
          "output_type": "display_data",
          "data": {
            "image/png": "[encoded data removed]",
            "text/plain": [
              "<Figure size 432x288 with 1 Axes>"
            ]
          },
          "metadata": {
            "tags": [],
            "needs_background": "light"
          }
        }
      ]
    },
    {
      "cell_type": "code",
      "metadata": {
        "colab": {
          "base_uri": "https://localhost:8080/",
          "height": 313
        },
        "id": "uZfftHh0_xi3",
        "outputId": "8c98b303-376e-470a-ca66-f154e08c67d7"
      },
      "source": [
        "plt.plot(base_history4.history['accuracy'], label='train')\n",
        "plt.plot(base_history4.history['val_accuracy'], label = 'val')\n",
        "plt.xlabel('Epoch')\n",
        "plt.ylabel('Accuracy')\n",
        "plt.legend(loc='lower right')\n",
        "\n",
        "test_loss, test_acc = base_model4.evaluate(x_test_norm,  y_test, verbose=2)\n",
        "print('Test Loss: ',test_loss,' , Test Accuracy: ',test_acc)"
      ],
      "execution_count": null,
      "outputs": [
        {
          "output_type": "stream",
          "text": [
            "313/313 - 1s - loss: 0.8871 - accuracy: 0.6938\n",
            "Test Loss:  0.8871345520019531  , Test Accuracy:  0.6937999725341797\n"
          ],
          "name": "stdout"
        },
        {
          "output_type": "display_data",
          "data": {
            "image/png": "[encoded data removed]",
            "text/plain": [
              "<Figure size 432x288 with 1 Axes>"
            ]
          },
          "metadata": {
            "tags": [],
            "needs_background": "light"
          }
        }
      ]
    },
    {
      "cell_type": "markdown",
      "metadata": {
        "id": "KEkro9ai_xi3"
      },
      "source": [
        "Uniform :\n",
        "1.   Tanh: With base model kernal size 3 the accuracy was 67.04% with low varience with size 2 accuracy was 60.20% with size 4 accuracy 68.71% with low varince\n",
        "2.   Relu : 0.001 with size 3 accuracy was 59.88% with low varience, with size 4 accuracy 62.21% with low varince and with size 2 accuracy is 59.36 %\n",
        "\n",
        "Normal :\n",
        "1.   Tanh: With base model kernal size 3 the accuracy was 67.79% with low varience with size 4 accuracy 67.67% with low varince\n",
        "2.   Relu : 0.001 with size 3 accuracy was 64.99% with low varience, with size 4 accuracy 66.60% but all with not smooth graph\n",
        "\n",
        "Glorot Normal :\n",
        "1.   Tanh: With base model kernal size 3 the accuracy was 69.82% with size 4 accuracy 69.21% with low varince\n",
        "2.   Relu : 0.001 with size 3 accuracy was 62.23% with low varience, with size 4 accuracy 62.63% but with high loss compared to others\n",
        "\n",
        "Glorot Uniform :\n",
        "1.   Tanh: With base model kernal size 3 the accuracy was 69.38% with size 4 accuracy 68.38% with low varince\n",
        "2.   Relu : 0.001 with size 3 accuracy was 60.82% with low varience, with size 4 accuracy 63.09% but with high loss compared to others\n",
        "\n",
        "## Overall I find that Glorot Normal weight initialization gave best results with tanh activation function with kernal size 3 0r 4 also glorot Uniform produced similar results."
      ]
    },
    {
      "cell_type": "markdown",
      "metadata": {
        "id": "2etqe-JoGGET"
      },
      "source": [
        "# Question 7: Regularizations   \n",
        "## Droupout:"
      ]
    },
    {
      "cell_type": "code",
      "metadata": {
        "id": "auQw4EvqGUDz"
      },
      "source": [
        "base_model5 = models.Sequential([\n",
        "                             layers.Conv2D(32, (4, 4), kernel_initializer='glorot_normal',activation='tanh', input_shape=(32, 32, 3), padding='SAME'),\n",
        "                             layers.Conv2D(64, (4, 4), kernel_initializer='glorot_normal',activation='tanh', padding='SAME'),\n",
        "                             layers.MaxPooling2D((2, 2)),\n",
        "                             layers.Dropout(0.4),\n",
        "                             layers.Conv2D(64, (4, 4), kernel_initializer='glorot_normal',activation='tanh'),\n",
        "                             layers.MaxPooling2D((2, 2)),\n",
        "                             layers.Dropout(0.4),\n",
        "                             layers.Flatten(),\n",
        "                             layers.Dense(128,kernel_initializer='glorot_normal',activation='tanh'),\n",
        "                             #layers.Dropout(0.25),\n",
        "                             layers.Dense(10)\n",
        "                             ])"
      ],
      "execution_count": null,
      "outputs": []
    },
    {
      "cell_type": "code",
      "metadata": {
        "colab": {
          "base_uri": "https://localhost:8080/"
        },
        "id": "IDgcCxWcGUD0",
        "outputId": "fc123d81-4698-48bd-99ff-f1ae955e1fa4"
      },
      "source": [
        "base_opt5 = tf.keras.optimizers.SGD(lr=0.001, momentum=0.4)\n",
        "es = EarlyStopping(monitor='val_loss', mode='min', verbose=1, patience=5)\n",
        "base_model5.compile(optimizer=base_opt5, loss=tf.keras.losses.SparseCategoricalCrossentropy(from_logits=True), metrics=['accuracy'])\n",
        "\n",
        "base_history5 = base_model5.fit(x_train_norm, y_train, epochs=100, batch_size=32,verbose=2,validation_split=0.2, callbacks=[es])"
      ],
      "execution_count": null,
      "outputs": [
        {
          "output_type": "stream",
          "text": [
            "Epoch 1/100\n",
            "WARNING:tensorflow:Callbacks method `on_train_batch_end` is slow compared to the batch time (batch time: 0.0025s vs `on_train_batch_end` time: 0.0060s). Check your callbacks.\n",
            "1250/1250 - 8s - loss: 2.1450 - accuracy: 0.2075 - val_loss: 1.9828 - val_accuracy: 0.2819\n",
            "Epoch 2/100\n",
            "1250/1250 - 8s - loss: 1.9109 - accuracy: 0.3119 - val_loss: 1.8084 - val_accuracy: 0.3597\n",
            "Epoch 3/100\n",
            "1250/1250 - 8s - loss: 1.7770 - accuracy: 0.3664 - val_loss: 1.7152 - val_accuracy: 0.3918\n",
            "Epoch 4/100\n",
            "1250/1250 - 8s - loss: 1.6886 - accuracy: 0.3929 - val_loss: 1.6616 - val_accuracy: 0.4051\n",
            "Epoch 5/100\n",
            "1250/1250 - 8s - loss: 1.6319 - accuracy: 0.4114 - val_loss: 1.6355 - val_accuracy: 0.4104\n",
            "Epoch 6/100\n",
            "1250/1250 - 8s - loss: 1.5948 - accuracy: 0.4270 - val_loss: 1.5796 - val_accuracy: 0.4330\n",
            "Epoch 7/100\n",
            "1250/1250 - 8s - loss: 1.5590 - accuracy: 0.4403 - val_loss: 1.5529 - val_accuracy: 0.4436\n",
            "Epoch 8/100\n",
            "1250/1250 - 8s - loss: 1.5350 - accuracy: 0.4493 - val_loss: 1.5356 - val_accuracy: 0.4475\n",
            "Epoch 9/100\n",
            "1250/1250 - 8s - loss: 1.5020 - accuracy: 0.4601 - val_loss: 1.5321 - val_accuracy: 0.4464\n",
            "Epoch 10/100\n",
            "1250/1250 - 8s - loss: 1.4717 - accuracy: 0.4694 - val_loss: 1.4789 - val_accuracy: 0.4672\n",
            "Epoch 11/100\n",
            "1250/1250 - 8s - loss: 1.4408 - accuracy: 0.4829 - val_loss: 1.4854 - val_accuracy: 0.4622\n",
            "Epoch 12/100\n",
            "1250/1250 - 8s - loss: 1.4140 - accuracy: 0.4931 - val_loss: 1.4667 - val_accuracy: 0.4659\n",
            "Epoch 13/100\n",
            "1250/1250 - 8s - loss: 1.3915 - accuracy: 0.5013 - val_loss: 1.4923 - val_accuracy: 0.4591\n",
            "Epoch 14/100\n",
            "1250/1250 - 8s - loss: 1.3716 - accuracy: 0.5093 - val_loss: 1.4840 - val_accuracy: 0.4674\n",
            "Epoch 15/100\n",
            "1250/1250 - 8s - loss: 1.3568 - accuracy: 0.5160 - val_loss: 1.5415 - val_accuracy: 0.4477\n",
            "Epoch 16/100\n",
            "1250/1250 - 8s - loss: 1.3352 - accuracy: 0.5260 - val_loss: 1.4855 - val_accuracy: 0.4719\n",
            "Epoch 17/100\n",
            "1250/1250 - 8s - loss: 1.3191 - accuracy: 0.5310 - val_loss: 1.4622 - val_accuracy: 0.4788\n",
            "Epoch 18/100\n",
            "1250/1250 - 8s - loss: 1.3049 - accuracy: 0.5379 - val_loss: 1.4365 - val_accuracy: 0.4902\n",
            "Epoch 19/100\n",
            "1250/1250 - 8s - loss: 1.2905 - accuracy: 0.5392 - val_loss: 1.4329 - val_accuracy: 0.4883\n",
            "Epoch 20/100\n",
            "1250/1250 - 8s - loss: 1.2715 - accuracy: 0.5496 - val_loss: 1.4288 - val_accuracy: 0.4947\n",
            "Epoch 21/100\n",
            "1250/1250 - 8s - loss: 1.2601 - accuracy: 0.5509 - val_loss: 1.4572 - val_accuracy: 0.4852\n",
            "Epoch 22/100\n",
            "1250/1250 - 8s - loss: 1.2409 - accuracy: 0.5598 - val_loss: 1.4080 - val_accuracy: 0.4988\n",
            "Epoch 23/100\n",
            "1250/1250 - 8s - loss: 1.2304 - accuracy: 0.5635 - val_loss: 1.4234 - val_accuracy: 0.5000\n",
            "Epoch 24/100\n",
            "1250/1250 - 8s - loss: 1.2146 - accuracy: 0.5699 - val_loss: 1.3515 - val_accuracy: 0.5216\n",
            "Epoch 25/100\n",
            "1250/1250 - 8s - loss: 1.1993 - accuracy: 0.5769 - val_loss: 1.3384 - val_accuracy: 0.5235\n",
            "Epoch 26/100\n",
            "1250/1250 - 8s - loss: 1.1902 - accuracy: 0.5783 - val_loss: 1.3131 - val_accuracy: 0.5357\n",
            "Epoch 27/100\n",
            "1250/1250 - 8s - loss: 1.1738 - accuracy: 0.5863 - val_loss: 1.3952 - val_accuracy: 0.5095\n",
            "Epoch 28/100\n",
            "1250/1250 - 8s - loss: 1.1655 - accuracy: 0.5905 - val_loss: 1.3122 - val_accuracy: 0.5357\n",
            "Epoch 29/100\n",
            "1250/1250 - 8s - loss: 1.1516 - accuracy: 0.5930 - val_loss: 1.3341 - val_accuracy: 0.5333\n",
            "Epoch 30/100\n",
            "1250/1250 - 8s - loss: 1.1422 - accuracy: 0.5968 - val_loss: 1.3129 - val_accuracy: 0.5403\n",
            "Epoch 31/100\n",
            "1250/1250 - 8s - loss: 1.1342 - accuracy: 0.6003 - val_loss: 1.2773 - val_accuracy: 0.5515\n",
            "Epoch 32/100\n",
            "1250/1250 - 8s - loss: 1.1198 - accuracy: 0.6055 - val_loss: 1.2714 - val_accuracy: 0.5483\n",
            "Epoch 33/100\n",
            "1250/1250 - 8s - loss: 1.1150 - accuracy: 0.6063 - val_loss: 1.2645 - val_accuracy: 0.5527\n",
            "Epoch 34/100\n",
            "1250/1250 - 8s - loss: 1.1023 - accuracy: 0.6126 - val_loss: 1.2816 - val_accuracy: 0.5522\n",
            "Epoch 35/100\n",
            "1250/1250 - 8s - loss: 1.0955 - accuracy: 0.6151 - val_loss: 1.2616 - val_accuracy: 0.5600\n",
            "Epoch 36/100\n",
            "1250/1250 - 8s - loss: 1.0841 - accuracy: 0.6174 - val_loss: 1.2205 - val_accuracy: 0.5722\n",
            "Epoch 37/100\n",
            "1250/1250 - 8s - loss: 1.0736 - accuracy: 0.6219 - val_loss: 1.2517 - val_accuracy: 0.5593\n",
            "Epoch 38/100\n",
            "1250/1250 - 8s - loss: 1.0697 - accuracy: 0.6248 - val_loss: 1.1629 - val_accuracy: 0.5921\n",
            "Epoch 39/100\n",
            "1250/1250 - 8s - loss: 1.0641 - accuracy: 0.6266 - val_loss: 1.1471 - val_accuracy: 0.5972\n",
            "Epoch 40/100\n",
            "1250/1250 - 8s - loss: 1.0565 - accuracy: 0.6297 - val_loss: 1.1870 - val_accuracy: 0.5838\n",
            "Epoch 41/100\n",
            "1250/1250 - 8s - loss: 1.0480 - accuracy: 0.6316 - val_loss: 1.1659 - val_accuracy: 0.5894\n",
            "Epoch 42/100\n",
            "1250/1250 - 8s - loss: 1.0464 - accuracy: 0.6334 - val_loss: 1.1961 - val_accuracy: 0.5831\n",
            "Epoch 43/100\n",
            "1250/1250 - 8s - loss: 1.0370 - accuracy: 0.6381 - val_loss: 1.1631 - val_accuracy: 0.5942\n",
            "Epoch 44/100\n",
            "1250/1250 - 8s - loss: 1.0318 - accuracy: 0.6380 - val_loss: 1.1706 - val_accuracy: 0.5911\n",
            "Epoch 00044: early stopping\n"
          ],
          "name": "stdout"
        }
      ]
    },
    {
      "cell_type": "code",
      "metadata": {
        "colab": {
          "base_uri": "https://localhost:8080/",
          "height": 300
        },
        "id": "SnyaEhJYGUD1",
        "outputId": "833e26dd-83b5-4855-8576-afe0468d32f9"
      },
      "source": [
        "plt.plot(base_history5.history['loss'], label='train_loss')\n",
        "plt.plot(base_history5.history['val_loss'], label = 'val_loss')\n",
        "plt.xlabel('Epoch')\n",
        "plt.ylabel('Loss')\n",
        "plt.legend(loc='upper right')"
      ],
      "execution_count": null,
      "outputs": [
        {
          "output_type": "execute_result",
          "data": {
            "text/plain": [
              "<matplotlib.legend.Legend at 0x7f6780eb4588>"
            ]
          },
          "metadata": {
            "tags": []
          },
          "execution_count": 67
        },
        {
          "output_type": "display_data",
          "data": {
            "image/png": "[encoded data removed]",
            "text/plain": [
              "<Figure size 432x288 with 1 Axes>"
            ]
          },
          "metadata": {
            "tags": [],
            "needs_background": "light"
          }
        }
      ]
    },
    {
      "cell_type": "code",
      "metadata": {
        "colab": {
          "base_uri": "https://localhost:8080/",
          "height": 313
        },
        "id": "N__to6IrGUD4",
        "outputId": "75e0d215-07a5-47dd-c573-3b06c85ed31f"
      },
      "source": [
        "plt.plot(base_history5.history['accuracy'], label='train')\n",
        "plt.plot(base_history5.history['val_accuracy'], label = 'val')\n",
        "plt.xlabel('Epoch')\n",
        "plt.ylabel('Accuracy')\n",
        "plt.legend(loc='lower right')\n",
        "\n",
        "test_loss, test_acc = base_model5.evaluate(x_test_norm,  y_test, verbose=2)\n",
        "print('Test Loss: ',test_loss,' , Test Accuracy: ',test_acc)"
      ],
      "execution_count": null,
      "outputs": [
        {
          "output_type": "stream",
          "text": [
            "313/313 - 1s - loss: 1.1764 - accuracy: 0.5938\n",
            "Test Loss:  1.1764286756515503  , Test Accuracy:  0.5938000082969666\n"
          ],
          "name": "stdout"
        },
        {
          "output_type": "display_data",
          "data": {
            "image/png": "[encoded data removed]",
            "text/plain": [
              "<Figure size 432x288 with 1 Axes>"
            ]
          },
          "metadata": {
            "tags": [],
            "needs_background": "light"
          }
        }
      ]
    },
    {
      "cell_type": "markdown",
      "metadata": {
        "id": "gdoXVfRqGUD5"
      },
      "source": [
        "\n",
        "Dropout 0.25 :\n",
        "1.   Glorot Normal: with Tanh, SGD(0.001, 0.4 mm) kernal size 3 the accuracy was 70.87% with size 4 accuracy 71.88% with very low varince   \n",
        "with SGD(0.001, 0.6 mm) kernal size 3 the accuracy was 70.18% with size 4 accuracy 72.78% with very low varince\n",
        "\n",
        "Dropout 0.4 :\n",
        "1.   Glorot Normal: with Tanh, SGD(0.001, 0.4 mm) kernal size 3 the accuracy was 55.42% with size 4 accuracy 59.38% with very low varince   \n",
        "with SGD(0.001, 0.6 mm) kernal size 3 the accuracy was 59.35% with size 4 accuracy 70.04% with very low varince\n",
        "\n",
        "## Here Dropout 0.4 is doing too much regularization so with droupout 0.25 gave best reslts wth kernal size 4"
      ]
    },
    {
      "cell_type": "markdown",
      "metadata": {
        "id": "KfZDCHtslN60"
      },
      "source": [
        "### Batch Normalization\n",
        "Batch Norm with Dropout 0.25 :\n",
        "1.   Glorot Normal: with Tanh, SGD(0.001, 0.4 mm) kernal size 4 accuracy 57.88% with very low varince   \n",
        "with SGD(0.001, 0.6 mm) kernal size 4 accuracy 62.55% with very low varince\n",
        "\n",
        "Only Batch Norm :\n",
        "1.   Glorot Normal: with Tanh, SGD(0.001, 0.4 mm) kernal size 4 accuracy 67.21% with very little more varince   \n",
        "with SGD(0.001, 0.6 mm) kernal size 4 accuracy 67.12% with very low varince\n",
        "\n",
        "## Here adding batch normalization with or without dropout did not help in regularizing the model."
      ]
    },
    {
      "cell_type": "code",
      "metadata": {
        "id": "0jUH8TMv6ATU",
        "colab": {
          "base_uri": "https://localhost:8080/",
          "height": 120
        },
        "outputId": "a92fb356-6d6d-4d8b-c942-757e68c093b3"
      },
      "source": [
        "'''\n",
        "# Data Augmentation\n",
        "from keras.preprocessing.image import ImageDataGenerator\n",
        "# creating image generaor object\n",
        "datagen = ImageDataGenerator(width_shift_range=0.1, height_shift_range=0.1, horizontal_flip=True)\n",
        "# creating train data with 40k images and val data with 10k images\n",
        "train_aug = datagen.flow(x_train_norm[:40000], y_train[:40000], batch_size=32)\n",
        "val_aug = datagen.flow(x_train_norm[40000:], y_train[40000:], batch_size=32)\n",
        "print(len(train_aug), len(val_aug))# 1250 313\n",
        "# lengths of train and val data is 1250 and 313 where each batch is of 32 size which gives total train data size of 50000 images \n",
        "\n",
        "x_gen,y_gen = val_aug.next()\n",
        "print(x_gen.shape)#(32, 32, 32, 3)\n",
        "\n",
        "\n",
        "from keras.layers.normalization import BatchNormalization\n",
        "base_model7 = models.Sequential([\n",
        "                             layers.Conv2D(32, (4, 4), kernel_initializer='glorot_normal',activation='tanh', input_shape=(32, 32, 3), padding='SAME'),\n",
        "                             layers.Conv2D(64, (4, 4), kernel_initializer='glorot_normal',activation='tanh', padding='SAME'),\n",
        "                             BatchNormalization(),\n",
        "                             layers.MaxPooling2D((2, 2)),\n",
        "                             layers.Dropout(0.25),\n",
        "                             layers.Conv2D(64, (4, 4), kernel_initializer='glorot_normal',activation='tanh'),\n",
        "                             BatchNormalization(),\n",
        "                             layers.MaxPooling2D((2, 2)),\n",
        "                             layers.Dropout(0.25),\n",
        "                             layers.Flatten(),\n",
        "                             layers.Dense(128,kernel_initializer='glorot_normal',activation='tanh'),\n",
        "                             layers.Dense(10)\n",
        "                             ])'''"
      ],
      "execution_count": null,
      "outputs": [
        {
          "output_type": "execute_result",
          "data": {
            "application/vnd.google.colaboratory.intrinsic+json": {
              "type": "string"
            },
            "text/plain": [
              "\"\\n# Data Augmentation\\nfrom keras.preprocessing.image import ImageDataGenerator\\n# creating image generaor object\\ndatagen = ImageDataGenerator(width_shift_range=0.1, height_shift_range=0.1, horizontal_flip=True)\\n# creating train data with 40k images and val data with 10k images\\ntrain_aug = datagen.flow(x_train_norm[:40000], y_train[:40000], batch_size=32)\\nval_aug = datagen.flow(x_train_norm[40000:], y_train[40000:], batch_size=32)\\nprint(len(train_aug), len(val_aug))# 1250 313\\n# lengths of train and val data is 1250 and 313 where each batch is of 32 size which gives total train data size of 50000 images \\n\\nx_gen,y_gen = val_aug.next()\\nprint(x_gen.shape)#(32, 32, 32, 3)\\n\\n\\nfrom keras.layers.normalization import BatchNormalization\\nbase_model7 = models.Sequential([\\n                             layers.Conv2D(32, (4, 4), kernel_initializer='glorot_normal',activation='tanh', input_shape=(32, 32, 3), padding='SAME'),\\n                             layers.Conv2D(64, (4, 4), kernel_initializer='glorot_normal',activation='tanh', padding='SAME'),\\n                             BatchNormalization(),\\n                             layers.MaxPooling2D((2, 2)),\\n                             layers.Dropout(0.25),\\n                             layers.Conv2D(64, (4, 4), kernel_initializer='glorot_normal',activation='tanh'),\\n                             BatchNormalization(),\\n                             layers.MaxPooling2D((2, 2)),\\n                             layers.Dropout(0.25),\\n                             layers.Flatten(),\\n                             layers.Dense(128,kernel_initializer='glorot_normal',activation='tanh'),\\n                             layers.Dense(10)\\n                             ])\""
            ]
          },
          "metadata": {
            "tags": []
          },
          "execution_count": 9
        }
      ]
    },
    {
      "cell_type": "markdown",
      "metadata": {
        "id": "6neVWc0J6ATW"
      },
      "source": [
        "# Data Augmentation helps in increasing more sample of data from thge existing once's in different dimensions and forms to learn every possible form of a image\n",
        "Data Augmentation with Dropout and Batch Norm :\n",
        "1.   Glorot Normal: with Tanh, SGD(0.001, 0.6 mm) kernal size 4 accuracy 12.20% with very low varince   \n",
        "\n",
        "### using Data Augmentation did not help with or without dropout and batch normalization in regularizing the model infact the model performed very badly."
      ]
    },
    {
      "cell_type": "markdown",
      "metadata": {
        "id": "S6LiPwBrrDf8"
      },
      "source": [
        "# Final Model:\n",
        " creating a new model with tested best parametrs and adding 1 more convolutional layer to improve accuracy"
      ]
    },
    {
      "cell_type": "code",
      "metadata": {
        "id": "8tXpIj6QrOqo"
      },
      "source": [
        "final_model = models.Sequential([\n",
        "                             layers.Conv2D(32, (4, 4), kernel_initializer='glorot_normal',activation='tanh', input_shape=(32, 32, 3), padding='SAME'),\n",
        "                             layers.Conv2D(64, (4, 4), kernel_initializer='glorot_normal',activation='tanh', padding='SAME'),\n",
        "                             layers.MaxPooling2D((2, 2)),\n",
        "                             layers.Dropout(0.25),\n",
        "                             layers.Conv2D(64, (4, 4), kernel_initializer='glorot_normal',activation='tanh'),\n",
        "                             layers.Conv2D(64, (4, 4), kernel_initializer='glorot_normal',activation='tanh'),\n",
        "                             layers.MaxPooling2D((2, 2)),\n",
        "                             layers.Dropout(0.25),\n",
        "                             layers.Flatten(),\n",
        "                             layers.Dense(128,kernel_initializer='glorot_normal',activation='tanh'),\n",
        "                             layers.Dense(10)\n",
        "                             ])"
      ],
      "execution_count": null,
      "outputs": []
    },
    {
      "cell_type": "code",
      "metadata": {
        "colab": {
          "base_uri": "https://localhost:8080/"
        },
        "id": "mFzSiGOnrOqo",
        "outputId": "be528cba-a107-4028-9405-07e957f90745"
      },
      "source": [
        "final_opt = tf.keras.optimizers.SGD(lr=0.001, momentum=0.6)\n",
        "es = EarlyStopping(monitor='val_loss', mode='min', verbose=1, patience=10)\n",
        "final_model.compile(optimizer=final_opt, loss=tf.keras.losses.SparseCategoricalCrossentropy(from_logits=True), metrics=['accuracy'])\n",
        "\n",
        "final_history = final_model.fit(x_train_norm,y_train, epochs=100, batch_size=32,verbose=2,validation_split=0.2, callbacks=[es])"
      ],
      "execution_count": null,
      "outputs": [
        {
          "output_type": "stream",
          "text": [
            "Epoch 1/100\n",
            "WARNING:tensorflow:Callbacks method `on_train_batch_end` is slow compared to the batch time (batch time: 0.0034s vs `on_train_batch_end` time: 0.0066s). Check your callbacks.\n",
            "1250/1250 - 8s - loss: 2.0107 - accuracy: 0.2632 - val_loss: 1.8051 - val_accuracy: 0.3544\n",
            "Epoch 2/100\n",
            "1250/1250 - 8s - loss: 1.7503 - accuracy: 0.3730 - val_loss: 1.6614 - val_accuracy: 0.4051\n",
            "Epoch 3/100\n",
            "1250/1250 - 8s - loss: 1.6385 - accuracy: 0.4095 - val_loss: 1.5762 - val_accuracy: 0.4300\n",
            "Epoch 4/100\n",
            "1250/1250 - 8s - loss: 1.5638 - accuracy: 0.4370 - val_loss: 1.5079 - val_accuracy: 0.4547\n",
            "Epoch 5/100\n",
            "1250/1250 - 8s - loss: 1.4818 - accuracy: 0.4669 - val_loss: 1.4273 - val_accuracy: 0.4910\n",
            "Epoch 6/100\n",
            "1250/1250 - 8s - loss: 1.4187 - accuracy: 0.4921 - val_loss: 1.4182 - val_accuracy: 0.4986\n",
            "Epoch 7/100\n",
            "1250/1250 - 8s - loss: 1.3708 - accuracy: 0.5130 - val_loss: 1.3578 - val_accuracy: 0.5166\n",
            "Epoch 8/100\n",
            "1250/1250 - 8s - loss: 1.3347 - accuracy: 0.5239 - val_loss: 1.2925 - val_accuracy: 0.5468\n",
            "Epoch 9/100\n",
            "1250/1250 - 8s - loss: 1.2925 - accuracy: 0.5392 - val_loss: 1.2565 - val_accuracy: 0.5567\n",
            "Epoch 10/100\n",
            "1250/1250 - 8s - loss: 1.2539 - accuracy: 0.5564 - val_loss: 1.2288 - val_accuracy: 0.5643\n",
            "Epoch 11/100\n",
            "1250/1250 - 8s - loss: 1.2151 - accuracy: 0.5720 - val_loss: 1.1871 - val_accuracy: 0.5743\n",
            "Epoch 12/100\n",
            "1250/1250 - 8s - loss: 1.1802 - accuracy: 0.5841 - val_loss: 1.1734 - val_accuracy: 0.5845\n",
            "Epoch 13/100\n",
            "1250/1250 - 8s - loss: 1.1552 - accuracy: 0.5920 - val_loss: 1.1285 - val_accuracy: 0.6061\n",
            "Epoch 14/100\n",
            "1250/1250 - 8s - loss: 1.1296 - accuracy: 0.6011 - val_loss: 1.0933 - val_accuracy: 0.6186\n",
            "Epoch 15/100\n",
            "1250/1250 - 8s - loss: 1.1080 - accuracy: 0.6095 - val_loss: 1.1011 - val_accuracy: 0.6147\n",
            "Epoch 16/100\n",
            "1250/1250 - 8s - loss: 1.0839 - accuracy: 0.6171 - val_loss: 1.0892 - val_accuracy: 0.6213\n",
            "Epoch 17/100\n",
            "1250/1250 - 8s - loss: 1.0673 - accuracy: 0.6244 - val_loss: 1.0485 - val_accuracy: 0.6351\n",
            "Epoch 18/100\n",
            "1250/1250 - 8s - loss: 1.0511 - accuracy: 0.6305 - val_loss: 1.0452 - val_accuracy: 0.6364\n",
            "Epoch 19/100\n",
            "1250/1250 - 8s - loss: 1.0340 - accuracy: 0.6343 - val_loss: 1.0371 - val_accuracy: 0.6368\n",
            "Epoch 20/100\n",
            "1250/1250 - 8s - loss: 1.0209 - accuracy: 0.6417 - val_loss: 1.0174 - val_accuracy: 0.6436\n",
            "Epoch 21/100\n",
            "1250/1250 - 8s - loss: 1.0019 - accuracy: 0.6507 - val_loss: 1.0056 - val_accuracy: 0.6485\n",
            "Epoch 22/100\n",
            "1250/1250 - 8s - loss: 0.9903 - accuracy: 0.6543 - val_loss: 0.9947 - val_accuracy: 0.6515\n",
            "Epoch 23/100\n",
            "1250/1250 - 8s - loss: 0.9786 - accuracy: 0.6565 - val_loss: 0.9706 - val_accuracy: 0.6622\n",
            "Epoch 24/100\n",
            "1250/1250 - 8s - loss: 0.9632 - accuracy: 0.6604 - val_loss: 0.9530 - val_accuracy: 0.6666\n",
            "Epoch 25/100\n",
            "1250/1250 - 8s - loss: 0.9499 - accuracy: 0.6692 - val_loss: 1.0108 - val_accuracy: 0.6480\n",
            "Epoch 26/100\n",
            "1250/1250 - 8s - loss: 0.9403 - accuracy: 0.6684 - val_loss: 0.9393 - val_accuracy: 0.6735\n",
            "Epoch 27/100\n",
            "1250/1250 - 8s - loss: 0.9297 - accuracy: 0.6757 - val_loss: 0.9231 - val_accuracy: 0.6763\n",
            "Epoch 28/100\n",
            "1250/1250 - 8s - loss: 0.9199 - accuracy: 0.6776 - val_loss: 0.9709 - val_accuracy: 0.6612\n",
            "Epoch 29/100\n",
            "1250/1250 - 8s - loss: 0.9064 - accuracy: 0.6831 - val_loss: 0.9160 - val_accuracy: 0.6827\n",
            "Epoch 30/100\n",
            "1250/1250 - 8s - loss: 0.8948 - accuracy: 0.6862 - val_loss: 0.9013 - val_accuracy: 0.6840\n",
            "Epoch 31/100\n",
            "1250/1250 - 8s - loss: 0.8859 - accuracy: 0.6920 - val_loss: 0.8873 - val_accuracy: 0.6887\n",
            "Epoch 32/100\n",
            "1250/1250 - 8s - loss: 0.8743 - accuracy: 0.6966 - val_loss: 0.8885 - val_accuracy: 0.6880\n",
            "Epoch 33/100\n",
            "1250/1250 - 8s - loss: 0.8649 - accuracy: 0.6991 - val_loss: 0.8800 - val_accuracy: 0.6902\n",
            "Epoch 34/100\n",
            "1250/1250 - 8s - loss: 0.8565 - accuracy: 0.7010 - val_loss: 0.8837 - val_accuracy: 0.6905\n",
            "Epoch 35/100\n",
            "1250/1250 - 8s - loss: 0.8478 - accuracy: 0.7046 - val_loss: 0.8668 - val_accuracy: 0.6975\n",
            "Epoch 36/100\n",
            "1250/1250 - 8s - loss: 0.8403 - accuracy: 0.7067 - val_loss: 0.8629 - val_accuracy: 0.6964\n",
            "Epoch 37/100\n",
            "1250/1250 - 8s - loss: 0.8279 - accuracy: 0.7093 - val_loss: 0.8572 - val_accuracy: 0.7010\n",
            "Epoch 38/100\n",
            "1250/1250 - 8s - loss: 0.8181 - accuracy: 0.7155 - val_loss: 0.8579 - val_accuracy: 0.6997\n",
            "Epoch 39/100\n",
            "1250/1250 - 8s - loss: 0.8089 - accuracy: 0.7185 - val_loss: 0.8396 - val_accuracy: 0.7078\n",
            "Epoch 40/100\n",
            "1250/1250 - 8s - loss: 0.8044 - accuracy: 0.7185 - val_loss: 0.8307 - val_accuracy: 0.7095\n",
            "Epoch 41/100\n",
            "1250/1250 - 8s - loss: 0.7927 - accuracy: 0.7235 - val_loss: 0.8228 - val_accuracy: 0.7126\n",
            "Epoch 42/100\n",
            "1250/1250 - 8s - loss: 0.7874 - accuracy: 0.7252 - val_loss: 0.8241 - val_accuracy: 0.7106\n",
            "Epoch 43/100\n",
            "1250/1250 - 8s - loss: 0.7748 - accuracy: 0.7312 - val_loss: 0.8121 - val_accuracy: 0.7170\n",
            "Epoch 44/100\n",
            "1250/1250 - 8s - loss: 0.7689 - accuracy: 0.7334 - val_loss: 0.8199 - val_accuracy: 0.7133\n",
            "Epoch 45/100\n",
            "1250/1250 - 8s - loss: 0.7616 - accuracy: 0.7359 - val_loss: 0.8040 - val_accuracy: 0.7189\n",
            "Epoch 46/100\n",
            "1250/1250 - 8s - loss: 0.7555 - accuracy: 0.7361 - val_loss: 0.8122 - val_accuracy: 0.7162\n",
            "Epoch 47/100\n",
            "1250/1250 - 8s - loss: 0.7476 - accuracy: 0.7419 - val_loss: 0.7946 - val_accuracy: 0.7216\n",
            "Epoch 48/100\n",
            "1250/1250 - 8s - loss: 0.7402 - accuracy: 0.7431 - val_loss: 0.7961 - val_accuracy: 0.7214\n",
            "Epoch 49/100\n",
            "1250/1250 - 8s - loss: 0.7339 - accuracy: 0.7463 - val_loss: 0.7912 - val_accuracy: 0.7219\n",
            "Epoch 50/100\n",
            "1250/1250 - 8s - loss: 0.7284 - accuracy: 0.7439 - val_loss: 0.7834 - val_accuracy: 0.7269\n",
            "Epoch 51/100\n",
            "1250/1250 - 8s - loss: 0.7186 - accuracy: 0.7507 - val_loss: 0.7849 - val_accuracy: 0.7274\n",
            "Epoch 52/100\n",
            "1250/1250 - 8s - loss: 0.7139 - accuracy: 0.7529 - val_loss: 0.8014 - val_accuracy: 0.7192\n",
            "Epoch 53/100\n",
            "1250/1250 - 8s - loss: 0.7048 - accuracy: 0.7550 - val_loss: 0.7766 - val_accuracy: 0.7300\n",
            "Epoch 54/100\n",
            "1250/1250 - 8s - loss: 0.7022 - accuracy: 0.7564 - val_loss: 0.7684 - val_accuracy: 0.7284\n",
            "Epoch 55/100\n",
            "1250/1250 - 8s - loss: 0.6967 - accuracy: 0.7580 - val_loss: 0.7707 - val_accuracy: 0.7313\n",
            "Epoch 56/100\n",
            "1250/1250 - 8s - loss: 0.6879 - accuracy: 0.7607 - val_loss: 0.7664 - val_accuracy: 0.7318\n",
            "Epoch 57/100\n",
            "1250/1250 - 8s - loss: 0.6822 - accuracy: 0.7598 - val_loss: 0.7646 - val_accuracy: 0.7334\n",
            "Epoch 58/100\n",
            "1250/1250 - 8s - loss: 0.6742 - accuracy: 0.7654 - val_loss: 0.7573 - val_accuracy: 0.7370\n",
            "Epoch 59/100\n",
            "1250/1250 - 8s - loss: 0.6667 - accuracy: 0.7685 - val_loss: 0.7558 - val_accuracy: 0.7378\n",
            "Epoch 60/100\n",
            "1250/1250 - 8s - loss: 0.6613 - accuracy: 0.7697 - val_loss: 0.7493 - val_accuracy: 0.7407\n",
            "Epoch 61/100\n",
            "1250/1250 - 8s - loss: 0.6566 - accuracy: 0.7739 - val_loss: 0.7507 - val_accuracy: 0.7386\n",
            "Epoch 62/100\n",
            "1250/1250 - 8s - loss: 0.6464 - accuracy: 0.7775 - val_loss: 0.7476 - val_accuracy: 0.7418\n",
            "Epoch 63/100\n",
            "1250/1250 - 8s - loss: 0.6446 - accuracy: 0.7749 - val_loss: 0.7407 - val_accuracy: 0.7456\n",
            "Epoch 64/100\n",
            "1250/1250 - 8s - loss: 0.6423 - accuracy: 0.7773 - val_loss: 0.7537 - val_accuracy: 0.7382\n",
            "Epoch 65/100\n",
            "1250/1250 - 8s - loss: 0.6352 - accuracy: 0.7786 - val_loss: 0.7421 - val_accuracy: 0.7451\n",
            "Epoch 66/100\n",
            "1250/1250 - 8s - loss: 0.6266 - accuracy: 0.7818 - val_loss: 0.7486 - val_accuracy: 0.7394\n",
            "Epoch 67/100\n",
            "1250/1250 - 8s - loss: 0.6249 - accuracy: 0.7817 - val_loss: 0.7504 - val_accuracy: 0.7412\n",
            "Epoch 68/100\n",
            "1250/1250 - 8s - loss: 0.6166 - accuracy: 0.7878 - val_loss: 0.7501 - val_accuracy: 0.7405\n",
            "Epoch 69/100\n",
            "1250/1250 - 8s - loss: 0.6133 - accuracy: 0.7877 - val_loss: 0.7351 - val_accuracy: 0.7460\n",
            "Epoch 70/100\n",
            "1250/1250 - 8s - loss: 0.6064 - accuracy: 0.7900 - val_loss: 0.7364 - val_accuracy: 0.7449\n",
            "Epoch 71/100\n",
            "1250/1250 - 8s - loss: 0.6081 - accuracy: 0.7882 - val_loss: 0.7298 - val_accuracy: 0.7487\n",
            "Epoch 72/100\n",
            "1250/1250 - 8s - loss: 0.6022 - accuracy: 0.7890 - val_loss: 0.7314 - val_accuracy: 0.7485\n",
            "Epoch 73/100\n",
            "1250/1250 - 8s - loss: 0.5931 - accuracy: 0.7932 - val_loss: 0.7231 - val_accuracy: 0.7521\n",
            "Epoch 74/100\n",
            "1250/1250 - 8s - loss: 0.5899 - accuracy: 0.7926 - val_loss: 0.7255 - val_accuracy: 0.7492\n",
            "Epoch 75/100\n",
            "1250/1250 - 8s - loss: 0.5836 - accuracy: 0.7978 - val_loss: 0.7278 - val_accuracy: 0.7502\n",
            "Epoch 76/100\n",
            "1250/1250 - 8s - loss: 0.5785 - accuracy: 0.7980 - val_loss: 0.7244 - val_accuracy: 0.7518\n",
            "Epoch 77/100\n",
            "1250/1250 - 8s - loss: 0.5756 - accuracy: 0.8015 - val_loss: 0.7214 - val_accuracy: 0.7528\n",
            "Epoch 78/100\n",
            "1250/1250 - 8s - loss: 0.5688 - accuracy: 0.8025 - val_loss: 0.7199 - val_accuracy: 0.7536\n",
            "Epoch 79/100\n",
            "1250/1250 - 8s - loss: 0.5638 - accuracy: 0.8035 - val_loss: 0.7380 - val_accuracy: 0.7472\n",
            "Epoch 80/100\n",
            "1250/1250 - 8s - loss: 0.5606 - accuracy: 0.8045 - val_loss: 0.7190 - val_accuracy: 0.7559\n",
            "Epoch 81/100\n",
            "1250/1250 - 8s - loss: 0.5520 - accuracy: 0.8094 - val_loss: 0.7132 - val_accuracy: 0.7545\n",
            "Epoch 82/100\n",
            "1250/1250 - 8s - loss: 0.5499 - accuracy: 0.8114 - val_loss: 0.7134 - val_accuracy: 0.7561\n",
            "Epoch 83/100\n",
            "1250/1250 - 8s - loss: 0.5438 - accuracy: 0.8107 - val_loss: 0.7232 - val_accuracy: 0.7532\n",
            "Epoch 84/100\n",
            "1250/1250 - 8s - loss: 0.5384 - accuracy: 0.8123 - val_loss: 0.7305 - val_accuracy: 0.7492\n",
            "Epoch 85/100\n",
            "1250/1250 - 8s - loss: 0.5358 - accuracy: 0.8145 - val_loss: 0.7186 - val_accuracy: 0.7564\n",
            "Epoch 86/100\n",
            "1250/1250 - 8s - loss: 0.5365 - accuracy: 0.8120 - val_loss: 0.7156 - val_accuracy: 0.7548\n",
            "Epoch 87/100\n",
            "1250/1250 - 8s - loss: 0.5265 - accuracy: 0.8179 - val_loss: 0.7096 - val_accuracy: 0.7571\n",
            "Epoch 88/100\n",
            "1250/1250 - 8s - loss: 0.5222 - accuracy: 0.8189 - val_loss: 0.7097 - val_accuracy: 0.7595\n",
            "Epoch 89/100\n",
            "1250/1250 - 8s - loss: 0.5170 - accuracy: 0.8207 - val_loss: 0.7243 - val_accuracy: 0.7525\n",
            "Epoch 90/100\n",
            "1250/1250 - 8s - loss: 0.5106 - accuracy: 0.8225 - val_loss: 0.7077 - val_accuracy: 0.7593\n",
            "Epoch 91/100\n",
            "1250/1250 - 8s - loss: 0.5091 - accuracy: 0.8224 - val_loss: 0.7123 - val_accuracy: 0.7584\n",
            "Epoch 92/100\n",
            "1250/1250 - 9s - loss: 0.5091 - accuracy: 0.8245 - val_loss: 0.7165 - val_accuracy: 0.7573\n",
            "Epoch 93/100\n",
            "1250/1250 - 8s - loss: 0.4981 - accuracy: 0.8278 - val_loss: 0.7071 - val_accuracy: 0.7613\n",
            "Epoch 94/100\n",
            "1250/1250 - 8s - loss: 0.5002 - accuracy: 0.8268 - val_loss: 0.7064 - val_accuracy: 0.7613\n",
            "Epoch 95/100\n",
            "1250/1250 - 8s - loss: 0.4912 - accuracy: 0.8284 - val_loss: 0.7182 - val_accuracy: 0.7567\n",
            "Epoch 96/100\n",
            "1250/1250 - 8s - loss: 0.4887 - accuracy: 0.8312 - val_loss: 0.7195 - val_accuracy: 0.7553\n",
            "Epoch 97/100\n",
            "1250/1250 - 8s - loss: 0.4869 - accuracy: 0.8320 - val_loss: 0.7077 - val_accuracy: 0.7583\n",
            "Epoch 98/100\n",
            "1250/1250 - 8s - loss: 0.4816 - accuracy: 0.8319 - val_loss: 0.7077 - val_accuracy: 0.7596\n",
            "Epoch 99/100\n",
            "1250/1250 - 8s - loss: 0.4769 - accuracy: 0.8342 - val_loss: 0.7092 - val_accuracy: 0.7626\n",
            "Epoch 100/100\n",
            "1250/1250 - 8s - loss: 0.4744 - accuracy: 0.8342 - val_loss: 0.7128 - val_accuracy: 0.7590\n"
          ],
          "name": "stdout"
        }
      ]
    },
    {
      "cell_type": "code",
      "metadata": {
        "colab": {
          "base_uri": "https://localhost:8080/",
          "height": 296
        },
        "id": "XQ4nUyfzrOqp",
        "outputId": "f7a35082-3a02-478c-e15c-0aca9a3498a4"
      },
      "source": [
        "plt.plot(final_history.history['loss'], label='train_loss')\n",
        "plt.plot(final_history.history['val_loss'], label = 'val_loss')\n",
        "plt.xlabel('Epoch')\n",
        "plt.ylabel('Loss')\n",
        "#plt.ylim([0.3, 1])\n",
        "plt.legend(loc='upper right')"
      ],
      "execution_count": null,
      "outputs": [
        {
          "output_type": "execute_result",
          "data": {
            "text/plain": [
              "<matplotlib.legend.Legend at 0x7f5c6cf75b00>"
            ]
          },
          "metadata": {
            "tags": []
          },
          "execution_count": 10
        },
        {
          "output_type": "display_data",
          "data": {
            "image/png": "[encoded data removed]",
            "text/plain": [
              "<Figure size 432x288 with 1 Axes>"
            ]
          },
          "metadata": {
            "tags": [],
            "needs_background": "light"
          }
        }
      ]
    },
    {
      "cell_type": "code",
      "metadata": {
        "colab": {
          "base_uri": "https://localhost:8080/",
          "height": 317
        },
        "id": "AhXBNFdErOqp",
        "outputId": "ee95783e-cb89-45f1-f831-9190bbe45724"
      },
      "source": [
        "plt.plot(final_history.history['accuracy'], label='train')\n",
        "plt.plot(final_history.history['val_accuracy'], label = 'val')\n",
        "plt.xlabel('Epoch')\n",
        "plt.ylabel('Accuracy')\n",
        "plt.ylim([0.1, 1])\n",
        "plt.legend(loc='lower right')\n",
        "\n",
        "test_loss, test_acc = final_model.evaluate(x_test_norm,  y_test, verbose=2)\n",
        "print('Test Loss: ',test_loss,' , Test Accuracy: ',test_acc)"
      ],
      "execution_count": null,
      "outputs": [
        {
          "output_type": "stream",
          "text": [
            "313/313 - 1s - loss: 0.7289 - accuracy: 0.7576\n",
            "Test Loss:  0.7288649678230286  , Test Accuracy:  0.7576000094413757\n"
          ],
          "name": "stdout"
        },
        {
          "output_type": "display_data",
          "data": {
            "image/png": "[encoded data removed]",
            "text/plain": [
              "<Figure size 432x288 with 1 Axes>"
            ]
          },
          "metadata": {
            "tags": [],
            "needs_background": "light"
          }
        }
      ]
    },
    {
      "cell_type": "markdown",
      "metadata": {
        "id": "fJzNvO087JJH"
      },
      "source": [
        "### Accuracy is 75.76%, Finally we get the model with lowest loss and highest accuracy and with very low overfitting with the help of Dropout, Normalized data, Tanh Activation function, kernal size 4, SGD optimizer with 0.4 mommentum and glorot_Normal(Xavier) kernel initializer. "
      ]
    },
    {
      "cell_type": "code",
      "metadata": {
        "id": "WQS3CUpHdYxu"
      },
      "source": [
        ""
      ],
      "execution_count": null,
      "outputs": []
    }
  ]
}